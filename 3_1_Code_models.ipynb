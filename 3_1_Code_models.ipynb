{
  "cells": [
    {
      "cell_type": "markdown",
      "metadata": {
        "id": "iNcg7mL5miN3"
      },
      "source": [
        "## Importamos librerías"
      ]
    },
    {
      "cell_type": "code",
      "execution_count": null,
      "metadata": {
        "id": "RdM3KqDBmiN4"
      },
      "outputs": [],
      "source": [
        "# Manipulación de datos\n",
        "\n",
        "import numpy as np\n",
        "import pandas as pd\n",
        "from matplotlib import pyplot as plt\n",
        "import matplotlib.pyplot as plt\n",
        "import seaborn as sns\n",
        "\n",
        "# Librerías para clasificadores\n",
        "\n",
        "from sklearn.linear_model import LogisticRegression\n",
        "from sklearn.svm import SVC # Support Vector Classification model\n",
        "from sklearn.neighbors import KNeighborsClassifier\n",
        "from sklearn.tree import DecisionTreeClassifier, plot_tree\n",
        "from sklearn.ensemble import RandomForestClassifier, AdaBoostClassifier, GradientBoostingClassifier, StackingClassifier, RandomForestClassifier\n",
        "from xgboost import XGBClassifier, XGBRegressor\n",
        "from sklearn.naive_bayes import GaussianNB\n",
        "\n",
        "# Otras librerías\n",
        "\n",
        "from sklearn.model_selection import train_test_split, RepeatedKFold, RepeatedStratifiedKFold, GridSearchCV, cross_val_score # for splitting the data into train and test samples\n",
        "from sklearn.metrics import accuracy_score, classification_report, confusion_matrix, roc_curve, auc  # for model evaluation metrics\n",
        "from sklearn import metrics\n",
        "from sklearn.preprocessing import StandardScaler, MinMaxScaler, LabelEncoder\n",
        "from imblearn.over_sampling import SMOTE\n",
        "from imblearn.under_sampling import RandomUnderSampler\n",
        "from imblearn.pipeline import Pipeline\n",
        "from tabulate import tabulate\n",
        "import xgboost as xgb\n",
        "\n",
        "# MLP\n",
        "from tensorflow.keras.models import Sequential, model_from_json\n",
        "from tensorflow.keras.layers import Dense, BatchNormalization, Dropout\n",
        "from keras.optimizers import Adam\n",
        "from tensorflow.keras.metrics import Recall\n",
        "from tensorflow.keras.callbacks import EarlyStopping\n",
        "\n"
      ]
    },
    {
      "cell_type": "markdown",
      "metadata": {
        "id": "H1MHq9BXl_CW"
      },
      "source": [
        "## Conectar con Drive"
      ]
    },
    {
      "cell_type": "code",
      "execution_count": null,
      "metadata": {
        "colab": {
          "base_uri": "https://localhost:8080/"
        },
        "id": "bQGyTVgEm0Yg",
        "outputId": "f822d493-fa03-4130-8a4d-1650a813617e"
      },
      "outputs": [
        {
          "output_type": "stream",
          "name": "stdout",
          "text": [
            "Mounted at /content/drive\n"
          ]
        }
      ],
      "source": [
        "from google.colab import drive\n",
        "drive.mount('/content/drive')"
      ]
    },
    {
      "cell_type": "markdown",
      "metadata": {
        "id": "vqQ9rLXvmiN7"
      },
      "source": [
        "## Cargamos los datos"
      ]
    },
    {
      "cell_type": "code",
      "execution_count": null,
      "metadata": {
        "colab": {
          "base_uri": "https://localhost:8080/",
          "height": 273
        },
        "id": "YQYJ5KH_miN7",
        "outputId": "97df6c59-ba7d-43e1-a8af-6804a0dc14f4"
      },
      "outputs": [
        {
          "output_type": "execute_result",
          "data": {
            "text/plain": [
              "   creditLimit  availableMoney  transactionAmount  posEntryMode  \\\n",
              "0         5000          5000.0              98.55           2.0   \n",
              "1         5000          5000.0              74.51           9.0   \n",
              "2         5000          5000.0               7.47           9.0   \n",
              "3         5000          5000.0               7.47           9.0   \n",
              "4         5000          5000.0              71.18           2.0   \n",
              "\n",
              "   posConditionCode  currentBalance  isFraud  CVV_match  transactionYear  \\\n",
              "0               1.0             0.0        0          1             2016   \n",
              "1               1.0             0.0        0          1             2016   \n",
              "2               1.0             0.0        0          1             2016   \n",
              "3               1.0             0.0        0          1             2016   \n",
              "4               1.0             0.0        0          1             2016   \n",
              "\n",
              "   transactionMonth  ...  acqCountry_PR  acqCountry_US  \\\n",
              "0                 8  ...              0              1   \n",
              "1                10  ...              0              1   \n",
              "2                11  ...              0              1   \n",
              "3                12  ...              0              1   \n",
              "4                 3  ...              0              1   \n",
              "\n",
              "   expirationDateKeyInMatch_False  expirationDateKeyInMatch_True  \\\n",
              "0                               1                              0   \n",
              "1                               1                              0   \n",
              "2                               1                              0   \n",
              "3                               1                              0   \n",
              "4                               1                              0   \n",
              "\n",
              "   cardPresent_False  cardPresent_True  transactionType_ADDRESS_VERIFICATION  \\\n",
              "0                  1                 0                                     0   \n",
              "1                  0                 1                                     0   \n",
              "2                  1                 0                                     0   \n",
              "3                  1                 0                                     0   \n",
              "4                  0                 1                                     0   \n",
              "\n",
              "   transactionType_Información no disponible  transactionType_PURCHASE  \\\n",
              "0                                          0                         1   \n",
              "1                                          0                         1   \n",
              "2                                          0                         1   \n",
              "3                                          0                         1   \n",
              "4                                          0                         1   \n",
              "\n",
              "   transactionType_REVERSAL  \n",
              "0                         0  \n",
              "1                         0  \n",
              "2                         0  \n",
              "3                         0  \n",
              "4                         0  \n",
              "\n",
              "[5 rows x 104 columns]"
            ],
            "text/html": [
              "\n",
              "  <div id=\"df-2f820052-2d7e-4a08-9075-8ec16130e4b9\" class=\"colab-df-container\">\n",
              "    <div>\n",
              "<style scoped>\n",
              "    .dataframe tbody tr th:only-of-type {\n",
              "        vertical-align: middle;\n",
              "    }\n",
              "\n",
              "    .dataframe tbody tr th {\n",
              "        vertical-align: top;\n",
              "    }\n",
              "\n",
              "    .dataframe thead th {\n",
              "        text-align: right;\n",
              "    }\n",
              "</style>\n",
              "<table border=\"1\" class=\"dataframe\">\n",
              "  <thead>\n",
              "    <tr style=\"text-align: right;\">\n",
              "      <th></th>\n",
              "      <th>creditLimit</th>\n",
              "      <th>availableMoney</th>\n",
              "      <th>transactionAmount</th>\n",
              "      <th>posEntryMode</th>\n",
              "      <th>posConditionCode</th>\n",
              "      <th>currentBalance</th>\n",
              "      <th>isFraud</th>\n",
              "      <th>CVV_match</th>\n",
              "      <th>transactionYear</th>\n",
              "      <th>transactionMonth</th>\n",
              "      <th>...</th>\n",
              "      <th>acqCountry_PR</th>\n",
              "      <th>acqCountry_US</th>\n",
              "      <th>expirationDateKeyInMatch_False</th>\n",
              "      <th>expirationDateKeyInMatch_True</th>\n",
              "      <th>cardPresent_False</th>\n",
              "      <th>cardPresent_True</th>\n",
              "      <th>transactionType_ADDRESS_VERIFICATION</th>\n",
              "      <th>transactionType_Información no disponible</th>\n",
              "      <th>transactionType_PURCHASE</th>\n",
              "      <th>transactionType_REVERSAL</th>\n",
              "    </tr>\n",
              "  </thead>\n",
              "  <tbody>\n",
              "    <tr>\n",
              "      <th>0</th>\n",
              "      <td>5000</td>\n",
              "      <td>5000.0</td>\n",
              "      <td>98.55</td>\n",
              "      <td>2.0</td>\n",
              "      <td>1.0</td>\n",
              "      <td>0.0</td>\n",
              "      <td>0</td>\n",
              "      <td>1</td>\n",
              "      <td>2016</td>\n",
              "      <td>8</td>\n",
              "      <td>...</td>\n",
              "      <td>0</td>\n",
              "      <td>1</td>\n",
              "      <td>1</td>\n",
              "      <td>0</td>\n",
              "      <td>1</td>\n",
              "      <td>0</td>\n",
              "      <td>0</td>\n",
              "      <td>0</td>\n",
              "      <td>1</td>\n",
              "      <td>0</td>\n",
              "    </tr>\n",
              "    <tr>\n",
              "      <th>1</th>\n",
              "      <td>5000</td>\n",
              "      <td>5000.0</td>\n",
              "      <td>74.51</td>\n",
              "      <td>9.0</td>\n",
              "      <td>1.0</td>\n",
              "      <td>0.0</td>\n",
              "      <td>0</td>\n",
              "      <td>1</td>\n",
              "      <td>2016</td>\n",
              "      <td>10</td>\n",
              "      <td>...</td>\n",
              "      <td>0</td>\n",
              "      <td>1</td>\n",
              "      <td>1</td>\n",
              "      <td>0</td>\n",
              "      <td>0</td>\n",
              "      <td>1</td>\n",
              "      <td>0</td>\n",
              "      <td>0</td>\n",
              "      <td>1</td>\n",
              "      <td>0</td>\n",
              "    </tr>\n",
              "    <tr>\n",
              "      <th>2</th>\n",
              "      <td>5000</td>\n",
              "      <td>5000.0</td>\n",
              "      <td>7.47</td>\n",
              "      <td>9.0</td>\n",
              "      <td>1.0</td>\n",
              "      <td>0.0</td>\n",
              "      <td>0</td>\n",
              "      <td>1</td>\n",
              "      <td>2016</td>\n",
              "      <td>11</td>\n",
              "      <td>...</td>\n",
              "      <td>0</td>\n",
              "      <td>1</td>\n",
              "      <td>1</td>\n",
              "      <td>0</td>\n",
              "      <td>1</td>\n",
              "      <td>0</td>\n",
              "      <td>0</td>\n",
              "      <td>0</td>\n",
              "      <td>1</td>\n",
              "      <td>0</td>\n",
              "    </tr>\n",
              "    <tr>\n",
              "      <th>3</th>\n",
              "      <td>5000</td>\n",
              "      <td>5000.0</td>\n",
              "      <td>7.47</td>\n",
              "      <td>9.0</td>\n",
              "      <td>1.0</td>\n",
              "      <td>0.0</td>\n",
              "      <td>0</td>\n",
              "      <td>1</td>\n",
              "      <td>2016</td>\n",
              "      <td>12</td>\n",
              "      <td>...</td>\n",
              "      <td>0</td>\n",
              "      <td>1</td>\n",
              "      <td>1</td>\n",
              "      <td>0</td>\n",
              "      <td>1</td>\n",
              "      <td>0</td>\n",
              "      <td>0</td>\n",
              "      <td>0</td>\n",
              "      <td>1</td>\n",
              "      <td>0</td>\n",
              "    </tr>\n",
              "    <tr>\n",
              "      <th>4</th>\n",
              "      <td>5000</td>\n",
              "      <td>5000.0</td>\n",
              "      <td>71.18</td>\n",
              "      <td>2.0</td>\n",
              "      <td>1.0</td>\n",
              "      <td>0.0</td>\n",
              "      <td>0</td>\n",
              "      <td>1</td>\n",
              "      <td>2016</td>\n",
              "      <td>3</td>\n",
              "      <td>...</td>\n",
              "      <td>0</td>\n",
              "      <td>1</td>\n",
              "      <td>1</td>\n",
              "      <td>0</td>\n",
              "      <td>0</td>\n",
              "      <td>1</td>\n",
              "      <td>0</td>\n",
              "      <td>0</td>\n",
              "      <td>1</td>\n",
              "      <td>0</td>\n",
              "    </tr>\n",
              "  </tbody>\n",
              "</table>\n",
              "<p>5 rows × 104 columns</p>\n",
              "</div>\n",
              "    <div class=\"colab-df-buttons\">\n",
              "\n",
              "  <div class=\"colab-df-container\">\n",
              "    <button class=\"colab-df-convert\" onclick=\"convertToInteractive('df-2f820052-2d7e-4a08-9075-8ec16130e4b9')\"\n",
              "            title=\"Convert this dataframe to an interactive table.\"\n",
              "            style=\"display:none;\">\n",
              "\n",
              "  <svg xmlns=\"http://www.w3.org/2000/svg\" height=\"24px\" viewBox=\"0 -960 960 960\">\n",
              "    <path d=\"M120-120v-720h720v720H120Zm60-500h600v-160H180v160Zm220 220h160v-160H400v160Zm0 220h160v-160H400v160ZM180-400h160v-160H180v160Zm440 0h160v-160H620v160ZM180-180h160v-160H180v160Zm440 0h160v-160H620v160Z\"/>\n",
              "  </svg>\n",
              "    </button>\n",
              "\n",
              "  <style>\n",
              "    .colab-df-container {\n",
              "      display:flex;\n",
              "      gap: 12px;\n",
              "    }\n",
              "\n",
              "    .colab-df-convert {\n",
              "      background-color: #E8F0FE;\n",
              "      border: none;\n",
              "      border-radius: 50%;\n",
              "      cursor: pointer;\n",
              "      display: none;\n",
              "      fill: #1967D2;\n",
              "      height: 32px;\n",
              "      padding: 0 0 0 0;\n",
              "      width: 32px;\n",
              "    }\n",
              "\n",
              "    .colab-df-convert:hover {\n",
              "      background-color: #E2EBFA;\n",
              "      box-shadow: 0px 1px 2px rgba(60, 64, 67, 0.3), 0px 1px 3px 1px rgba(60, 64, 67, 0.15);\n",
              "      fill: #174EA6;\n",
              "    }\n",
              "\n",
              "    .colab-df-buttons div {\n",
              "      margin-bottom: 4px;\n",
              "    }\n",
              "\n",
              "    [theme=dark] .colab-df-convert {\n",
              "      background-color: #3B4455;\n",
              "      fill: #D2E3FC;\n",
              "    }\n",
              "\n",
              "    [theme=dark] .colab-df-convert:hover {\n",
              "      background-color: #434B5C;\n",
              "      box-shadow: 0px 1px 3px 1px rgba(0, 0, 0, 0.15);\n",
              "      filter: drop-shadow(0px 1px 2px rgba(0, 0, 0, 0.3));\n",
              "      fill: #FFFFFF;\n",
              "    }\n",
              "  </style>\n",
              "\n",
              "    <script>\n",
              "      const buttonEl =\n",
              "        document.querySelector('#df-2f820052-2d7e-4a08-9075-8ec16130e4b9 button.colab-df-convert');\n",
              "      buttonEl.style.display =\n",
              "        google.colab.kernel.accessAllowed ? 'block' : 'none';\n",
              "\n",
              "      async function convertToInteractive(key) {\n",
              "        const element = document.querySelector('#df-2f820052-2d7e-4a08-9075-8ec16130e4b9');\n",
              "        const dataTable =\n",
              "          await google.colab.kernel.invokeFunction('convertToInteractive',\n",
              "                                                    [key], {});\n",
              "        if (!dataTable) return;\n",
              "\n",
              "        const docLinkHtml = 'Like what you see? Visit the ' +\n",
              "          '<a target=\"_blank\" href=https://colab.research.google.com/notebooks/data_table.ipynb>data table notebook</a>'\n",
              "          + ' to learn more about interactive tables.';\n",
              "        element.innerHTML = '';\n",
              "        dataTable['output_type'] = 'display_data';\n",
              "        await google.colab.output.renderOutput(dataTable, element);\n",
              "        const docLink = document.createElement('div');\n",
              "        docLink.innerHTML = docLinkHtml;\n",
              "        element.appendChild(docLink);\n",
              "      }\n",
              "    </script>\n",
              "  </div>\n",
              "\n",
              "\n",
              "<div id=\"df-43226f7f-a92d-4cdb-bebc-c36d25a288ec\">\n",
              "  <button class=\"colab-df-quickchart\" onclick=\"quickchart('df-43226f7f-a92d-4cdb-bebc-c36d25a288ec')\"\n",
              "            title=\"Suggest charts\"\n",
              "            style=\"display:none;\">\n",
              "\n",
              "<svg xmlns=\"http://www.w3.org/2000/svg\" height=\"24px\"viewBox=\"0 0 24 24\"\n",
              "     width=\"24px\">\n",
              "    <g>\n",
              "        <path d=\"M19 3H5c-1.1 0-2 .9-2 2v14c0 1.1.9 2 2 2h14c1.1 0 2-.9 2-2V5c0-1.1-.9-2-2-2zM9 17H7v-7h2v7zm4 0h-2V7h2v10zm4 0h-2v-4h2v4z\"/>\n",
              "    </g>\n",
              "</svg>\n",
              "  </button>\n",
              "\n",
              "<style>\n",
              "  .colab-df-quickchart {\n",
              "      --bg-color: #E8F0FE;\n",
              "      --fill-color: #1967D2;\n",
              "      --hover-bg-color: #E2EBFA;\n",
              "      --hover-fill-color: #174EA6;\n",
              "      --disabled-fill-color: #AAA;\n",
              "      --disabled-bg-color: #DDD;\n",
              "  }\n",
              "\n",
              "  [theme=dark] .colab-df-quickchart {\n",
              "      --bg-color: #3B4455;\n",
              "      --fill-color: #D2E3FC;\n",
              "      --hover-bg-color: #434B5C;\n",
              "      --hover-fill-color: #FFFFFF;\n",
              "      --disabled-bg-color: #3B4455;\n",
              "      --disabled-fill-color: #666;\n",
              "  }\n",
              "\n",
              "  .colab-df-quickchart {\n",
              "    background-color: var(--bg-color);\n",
              "    border: none;\n",
              "    border-radius: 50%;\n",
              "    cursor: pointer;\n",
              "    display: none;\n",
              "    fill: var(--fill-color);\n",
              "    height: 32px;\n",
              "    padding: 0;\n",
              "    width: 32px;\n",
              "  }\n",
              "\n",
              "  .colab-df-quickchart:hover {\n",
              "    background-color: var(--hover-bg-color);\n",
              "    box-shadow: 0 1px 2px rgba(60, 64, 67, 0.3), 0 1px 3px 1px rgba(60, 64, 67, 0.15);\n",
              "    fill: var(--button-hover-fill-color);\n",
              "  }\n",
              "\n",
              "  .colab-df-quickchart-complete:disabled,\n",
              "  .colab-df-quickchart-complete:disabled:hover {\n",
              "    background-color: var(--disabled-bg-color);\n",
              "    fill: var(--disabled-fill-color);\n",
              "    box-shadow: none;\n",
              "  }\n",
              "\n",
              "  .colab-df-spinner {\n",
              "    border: 2px solid var(--fill-color);\n",
              "    border-color: transparent;\n",
              "    border-bottom-color: var(--fill-color);\n",
              "    animation:\n",
              "      spin 1s steps(1) infinite;\n",
              "  }\n",
              "\n",
              "  @keyframes spin {\n",
              "    0% {\n",
              "      border-color: transparent;\n",
              "      border-bottom-color: var(--fill-color);\n",
              "      border-left-color: var(--fill-color);\n",
              "    }\n",
              "    20% {\n",
              "      border-color: transparent;\n",
              "      border-left-color: var(--fill-color);\n",
              "      border-top-color: var(--fill-color);\n",
              "    }\n",
              "    30% {\n",
              "      border-color: transparent;\n",
              "      border-left-color: var(--fill-color);\n",
              "      border-top-color: var(--fill-color);\n",
              "      border-right-color: var(--fill-color);\n",
              "    }\n",
              "    40% {\n",
              "      border-color: transparent;\n",
              "      border-right-color: var(--fill-color);\n",
              "      border-top-color: var(--fill-color);\n",
              "    }\n",
              "    60% {\n",
              "      border-color: transparent;\n",
              "      border-right-color: var(--fill-color);\n",
              "    }\n",
              "    80% {\n",
              "      border-color: transparent;\n",
              "      border-right-color: var(--fill-color);\n",
              "      border-bottom-color: var(--fill-color);\n",
              "    }\n",
              "    90% {\n",
              "      border-color: transparent;\n",
              "      border-bottom-color: var(--fill-color);\n",
              "    }\n",
              "  }\n",
              "</style>\n",
              "\n",
              "  <script>\n",
              "    async function quickchart(key) {\n",
              "      const quickchartButtonEl =\n",
              "        document.querySelector('#' + key + ' button');\n",
              "      quickchartButtonEl.disabled = true;  // To prevent multiple clicks.\n",
              "      quickchartButtonEl.classList.add('colab-df-spinner');\n",
              "      try {\n",
              "        const charts = await google.colab.kernel.invokeFunction(\n",
              "            'suggestCharts', [key], {});\n",
              "      } catch (error) {\n",
              "        console.error('Error during call to suggestCharts:', error);\n",
              "      }\n",
              "      quickchartButtonEl.classList.remove('colab-df-spinner');\n",
              "      quickchartButtonEl.classList.add('colab-df-quickchart-complete');\n",
              "    }\n",
              "    (() => {\n",
              "      let quickchartButtonEl =\n",
              "        document.querySelector('#df-43226f7f-a92d-4cdb-bebc-c36d25a288ec button');\n",
              "      quickchartButtonEl.style.display =\n",
              "        google.colab.kernel.accessAllowed ? 'block' : 'none';\n",
              "    })();\n",
              "  </script>\n",
              "</div>\n",
              "    </div>\n",
              "  </div>\n"
            ],
            "application/vnd.google.colaboratory.intrinsic+json": {
              "type": "dataframe",
              "variable_name": "df"
            }
          },
          "metadata": {},
          "execution_count": 3
        }
      ],
      "source": [
        "df = pd.read_csv('/content/drive/MyDrive/UAX/4º/TFG/TFG/Código /transactions_cleaned.csv')\n",
        "df.head()"
      ]
    },
    {
      "cell_type": "markdown",
      "metadata": {
        "id": "9Lv_QYEEmiOa"
      },
      "source": [
        "# Dividir entre X e Y"
      ]
    },
    {
      "cell_type": "code",
      "execution_count": null,
      "metadata": {
        "id": "SqcLwlgRmiOa"
      },
      "outputs": [],
      "source": [
        "X = df.drop(['isFraud'], axis=1)\n",
        "y = df['isFraud']"
      ]
    },
    {
      "cell_type": "code",
      "execution_count": null,
      "metadata": {
        "id": "UQGFMicrmiOa"
      },
      "outputs": [],
      "source": [
        "X_train, X_test, y_train, y_test = train_test_split(X, y, test_size=0.2, random_state=42, stratify=y)"
      ]
    },
    {
      "cell_type": "markdown",
      "metadata": {
        "id": "CSok4T4_Q9FG"
      },
      "source": [
        "# Escalar los datos"
      ]
    },
    {
      "cell_type": "markdown",
      "metadata": {
        "id": "HD8KqlOIRSwS"
      },
      "source": [
        "Se va a proceder a escalar los datos con el objetivo de mejorar la predicción.\n",
        "\n",
        "El objetivo de escalar los datos es reducir la diferencia en la magnitud de los daots para que todas las características aporten valor al modelo.\n",
        "\n",
        "Solo se escalan los valores que no son binarios\n",
        "\n",
        "Se va a usar `StandardScaler`para poder escalar los datos de forma correcta"
      ]
    },
    {
      "cell_type": "code",
      "execution_count": null,
      "metadata": {
        "id": "SOuAR7xyQ-61"
      },
      "outputs": [],
      "source": [
        "scaler = StandardScaler()"
      ]
    },
    {
      "cell_type": "markdown",
      "metadata": {
        "id": "aXGPFOYemWsA"
      },
      "source": [
        "Aplicamos el escalador solo a las columnas no binarias en el entrenamiento y en el conjunto de datos"
      ]
    },
    {
      "cell_type": "code",
      "execution_count": null,
      "metadata": {
        "id": "Yf_nRMLamhmI"
      },
      "outputs": [],
      "source": [
        "columns_no_binary = ['creditLimit', 'availableMoney', 'transactionAmount', 'posEntryMode', 'posConditionCode', 'currentBalance', 'transactionYear', 'transactionMonth', 'transactionDay', 'transactionHour', 'days_since_last_address_change']"
      ]
    },
    {
      "cell_type": "code",
      "execution_count": null,
      "metadata": {
        "id": "nn4zHSASmVou"
      },
      "outputs": [],
      "source": [
        "X_train_scaled = X_train.copy()\n",
        "X_train_scaled[columns_no_binary] = scaler.fit_transform(X_train[columns_no_binary])\n",
        "X_test_scaled = X_test.copy()\n",
        "X_test_scaled[columns_no_binary] = scaler.transform(X_test[columns_no_binary])"
      ]
    },
    {
      "cell_type": "markdown",
      "metadata": {
        "id": "0D96kk2TXvma"
      },
      "source": [
        "### Función curva ROC"
      ]
    },
    {
      "cell_type": "code",
      "execution_count": null,
      "metadata": {
        "id": "QeBFMrhcXzff"
      },
      "outputs": [],
      "source": [
        "def plot_roc_curve(model, X_test, y_test):\n",
        "    \"\"\"\n",
        "    Esta función grafica la curva ROC para un modelo dado y conjunto de prueba.\n",
        "\n",
        "    Args:\n",
        "    model: modelo entrenado de scikit-learn.\n",
        "    X_test: numpy array o dataframe de pandas con los datos de prueba.\n",
        "    y_test: array o serie de pandas con las etiquetas verdaderas.\n",
        "    \"\"\"\n",
        "    # Obtener las probabilidades de las clases\n",
        "    y_scores = model.predict_proba(X_test)[:, 1]\n",
        "\n",
        "    # Calcular FPR, TPR, y umbrales\n",
        "    fpr, tpr, thresholds = roc_curve(y_test, y_scores)\n",
        "\n",
        "    # Calcular el AUC\n",
        "    roc_auc = auc(fpr, tpr)\n",
        "\n",
        "    # Crear la figura para el plot\n",
        "    plt.figure()\n",
        "    plt.plot(fpr, tpr, color='darkorange', lw=2, label='ROC curve (area = %0.2f)' % roc_auc)\n",
        "    plt.plot([0, 1], [0, 1], color='navy', lw=2, linestyle='--')\n",
        "    plt.xlim([0.0, 1.0])\n",
        "    plt.ylim([0.0, 1.05])\n",
        "    plt.xlabel('Tasa de Falsos Positivos')\n",
        "    plt.ylabel('Tasa de Verdaderos Positivos')\n",
        "    plt.legend(loc=\"lower right\", title='Leyenda')\n",
        "    plt.show()\n",
        "\n",
        "    return roc_auc  # Opcional, retorna el AUC en caso de que se quiera utilizar\n"
      ]
    },
    {
      "cell_type": "markdown",
      "metadata": {
        "id": "k0RvH-FqmiOb"
      },
      "source": [
        "# Modelos para la Clasificación"
      ]
    },
    {
      "cell_type": "markdown",
      "metadata": {
        "id": "IZzsLmRBfMpT"
      },
      "source": [
        "Creamos un diccionario, donde vamos a ir guardando los datos de validación de cada modelo"
      ]
    },
    {
      "cell_type": "code",
      "execution_count": null,
      "metadata": {
        "id": "vg4PDrpbfS9I"
      },
      "outputs": [],
      "source": [
        "results = {}"
      ]
    },
    {
      "cell_type": "markdown",
      "metadata": {
        "id": "jeRypAAOmiOb"
      },
      "source": [
        "## Regresión Logística"
      ]
    },
    {
      "cell_type": "code",
      "execution_count": null,
      "metadata": {
        "id": "vpkTl98YmeIm"
      },
      "outputs": [],
      "source": [
        "from sklearn.model_selection import GridSearchCV"
      ]
    },
    {
      "cell_type": "code",
      "execution_count": null,
      "metadata": {
        "id": "53ywrlhcmgzG"
      },
      "outputs": [],
      "source": [
        "# Definir el modelo de Regresión Logística\n",
        "model_LR = LogisticRegression()\n",
        "\n",
        "# Definir los parámetros que deseas explorar en Grid Search\n",
        "parameters = {\n",
        "    'penalty': ['l1', 'l2'],         # Tipo de regularización (L1 y L2)\n",
        "    'C': [0.001, 0.01, 0.1, 1, 10]   # Parámetro de regularización\n",
        "}"
      ]
    },
    {
      "cell_type": "code",
      "execution_count": null,
      "metadata": {
        "colab": {
          "base_uri": "https://localhost:8080/",
          "height": 1000
        },
        "id": "tLZ4MZUPmgrI",
        "outputId": "6ea2f277-a8b8-4431-c33d-87e2e3a4fa51"
      },
      "outputs": [
        {
          "name": "stderr",
          "output_type": "stream",
          "text": [
            "/usr/local/lib/python3.10/dist-packages/sklearn/linear_model/_logistic.py:458: ConvergenceWarning: lbfgs failed to converge (status=1):\n",
            "STOP: TOTAL NO. of ITERATIONS REACHED LIMIT.\n",
            "\n",
            "Increase the number of iterations (max_iter) or scale the data as shown in:\n",
            "    https://scikit-learn.org/stable/modules/preprocessing.html\n",
            "Please also refer to the documentation for alternative solver options:\n",
            "    https://scikit-learn.org/stable/modules/linear_model.html#logistic-regression\n",
            "  n_iter_i = _check_optimize_result(\n",
            "/usr/local/lib/python3.10/dist-packages/sklearn/linear_model/_logistic.py:458: ConvergenceWarning: lbfgs failed to converge (status=1):\n",
            "STOP: TOTAL NO. of ITERATIONS REACHED LIMIT.\n",
            "\n",
            "Increase the number of iterations (max_iter) or scale the data as shown in:\n",
            "    https://scikit-learn.org/stable/modules/preprocessing.html\n",
            "Please also refer to the documentation for alternative solver options:\n",
            "    https://scikit-learn.org/stable/modules/linear_model.html#logistic-regression\n",
            "  n_iter_i = _check_optimize_result(\n",
            "/usr/local/lib/python3.10/dist-packages/sklearn/linear_model/_logistic.py:458: ConvergenceWarning: lbfgs failed to converge (status=1):\n",
            "STOP: TOTAL NO. of ITERATIONS REACHED LIMIT.\n",
            "\n",
            "Increase the number of iterations (max_iter) or scale the data as shown in:\n",
            "    https://scikit-learn.org/stable/modules/preprocessing.html\n",
            "Please also refer to the documentation for alternative solver options:\n",
            "    https://scikit-learn.org/stable/modules/linear_model.html#logistic-regression\n",
            "  n_iter_i = _check_optimize_result(\n",
            "/usr/local/lib/python3.10/dist-packages/sklearn/linear_model/_logistic.py:458: ConvergenceWarning: lbfgs failed to converge (status=1):\n",
            "STOP: TOTAL NO. of ITERATIONS REACHED LIMIT.\n",
            "\n",
            "Increase the number of iterations (max_iter) or scale the data as shown in:\n",
            "    https://scikit-learn.org/stable/modules/preprocessing.html\n",
            "Please also refer to the documentation for alternative solver options:\n",
            "    https://scikit-learn.org/stable/modules/linear_model.html#logistic-regression\n",
            "  n_iter_i = _check_optimize_result(\n",
            "/usr/local/lib/python3.10/dist-packages/sklearn/linear_model/_logistic.py:458: ConvergenceWarning: lbfgs failed to converge (status=1):\n",
            "STOP: TOTAL NO. of ITERATIONS REACHED LIMIT.\n",
            "\n",
            "Increase the number of iterations (max_iter) or scale the data as shown in:\n",
            "    https://scikit-learn.org/stable/modules/preprocessing.html\n",
            "Please also refer to the documentation for alternative solver options:\n",
            "    https://scikit-learn.org/stable/modules/linear_model.html#logistic-regression\n",
            "  n_iter_i = _check_optimize_result(\n",
            "/usr/local/lib/python3.10/dist-packages/sklearn/linear_model/_logistic.py:458: ConvergenceWarning: lbfgs failed to converge (status=1):\n",
            "STOP: TOTAL NO. of ITERATIONS REACHED LIMIT.\n",
            "\n",
            "Increase the number of iterations (max_iter) or scale the data as shown in:\n",
            "    https://scikit-learn.org/stable/modules/preprocessing.html\n",
            "Please also refer to the documentation for alternative solver options:\n",
            "    https://scikit-learn.org/stable/modules/linear_model.html#logistic-regression\n",
            "  n_iter_i = _check_optimize_result(\n",
            "/usr/local/lib/python3.10/dist-packages/sklearn/linear_model/_logistic.py:458: ConvergenceWarning: lbfgs failed to converge (status=1):\n",
            "STOP: TOTAL NO. of ITERATIONS REACHED LIMIT.\n",
            "\n",
            "Increase the number of iterations (max_iter) or scale the data as shown in:\n",
            "    https://scikit-learn.org/stable/modules/preprocessing.html\n",
            "Please also refer to the documentation for alternative solver options:\n",
            "    https://scikit-learn.org/stable/modules/linear_model.html#logistic-regression\n",
            "  n_iter_i = _check_optimize_result(\n",
            "/usr/local/lib/python3.10/dist-packages/sklearn/linear_model/_logistic.py:458: ConvergenceWarning: lbfgs failed to converge (status=1):\n",
            "STOP: TOTAL NO. of ITERATIONS REACHED LIMIT.\n",
            "\n",
            "Increase the number of iterations (max_iter) or scale the data as shown in:\n",
            "    https://scikit-learn.org/stable/modules/preprocessing.html\n",
            "Please also refer to the documentation for alternative solver options:\n",
            "    https://scikit-learn.org/stable/modules/linear_model.html#logistic-regression\n",
            "  n_iter_i = _check_optimize_result(\n",
            "/usr/local/lib/python3.10/dist-packages/sklearn/linear_model/_logistic.py:458: ConvergenceWarning: lbfgs failed to converge (status=1):\n",
            "STOP: TOTAL NO. of ITERATIONS REACHED LIMIT.\n",
            "\n",
            "Increase the number of iterations (max_iter) or scale the data as shown in:\n",
            "    https://scikit-learn.org/stable/modules/preprocessing.html\n",
            "Please also refer to the documentation for alternative solver options:\n",
            "    https://scikit-learn.org/stable/modules/linear_model.html#logistic-regression\n",
            "  n_iter_i = _check_optimize_result(\n",
            "/usr/local/lib/python3.10/dist-packages/sklearn/linear_model/_logistic.py:458: ConvergenceWarning: lbfgs failed to converge (status=1):\n",
            "STOP: TOTAL NO. of ITERATIONS REACHED LIMIT.\n",
            "\n",
            "Increase the number of iterations (max_iter) or scale the data as shown in:\n",
            "    https://scikit-learn.org/stable/modules/preprocessing.html\n",
            "Please also refer to the documentation for alternative solver options:\n",
            "    https://scikit-learn.org/stable/modules/linear_model.html#logistic-regression\n",
            "  n_iter_i = _check_optimize_result(\n",
            "/usr/local/lib/python3.10/dist-packages/sklearn/linear_model/_logistic.py:458: ConvergenceWarning: lbfgs failed to converge (status=1):\n",
            "STOP: TOTAL NO. of ITERATIONS REACHED LIMIT.\n",
            "\n",
            "Increase the number of iterations (max_iter) or scale the data as shown in:\n",
            "    https://scikit-learn.org/stable/modules/preprocessing.html\n",
            "Please also refer to the documentation for alternative solver options:\n",
            "    https://scikit-learn.org/stable/modules/linear_model.html#logistic-regression\n",
            "  n_iter_i = _check_optimize_result(\n",
            "/usr/local/lib/python3.10/dist-packages/sklearn/linear_model/_logistic.py:458: ConvergenceWarning: lbfgs failed to converge (status=1):\n",
            "STOP: TOTAL NO. of ITERATIONS REACHED LIMIT.\n",
            "\n",
            "Increase the number of iterations (max_iter) or scale the data as shown in:\n",
            "    https://scikit-learn.org/stable/modules/preprocessing.html\n",
            "Please also refer to the documentation for alternative solver options:\n",
            "    https://scikit-learn.org/stable/modules/linear_model.html#logistic-regression\n",
            "  n_iter_i = _check_optimize_result(\n",
            "/usr/local/lib/python3.10/dist-packages/sklearn/linear_model/_logistic.py:458: ConvergenceWarning: lbfgs failed to converge (status=1):\n",
            "STOP: TOTAL NO. of ITERATIONS REACHED LIMIT.\n",
            "\n",
            "Increase the number of iterations (max_iter) or scale the data as shown in:\n",
            "    https://scikit-learn.org/stable/modules/preprocessing.html\n",
            "Please also refer to the documentation for alternative solver options:\n",
            "    https://scikit-learn.org/stable/modules/linear_model.html#logistic-regression\n",
            "  n_iter_i = _check_optimize_result(\n",
            "/usr/local/lib/python3.10/dist-packages/sklearn/linear_model/_logistic.py:458: ConvergenceWarning: lbfgs failed to converge (status=1):\n",
            "STOP: TOTAL NO. of ITERATIONS REACHED LIMIT.\n",
            "\n",
            "Increase the number of iterations (max_iter) or scale the data as shown in:\n",
            "    https://scikit-learn.org/stable/modules/preprocessing.html\n",
            "Please also refer to the documentation for alternative solver options:\n",
            "    https://scikit-learn.org/stable/modules/linear_model.html#logistic-regression\n",
            "  n_iter_i = _check_optimize_result(\n",
            "/usr/local/lib/python3.10/dist-packages/sklearn/linear_model/_logistic.py:458: ConvergenceWarning: lbfgs failed to converge (status=1):\n",
            "STOP: TOTAL NO. of ITERATIONS REACHED LIMIT.\n",
            "\n",
            "Increase the number of iterations (max_iter) or scale the data as shown in:\n",
            "    https://scikit-learn.org/stable/modules/preprocessing.html\n",
            "Please also refer to the documentation for alternative solver options:\n",
            "    https://scikit-learn.org/stable/modules/linear_model.html#logistic-regression\n",
            "  n_iter_i = _check_optimize_result(\n",
            "/usr/local/lib/python3.10/dist-packages/sklearn/model_selection/_validation.py:378: FitFailedWarning: \n",
            "25 fits failed out of a total of 50.\n",
            "The score on these train-test partitions for these parameters will be set to nan.\n",
            "If these failures are not expected, you can try to debug them by setting error_score='raise'.\n",
            "\n",
            "Below are more details about the failures:\n",
            "--------------------------------------------------------------------------------\n",
            "25 fits failed with the following error:\n",
            "Traceback (most recent call last):\n",
            "  File \"/usr/local/lib/python3.10/dist-packages/sklearn/model_selection/_validation.py\", line 686, in _fit_and_score\n",
            "    estimator.fit(X_train, y_train, **fit_params)\n",
            "  File \"/usr/local/lib/python3.10/dist-packages/sklearn/linear_model/_logistic.py\", line 1162, in fit\n",
            "    solver = _check_solver(self.solver, self.penalty, self.dual)\n",
            "  File \"/usr/local/lib/python3.10/dist-packages/sklearn/linear_model/_logistic.py\", line 54, in _check_solver\n",
            "    raise ValueError(\n",
            "ValueError: Solver lbfgs supports only 'l2' or 'none' penalties, got l1 penalty.\n",
            "\n",
            "  warnings.warn(some_fits_failed_message, FitFailedWarning)\n",
            "/usr/local/lib/python3.10/dist-packages/sklearn/model_selection/_search.py:952: UserWarning: One or more of the test scores are non-finite: [       nan 0.98448656        nan 0.98448656        nan 0.98448336\n",
            "        nan 0.98448336        nan 0.98448336]\n",
            "  warnings.warn(\n"
          ]
        },
        {
          "data": {
            "text/html": [
              "<style>#sk-container-id-5 {color: black;background-color: white;}#sk-container-id-5 pre{padding: 0;}#sk-container-id-5 div.sk-toggleable {background-color: white;}#sk-container-id-5 label.sk-toggleable__label {cursor: pointer;display: block;width: 100%;margin-bottom: 0;padding: 0.3em;box-sizing: border-box;text-align: center;}#sk-container-id-5 label.sk-toggleable__label-arrow:before {content: \"▸\";float: left;margin-right: 0.25em;color: #696969;}#sk-container-id-5 label.sk-toggleable__label-arrow:hover:before {color: black;}#sk-container-id-5 div.sk-estimator:hover label.sk-toggleable__label-arrow:before {color: black;}#sk-container-id-5 div.sk-toggleable__content {max-height: 0;max-width: 0;overflow: hidden;text-align: left;background-color: #f0f8ff;}#sk-container-id-5 div.sk-toggleable__content pre {margin: 0.2em;color: black;border-radius: 0.25em;background-color: #f0f8ff;}#sk-container-id-5 input.sk-toggleable__control:checked~div.sk-toggleable__content {max-height: 200px;max-width: 100%;overflow: auto;}#sk-container-id-5 input.sk-toggleable__control:checked~label.sk-toggleable__label-arrow:before {content: \"▾\";}#sk-container-id-5 div.sk-estimator input.sk-toggleable__control:checked~label.sk-toggleable__label {background-color: #d4ebff;}#sk-container-id-5 div.sk-label input.sk-toggleable__control:checked~label.sk-toggleable__label {background-color: #d4ebff;}#sk-container-id-5 input.sk-hidden--visually {border: 0;clip: rect(1px 1px 1px 1px);clip: rect(1px, 1px, 1px, 1px);height: 1px;margin: -1px;overflow: hidden;padding: 0;position: absolute;width: 1px;}#sk-container-id-5 div.sk-estimator {font-family: monospace;background-color: #f0f8ff;border: 1px dotted black;border-radius: 0.25em;box-sizing: border-box;margin-bottom: 0.5em;}#sk-container-id-5 div.sk-estimator:hover {background-color: #d4ebff;}#sk-container-id-5 div.sk-parallel-item::after {content: \"\";width: 100%;border-bottom: 1px solid gray;flex-grow: 1;}#sk-container-id-5 div.sk-label:hover label.sk-toggleable__label {background-color: #d4ebff;}#sk-container-id-5 div.sk-serial::before {content: \"\";position: absolute;border-left: 1px solid gray;box-sizing: border-box;top: 0;bottom: 0;left: 50%;z-index: 0;}#sk-container-id-5 div.sk-serial {display: flex;flex-direction: column;align-items: center;background-color: white;padding-right: 0.2em;padding-left: 0.2em;position: relative;}#sk-container-id-5 div.sk-item {position: relative;z-index: 1;}#sk-container-id-5 div.sk-parallel {display: flex;align-items: stretch;justify-content: center;background-color: white;position: relative;}#sk-container-id-5 div.sk-item::before, #sk-container-id-5 div.sk-parallel-item::before {content: \"\";position: absolute;border-left: 1px solid gray;box-sizing: border-box;top: 0;bottom: 0;left: 50%;z-index: -1;}#sk-container-id-5 div.sk-parallel-item {display: flex;flex-direction: column;z-index: 1;position: relative;background-color: white;}#sk-container-id-5 div.sk-parallel-item:first-child::after {align-self: flex-end;width: 50%;}#sk-container-id-5 div.sk-parallel-item:last-child::after {align-self: flex-start;width: 50%;}#sk-container-id-5 div.sk-parallel-item:only-child::after {width: 0;}#sk-container-id-5 div.sk-dashed-wrapped {border: 1px dashed gray;margin: 0 0.4em 0.5em 0.4em;box-sizing: border-box;padding-bottom: 0.4em;background-color: white;}#sk-container-id-5 div.sk-label label {font-family: monospace;font-weight: bold;display: inline-block;line-height: 1.2em;}#sk-container-id-5 div.sk-label-container {text-align: center;}#sk-container-id-5 div.sk-container {/* jupyter's `normalize.less` sets `[hidden] { display: none; }` but bootstrap.min.css set `[hidden] { display: none !important; }` so we also need the `!important` here to be able to override the default hidden behavior on the sphinx rendered scikit-learn.org. See: https://github.com/scikit-learn/scikit-learn/issues/21755 */display: inline-block !important;position: relative;}#sk-container-id-5 div.sk-text-repr-fallback {display: none;}</style><div id=\"sk-container-id-5\" class=\"sk-top-container\"><div class=\"sk-text-repr-fallback\"><pre>GridSearchCV(cv=5, estimator=LogisticRegression(),\n",
              "             param_grid={&#x27;C&#x27;: [0.001, 0.01, 0.1, 1, 10],\n",
              "                         &#x27;penalty&#x27;: [&#x27;l1&#x27;, &#x27;l2&#x27;]},\n",
              "             scoring=&#x27;accuracy&#x27;)</pre><b>In a Jupyter environment, please rerun this cell to show the HTML representation or trust the notebook. <br />On GitHub, the HTML representation is unable to render, please try loading this page with nbviewer.org.</b></div><div class=\"sk-container\" hidden><div class=\"sk-item sk-dashed-wrapped\"><div class=\"sk-label-container\"><div class=\"sk-label sk-toggleable\"><input class=\"sk-toggleable__control sk-hidden--visually\" id=\"sk-estimator-id-5\" type=\"checkbox\" ><label for=\"sk-estimator-id-5\" class=\"sk-toggleable__label sk-toggleable__label-arrow\">GridSearchCV</label><div class=\"sk-toggleable__content\"><pre>GridSearchCV(cv=5, estimator=LogisticRegression(),\n",
              "             param_grid={&#x27;C&#x27;: [0.001, 0.01, 0.1, 1, 10],\n",
              "                         &#x27;penalty&#x27;: [&#x27;l1&#x27;, &#x27;l2&#x27;]},\n",
              "             scoring=&#x27;accuracy&#x27;)</pre></div></div></div><div class=\"sk-parallel\"><div class=\"sk-parallel-item\"><div class=\"sk-item\"><div class=\"sk-label-container\"><div class=\"sk-label sk-toggleable\"><input class=\"sk-toggleable__control sk-hidden--visually\" id=\"sk-estimator-id-6\" type=\"checkbox\" ><label for=\"sk-estimator-id-6\" class=\"sk-toggleable__label sk-toggleable__label-arrow\">estimator: LogisticRegression</label><div class=\"sk-toggleable__content\"><pre>LogisticRegression()</pre></div></div></div><div class=\"sk-serial\"><div class=\"sk-item\"><div class=\"sk-estimator sk-toggleable\"><input class=\"sk-toggleable__control sk-hidden--visually\" id=\"sk-estimator-id-7\" type=\"checkbox\" ><label for=\"sk-estimator-id-7\" class=\"sk-toggleable__label sk-toggleable__label-arrow\">LogisticRegression</label><div class=\"sk-toggleable__content\"><pre>LogisticRegression()</pre></div></div></div></div></div></div></div></div></div></div>"
            ],
            "text/plain": [
              "GridSearchCV(cv=5, estimator=LogisticRegression(),\n",
              "             param_grid={'C': [0.001, 0.01, 0.1, 1, 10],\n",
              "                         'penalty': ['l1', 'l2']},\n",
              "             scoring='accuracy')"
            ]
          },
          "execution_count": 28,
          "metadata": {},
          "output_type": "execute_result"
        }
      ],
      "source": [
        "grid_search_LR = GridSearchCV(estimator=model_LR, param_grid=parameters, cv=5, scoring='accuracy')\n",
        "grid_search_LR.fit(X_train_scaled, y_train)"
      ]
    },
    {
      "cell_type": "code",
      "execution_count": null,
      "metadata": {
        "colab": {
          "base_uri": "https://localhost:8080/"
        },
        "id": "IZmixz90mogT",
        "outputId": "a9ede144-fb17-4aae-8e95-3e2fd4a42f76"
      },
      "outputs": [
        {
          "name": "stdout",
          "output_type": "stream",
          "text": [
            "Mejores parámetros encontrados:\n",
            "{'C': 0.01, 'penalty': 'l2'}\n",
            "Mejor score de validación encontrado: 0.9844865568709469\n"
          ]
        }
      ],
      "source": [
        "# Mostrar los mejores parámetros y el mejor score obtenido\n",
        "print(\"Mejores parámetros encontrados:\")\n",
        "print(grid_search_LR.best_params_)"
      ]
    },
    {
      "cell_type": "code",
      "execution_count": null,
      "metadata": {
        "colab": {
          "base_uri": "https://localhost:8080/",
          "height": 75
        },
        "id": "tWpYgRpfo2nu",
        "outputId": "b2b1acfc-797f-4a7b-f915-6392af1902b2"
      },
      "outputs": [
        {
          "data": {
            "text/html": [
              "<style>#sk-container-id-6 {color: black;background-color: white;}#sk-container-id-6 pre{padding: 0;}#sk-container-id-6 div.sk-toggleable {background-color: white;}#sk-container-id-6 label.sk-toggleable__label {cursor: pointer;display: block;width: 100%;margin-bottom: 0;padding: 0.3em;box-sizing: border-box;text-align: center;}#sk-container-id-6 label.sk-toggleable__label-arrow:before {content: \"▸\";float: left;margin-right: 0.25em;color: #696969;}#sk-container-id-6 label.sk-toggleable__label-arrow:hover:before {color: black;}#sk-container-id-6 div.sk-estimator:hover label.sk-toggleable__label-arrow:before {color: black;}#sk-container-id-6 div.sk-toggleable__content {max-height: 0;max-width: 0;overflow: hidden;text-align: left;background-color: #f0f8ff;}#sk-container-id-6 div.sk-toggleable__content pre {margin: 0.2em;color: black;border-radius: 0.25em;background-color: #f0f8ff;}#sk-container-id-6 input.sk-toggleable__control:checked~div.sk-toggleable__content {max-height: 200px;max-width: 100%;overflow: auto;}#sk-container-id-6 input.sk-toggleable__control:checked~label.sk-toggleable__label-arrow:before {content: \"▾\";}#sk-container-id-6 div.sk-estimator input.sk-toggleable__control:checked~label.sk-toggleable__label {background-color: #d4ebff;}#sk-container-id-6 div.sk-label input.sk-toggleable__control:checked~label.sk-toggleable__label {background-color: #d4ebff;}#sk-container-id-6 input.sk-hidden--visually {border: 0;clip: rect(1px 1px 1px 1px);clip: rect(1px, 1px, 1px, 1px);height: 1px;margin: -1px;overflow: hidden;padding: 0;position: absolute;width: 1px;}#sk-container-id-6 div.sk-estimator {font-family: monospace;background-color: #f0f8ff;border: 1px dotted black;border-radius: 0.25em;box-sizing: border-box;margin-bottom: 0.5em;}#sk-container-id-6 div.sk-estimator:hover {background-color: #d4ebff;}#sk-container-id-6 div.sk-parallel-item::after {content: \"\";width: 100%;border-bottom: 1px solid gray;flex-grow: 1;}#sk-container-id-6 div.sk-label:hover label.sk-toggleable__label {background-color: #d4ebff;}#sk-container-id-6 div.sk-serial::before {content: \"\";position: absolute;border-left: 1px solid gray;box-sizing: border-box;top: 0;bottom: 0;left: 50%;z-index: 0;}#sk-container-id-6 div.sk-serial {display: flex;flex-direction: column;align-items: center;background-color: white;padding-right: 0.2em;padding-left: 0.2em;position: relative;}#sk-container-id-6 div.sk-item {position: relative;z-index: 1;}#sk-container-id-6 div.sk-parallel {display: flex;align-items: stretch;justify-content: center;background-color: white;position: relative;}#sk-container-id-6 div.sk-item::before, #sk-container-id-6 div.sk-parallel-item::before {content: \"\";position: absolute;border-left: 1px solid gray;box-sizing: border-box;top: 0;bottom: 0;left: 50%;z-index: -1;}#sk-container-id-6 div.sk-parallel-item {display: flex;flex-direction: column;z-index: 1;position: relative;background-color: white;}#sk-container-id-6 div.sk-parallel-item:first-child::after {align-self: flex-end;width: 50%;}#sk-container-id-6 div.sk-parallel-item:last-child::after {align-self: flex-start;width: 50%;}#sk-container-id-6 div.sk-parallel-item:only-child::after {width: 0;}#sk-container-id-6 div.sk-dashed-wrapped {border: 1px dashed gray;margin: 0 0.4em 0.5em 0.4em;box-sizing: border-box;padding-bottom: 0.4em;background-color: white;}#sk-container-id-6 div.sk-label label {font-family: monospace;font-weight: bold;display: inline-block;line-height: 1.2em;}#sk-container-id-6 div.sk-label-container {text-align: center;}#sk-container-id-6 div.sk-container {/* jupyter's `normalize.less` sets `[hidden] { display: none; }` but bootstrap.min.css set `[hidden] { display: none !important; }` so we also need the `!important` here to be able to override the default hidden behavior on the sphinx rendered scikit-learn.org. See: https://github.com/scikit-learn/scikit-learn/issues/21755 */display: inline-block !important;position: relative;}#sk-container-id-6 div.sk-text-repr-fallback {display: none;}</style><div id=\"sk-container-id-6\" class=\"sk-top-container\"><div class=\"sk-text-repr-fallback\"><pre>LogisticRegression(C=0.01)</pre><b>In a Jupyter environment, please rerun this cell to show the HTML representation or trust the notebook. <br />On GitHub, the HTML representation is unable to render, please try loading this page with nbviewer.org.</b></div><div class=\"sk-container\" hidden><div class=\"sk-item\"><div class=\"sk-estimator sk-toggleable\"><input class=\"sk-toggleable__control sk-hidden--visually\" id=\"sk-estimator-id-8\" type=\"checkbox\" checked><label for=\"sk-estimator-id-8\" class=\"sk-toggleable__label sk-toggleable__label-arrow\">LogisticRegression</label><div class=\"sk-toggleable__content\"><pre>LogisticRegression(C=0.01)</pre></div></div></div></div></div>"
            ],
            "text/plain": [
              "LogisticRegression(C=0.01)"
            ]
          },
          "execution_count": 32,
          "metadata": {},
          "output_type": "execute_result"
        }
      ],
      "source": [
        "model_LR = LogisticRegression(C=0.01, penalty='l2')\n",
        "model_LR.fit(X_train_scaled, y_train)"
      ]
    },
    {
      "cell_type": "code",
      "execution_count": null,
      "metadata": {
        "colab": {
          "base_uri": "https://localhost:8080/"
        },
        "id": "GqcvORKIo2n8",
        "outputId": "0b654b34-738b-4784-9745-b37c5de68863"
      },
      "outputs": [
        {
          "name": "stdout",
          "output_type": "stream",
          "text": [
            "Puntuación del conjunto de entrenamiento (Precisión) = 0.9845\n",
            "Puntuación del conjunto de prueba (Precisión) = 0.9845\n",
            "╒════════════════╤═════════════════╤══════════════════╕\n",
            "│                │   pred Fraud No │   pred Fraud Yes │\n",
            "╞════════════════╪═════════════════╪══════════════════╡\n",
            "│ real Fraud No  │          153956 │                0 │\n",
            "├────────────────┼─────────────────┼──────────────────┤\n",
            "│ real Fraud Yes │            2425 │                0 │\n",
            "╘════════════════╧═════════════════╧══════════════════╛\n"
          ]
        },
        {
          "name": "stderr",
          "output_type": "stream",
          "text": [
            "/usr/local/lib/python3.10/dist-packages/sklearn/metrics/_classification.py:1344: UndefinedMetricWarning: Precision and F-score are ill-defined and being set to 0.0 in labels with no predicted samples. Use `zero_division` parameter to control this behavior.\n",
            "  _warn_prf(average, modifier, msg_start, len(result))\n"
          ]
        },
        {
          "name": "stdout",
          "output_type": "stream",
          "text": [
            "              precision    recall  f1-score   support\n",
            "\n",
            "           0       0.98      1.00      0.99    153956\n",
            "           1       0.00      0.00      0.00      2425\n",
            "\n",
            "    accuracy                           0.98    156381\n",
            "   macro avg       0.49      0.50      0.50    156381\n",
            "weighted avg       0.97      0.98      0.98    156381\n",
            "\n"
          ]
        },
        {
          "name": "stderr",
          "output_type": "stream",
          "text": [
            "/usr/local/lib/python3.10/dist-packages/sklearn/metrics/_classification.py:1344: UndefinedMetricWarning: Precision and F-score are ill-defined and being set to 0.0 in labels with no predicted samples. Use `zero_division` parameter to control this behavior.\n",
            "  _warn_prf(average, modifier, msg_start, len(result))\n",
            "/usr/local/lib/python3.10/dist-packages/sklearn/metrics/_classification.py:1344: UndefinedMetricWarning: Precision and F-score are ill-defined and being set to 0.0 in labels with no predicted samples. Use `zero_division` parameter to control this behavior.\n",
            "  _warn_prf(average, modifier, msg_start, len(result))\n"
          ]
        }
      ],
      "source": [
        "print(\"Puntuación del conjunto de entrenamiento (Precisión) =\", round(model_LR.score(X_train_scaled, y_train), 4))\n",
        "print(\"Puntuación del conjunto de prueba (Precisión) =\", round(model_LR.score(X_test_scaled, y_test), 4))\n",
        "\n",
        "conf_mat = confusion_matrix(y_test, model_LR.predict(X_test_scaled))\n",
        "print(tabulate(conf_mat,headers = ['pred Fraud No','pred Fraud Yes'], showindex = ['real Fraud No','real Fraud Yes'], tablefmt = 'fancy_grid'))\n",
        "\n",
        "print(classification_report(y_test, model_LR.predict(X_test_scaled)))"
      ]
    },
    {
      "cell_type": "code",
      "execution_count": null,
      "metadata": {
        "colab": {
          "base_uri": "https://localhost:8080/",
          "height": 466
        },
        "id": "PJRIJAiMYFpm",
        "outputId": "bc41c5e9-30ae-4a8d-9fda-96011879ba74"
      },
      "outputs": [
        {
          "data": {
            "image/png": "[encoded data removed]",
            "text/plain": [
              "<Figure size 640x480 with 1 Axes>"
            ]
          },
          "metadata": {},
          "output_type": "display_data"
        },
        {
          "data": {
            "text/plain": [
              "0.7197185619776758"
            ]
          },
          "execution_count": 61,
          "metadata": {},
          "output_type": "execute_result"
        }
      ],
      "source": [
        "plot_roc_curve(model_LR, X_test_scaled, y_test)"
      ]
    },
    {
      "cell_type": "code",
      "execution_count": null,
      "metadata": {
        "colab": {
          "base_uri": "https://localhost:8080/"
        },
        "id": "1AW-FiB6o2n9",
        "outputId": "74686f33-07c6-4728-edb4-d8865c46633f"
      },
      "outputs": [
        {
          "name": "stderr",
          "output_type": "stream",
          "text": [
            "/usr/local/lib/python3.10/dist-packages/sklearn/metrics/_classification.py:1344: UndefinedMetricWarning: Precision and F-score are ill-defined and being set to 0.0 in labels with no predicted samples. Use `zero_division` parameter to control this behavior.\n",
            "  _warn_prf(average, modifier, msg_start, len(result))\n",
            "/usr/local/lib/python3.10/dist-packages/sklearn/metrics/_classification.py:1344: UndefinedMetricWarning: Precision and F-score are ill-defined and being set to 0.0 in labels with no predicted samples. Use `zero_division` parameter to control this behavior.\n",
            "  _warn_prf(average, modifier, msg_start, len(result))\n",
            "/usr/local/lib/python3.10/dist-packages/sklearn/metrics/_classification.py:1344: UndefinedMetricWarning: Precision and F-score are ill-defined and being set to 0.0 in labels with no predicted samples. Use `zero_division` parameter to control this behavior.\n",
            "  _warn_prf(average, modifier, msg_start, len(result))\n"
          ]
        }
      ],
      "source": [
        "y_pred = model_LR.predict(X_test_scaled)\n",
        "cm = confusion_matrix(y_test, y_pred)\n",
        "TN, FP, FN, TP = cm.ravel()\n",
        "results['Logistic Regression'] = {\n",
        "    'Training Accuracy': model_LR.score(X_train_scaled, y_train),\n",
        "    'Test Accuracy': model_LR.score(X_test_scaled, y_test),\n",
        "    'True Positives': TP,\n",
        "    'True Negatives': TN,\n",
        "    'False Positives': FP,\n",
        "    'False Negatives': FN,\n",
        "    'Classification Report': classification_report(y_test, y_pred, output_dict=True)\n",
        "}\n"
      ]
    },
    {
      "cell_type": "markdown",
      "metadata": {
        "id": "z6Ltq-NAmiOc"
      },
      "source": [
        "## Árboles de decision"
      ]
    },
    {
      "cell_type": "markdown",
      "metadata": {
        "id": "r7fwpVADmiOc"
      },
      "source": [
        "Inicializamos el clasificador de árboles de decisión"
      ]
    },
    {
      "cell_type": "code",
      "execution_count": null,
      "metadata": {
        "id": "CZxNKUIkqDRo"
      },
      "outputs": [],
      "source": [
        "# Definir los parámetros a ajustar en el Grid Search\n",
        "param_grid = {\n",
        "    'max_depth': [5, 10, 15, None],\n",
        "    'min_samples_split': [2, 5, 10],\n",
        "    'min_samples_leaf': [1, 2, 4]\n",
        "}"
      ]
    },
    {
      "cell_type": "code",
      "execution_count": null,
      "metadata": {
        "id": "qE8RGW4pqFN1"
      },
      "outputs": [],
      "source": [
        "# Inicializar el clasificador de Árboles de Decisión\n",
        "tree_classifier = DecisionTreeClassifier(random_state=42)"
      ]
    },
    {
      "cell_type": "code",
      "execution_count": null,
      "metadata": {
        "colab": {
          "base_uri": "https://localhost:8080/",
          "height": 135
        },
        "id": "t0-5p0tdqHSH",
        "outputId": "c7b3e567-b133-4d6a-f3e8-ec04161804ae"
      },
      "outputs": [
        {
          "name": "stdout",
          "output_type": "stream",
          "text": [
            "Fitting 5 folds for each of 36 candidates, totalling 180 fits\n"
          ]
        },
        {
          "data": {
            "text/html": [
              "<style>#sk-container-id-7 {color: black;background-color: white;}#sk-container-id-7 pre{padding: 0;}#sk-container-id-7 div.sk-toggleable {background-color: white;}#sk-container-id-7 label.sk-toggleable__label {cursor: pointer;display: block;width: 100%;margin-bottom: 0;padding: 0.3em;box-sizing: border-box;text-align: center;}#sk-container-id-7 label.sk-toggleable__label-arrow:before {content: \"▸\";float: left;margin-right: 0.25em;color: #696969;}#sk-container-id-7 label.sk-toggleable__label-arrow:hover:before {color: black;}#sk-container-id-7 div.sk-estimator:hover label.sk-toggleable__label-arrow:before {color: black;}#sk-container-id-7 div.sk-toggleable__content {max-height: 0;max-width: 0;overflow: hidden;text-align: left;background-color: #f0f8ff;}#sk-container-id-7 div.sk-toggleable__content pre {margin: 0.2em;color: black;border-radius: 0.25em;background-color: #f0f8ff;}#sk-container-id-7 input.sk-toggleable__control:checked~div.sk-toggleable__content {max-height: 200px;max-width: 100%;overflow: auto;}#sk-container-id-7 input.sk-toggleable__control:checked~label.sk-toggleable__label-arrow:before {content: \"▾\";}#sk-container-id-7 div.sk-estimator input.sk-toggleable__control:checked~label.sk-toggleable__label {background-color: #d4ebff;}#sk-container-id-7 div.sk-label input.sk-toggleable__control:checked~label.sk-toggleable__label {background-color: #d4ebff;}#sk-container-id-7 input.sk-hidden--visually {border: 0;clip: rect(1px 1px 1px 1px);clip: rect(1px, 1px, 1px, 1px);height: 1px;margin: -1px;overflow: hidden;padding: 0;position: absolute;width: 1px;}#sk-container-id-7 div.sk-estimator {font-family: monospace;background-color: #f0f8ff;border: 1px dotted black;border-radius: 0.25em;box-sizing: border-box;margin-bottom: 0.5em;}#sk-container-id-7 div.sk-estimator:hover {background-color: #d4ebff;}#sk-container-id-7 div.sk-parallel-item::after {content: \"\";width: 100%;border-bottom: 1px solid gray;flex-grow: 1;}#sk-container-id-7 div.sk-label:hover label.sk-toggleable__label {background-color: #d4ebff;}#sk-container-id-7 div.sk-serial::before {content: \"\";position: absolute;border-left: 1px solid gray;box-sizing: border-box;top: 0;bottom: 0;left: 50%;z-index: 0;}#sk-container-id-7 div.sk-serial {display: flex;flex-direction: column;align-items: center;background-color: white;padding-right: 0.2em;padding-left: 0.2em;position: relative;}#sk-container-id-7 div.sk-item {position: relative;z-index: 1;}#sk-container-id-7 div.sk-parallel {display: flex;align-items: stretch;justify-content: center;background-color: white;position: relative;}#sk-container-id-7 div.sk-item::before, #sk-container-id-7 div.sk-parallel-item::before {content: \"\";position: absolute;border-left: 1px solid gray;box-sizing: border-box;top: 0;bottom: 0;left: 50%;z-index: -1;}#sk-container-id-7 div.sk-parallel-item {display: flex;flex-direction: column;z-index: 1;position: relative;background-color: white;}#sk-container-id-7 div.sk-parallel-item:first-child::after {align-self: flex-end;width: 50%;}#sk-container-id-7 div.sk-parallel-item:last-child::after {align-self: flex-start;width: 50%;}#sk-container-id-7 div.sk-parallel-item:only-child::after {width: 0;}#sk-container-id-7 div.sk-dashed-wrapped {border: 1px dashed gray;margin: 0 0.4em 0.5em 0.4em;box-sizing: border-box;padding-bottom: 0.4em;background-color: white;}#sk-container-id-7 div.sk-label label {font-family: monospace;font-weight: bold;display: inline-block;line-height: 1.2em;}#sk-container-id-7 div.sk-label-container {text-align: center;}#sk-container-id-7 div.sk-container {/* jupyter's `normalize.less` sets `[hidden] { display: none; }` but bootstrap.min.css set `[hidden] { display: none !important; }` so we also need the `!important` here to be able to override the default hidden behavior on the sphinx rendered scikit-learn.org. See: https://github.com/scikit-learn/scikit-learn/issues/21755 */display: inline-block !important;position: relative;}#sk-container-id-7 div.sk-text-repr-fallback {display: none;}</style><div id=\"sk-container-id-7\" class=\"sk-top-container\"><div class=\"sk-text-repr-fallback\"><pre>GridSearchCV(cv=5, estimator=DecisionTreeClassifier(random_state=42),\n",
              "             param_grid={&#x27;max_depth&#x27;: [5, 10, 15, None],\n",
              "                         &#x27;min_samples_leaf&#x27;: [1, 2, 4],\n",
              "                         &#x27;min_samples_split&#x27;: [2, 5, 10]},\n",
              "             scoring=&#x27;accuracy&#x27;, verbose=1)</pre><b>In a Jupyter environment, please rerun this cell to show the HTML representation or trust the notebook. <br />On GitHub, the HTML representation is unable to render, please try loading this page with nbviewer.org.</b></div><div class=\"sk-container\" hidden><div class=\"sk-item sk-dashed-wrapped\"><div class=\"sk-label-container\"><div class=\"sk-label sk-toggleable\"><input class=\"sk-toggleable__control sk-hidden--visually\" id=\"sk-estimator-id-9\" type=\"checkbox\" ><label for=\"sk-estimator-id-9\" class=\"sk-toggleable__label sk-toggleable__label-arrow\">GridSearchCV</label><div class=\"sk-toggleable__content\"><pre>GridSearchCV(cv=5, estimator=DecisionTreeClassifier(random_state=42),\n",
              "             param_grid={&#x27;max_depth&#x27;: [5, 10, 15, None],\n",
              "                         &#x27;min_samples_leaf&#x27;: [1, 2, 4],\n",
              "                         &#x27;min_samples_split&#x27;: [2, 5, 10]},\n",
              "             scoring=&#x27;accuracy&#x27;, verbose=1)</pre></div></div></div><div class=\"sk-parallel\"><div class=\"sk-parallel-item\"><div class=\"sk-item\"><div class=\"sk-label-container\"><div class=\"sk-label sk-toggleable\"><input class=\"sk-toggleable__control sk-hidden--visually\" id=\"sk-estimator-id-10\" type=\"checkbox\" ><label for=\"sk-estimator-id-10\" class=\"sk-toggleable__label sk-toggleable__label-arrow\">estimator: DecisionTreeClassifier</label><div class=\"sk-toggleable__content\"><pre>DecisionTreeClassifier(random_state=42)</pre></div></div></div><div class=\"sk-serial\"><div class=\"sk-item\"><div class=\"sk-estimator sk-toggleable\"><input class=\"sk-toggleable__control sk-hidden--visually\" id=\"sk-estimator-id-11\" type=\"checkbox\" ><label for=\"sk-estimator-id-11\" class=\"sk-toggleable__label sk-toggleable__label-arrow\">DecisionTreeClassifier</label><div class=\"sk-toggleable__content\"><pre>DecisionTreeClassifier(random_state=42)</pre></div></div></div></div></div></div></div></div></div></div>"
            ],
            "text/plain": [
              "GridSearchCV(cv=5, estimator=DecisionTreeClassifier(random_state=42),\n",
              "             param_grid={'max_depth': [5, 10, 15, None],\n",
              "                         'min_samples_leaf': [1, 2, 4],\n",
              "                         'min_samples_split': [2, 5, 10]},\n",
              "             scoring='accuracy', verbose=1)"
            ]
          },
          "execution_count": 39,
          "metadata": {},
          "output_type": "execute_result"
        }
      ],
      "source": [
        "grid_search = GridSearchCV(estimator=tree_classifier, param_grid=param_grid, cv=5, scoring='accuracy', verbose=1)\n",
        "grid_search.fit(X_train_scaled, y_train)"
      ]
    },
    {
      "cell_type": "code",
      "execution_count": null,
      "metadata": {
        "colab": {
          "base_uri": "https://localhost:8080/"
        },
        "id": "udVurAm3qMuL",
        "outputId": "5f4990c3-ecd6-475d-f69e-93f58e77cb43"
      },
      "outputs": [
        {
          "name": "stdout",
          "output_type": "stream",
          "text": [
            "Mejores parámetros encontrados:\n",
            "{'max_depth': 5, 'min_samples_leaf': 2, 'min_samples_split': 2}\n"
          ]
        }
      ],
      "source": [
        "print(\"Mejores parámetros encontrados:\")\n",
        "print(grid_search.best_params_)"
      ]
    },
    {
      "cell_type": "code",
      "execution_count": null,
      "metadata": {
        "id": "eLESH12Nzyjm"
      },
      "outputs": [],
      "source": [
        "tree_classifier = DecisionTreeClassifier(max_depth=5, min_samples_leaf = 2, min_samples_split = 2 )"
      ]
    },
    {
      "cell_type": "code",
      "execution_count": null,
      "metadata": {
        "colab": {
          "base_uri": "https://localhost:8080/",
          "height": 75
        },
        "id": "VS7sYDRczyj1",
        "outputId": "d07a327e-1516-4e9d-b8e3-14545ebda4f7"
      },
      "outputs": [
        {
          "data": {
            "text/html": [
              "<style>#sk-container-id-8 {color: black;background-color: white;}#sk-container-id-8 pre{padding: 0;}#sk-container-id-8 div.sk-toggleable {background-color: white;}#sk-container-id-8 label.sk-toggleable__label {cursor: pointer;display: block;width: 100%;margin-bottom: 0;padding: 0.3em;box-sizing: border-box;text-align: center;}#sk-container-id-8 label.sk-toggleable__label-arrow:before {content: \"▸\";float: left;margin-right: 0.25em;color: #696969;}#sk-container-id-8 label.sk-toggleable__label-arrow:hover:before {color: black;}#sk-container-id-8 div.sk-estimator:hover label.sk-toggleable__label-arrow:before {color: black;}#sk-container-id-8 div.sk-toggleable__content {max-height: 0;max-width: 0;overflow: hidden;text-align: left;background-color: #f0f8ff;}#sk-container-id-8 div.sk-toggleable__content pre {margin: 0.2em;color: black;border-radius: 0.25em;background-color: #f0f8ff;}#sk-container-id-8 input.sk-toggleable__control:checked~div.sk-toggleable__content {max-height: 200px;max-width: 100%;overflow: auto;}#sk-container-id-8 input.sk-toggleable__control:checked~label.sk-toggleable__label-arrow:before {content: \"▾\";}#sk-container-id-8 div.sk-estimator input.sk-toggleable__control:checked~label.sk-toggleable__label {background-color: #d4ebff;}#sk-container-id-8 div.sk-label input.sk-toggleable__control:checked~label.sk-toggleable__label {background-color: #d4ebff;}#sk-container-id-8 input.sk-hidden--visually {border: 0;clip: rect(1px 1px 1px 1px);clip: rect(1px, 1px, 1px, 1px);height: 1px;margin: -1px;overflow: hidden;padding: 0;position: absolute;width: 1px;}#sk-container-id-8 div.sk-estimator {font-family: monospace;background-color: #f0f8ff;border: 1px dotted black;border-radius: 0.25em;box-sizing: border-box;margin-bottom: 0.5em;}#sk-container-id-8 div.sk-estimator:hover {background-color: #d4ebff;}#sk-container-id-8 div.sk-parallel-item::after {content: \"\";width: 100%;border-bottom: 1px solid gray;flex-grow: 1;}#sk-container-id-8 div.sk-label:hover label.sk-toggleable__label {background-color: #d4ebff;}#sk-container-id-8 div.sk-serial::before {content: \"\";position: absolute;border-left: 1px solid gray;box-sizing: border-box;top: 0;bottom: 0;left: 50%;z-index: 0;}#sk-container-id-8 div.sk-serial {display: flex;flex-direction: column;align-items: center;background-color: white;padding-right: 0.2em;padding-left: 0.2em;position: relative;}#sk-container-id-8 div.sk-item {position: relative;z-index: 1;}#sk-container-id-8 div.sk-parallel {display: flex;align-items: stretch;justify-content: center;background-color: white;position: relative;}#sk-container-id-8 div.sk-item::before, #sk-container-id-8 div.sk-parallel-item::before {content: \"\";position: absolute;border-left: 1px solid gray;box-sizing: border-box;top: 0;bottom: 0;left: 50%;z-index: -1;}#sk-container-id-8 div.sk-parallel-item {display: flex;flex-direction: column;z-index: 1;position: relative;background-color: white;}#sk-container-id-8 div.sk-parallel-item:first-child::after {align-self: flex-end;width: 50%;}#sk-container-id-8 div.sk-parallel-item:last-child::after {align-self: flex-start;width: 50%;}#sk-container-id-8 div.sk-parallel-item:only-child::after {width: 0;}#sk-container-id-8 div.sk-dashed-wrapped {border: 1px dashed gray;margin: 0 0.4em 0.5em 0.4em;box-sizing: border-box;padding-bottom: 0.4em;background-color: white;}#sk-container-id-8 div.sk-label label {font-family: monospace;font-weight: bold;display: inline-block;line-height: 1.2em;}#sk-container-id-8 div.sk-label-container {text-align: center;}#sk-container-id-8 div.sk-container {/* jupyter's `normalize.less` sets `[hidden] { display: none; }` but bootstrap.min.css set `[hidden] { display: none !important; }` so we also need the `!important` here to be able to override the default hidden behavior on the sphinx rendered scikit-learn.org. See: https://github.com/scikit-learn/scikit-learn/issues/21755 */display: inline-block !important;position: relative;}#sk-container-id-8 div.sk-text-repr-fallback {display: none;}</style><div id=\"sk-container-id-8\" class=\"sk-top-container\"><div class=\"sk-text-repr-fallback\"><pre>DecisionTreeClassifier(max_depth=5, min_samples_leaf=2)</pre><b>In a Jupyter environment, please rerun this cell to show the HTML representation or trust the notebook. <br />On GitHub, the HTML representation is unable to render, please try loading this page with nbviewer.org.</b></div><div class=\"sk-container\" hidden><div class=\"sk-item\"><div class=\"sk-estimator sk-toggleable\"><input class=\"sk-toggleable__control sk-hidden--visually\" id=\"sk-estimator-id-12\" type=\"checkbox\" checked><label for=\"sk-estimator-id-12\" class=\"sk-toggleable__label sk-toggleable__label-arrow\">DecisionTreeClassifier</label><div class=\"sk-toggleable__content\"><pre>DecisionTreeClassifier(max_depth=5, min_samples_leaf=2)</pre></div></div></div></div></div>"
            ],
            "text/plain": [
              "DecisionTreeClassifier(max_depth=5, min_samples_leaf=2)"
            ]
          },
          "execution_count": 42,
          "metadata": {},
          "output_type": "execute_result"
        }
      ],
      "source": [
        "tree_classifier.fit(X_train_scaled, y_train)"
      ]
    },
    {
      "cell_type": "code",
      "execution_count": null,
      "metadata": {
        "colab": {
          "base_uri": "https://localhost:8080/",
          "height": 653
        },
        "id": "BkqUrcwgzyj1",
        "outputId": "ab5c3f0d-d1f9-4a27-dc7e-2e6457105269"
      },
      "outputs": [
        {
          "data": {
            "image/png": "[encoded data removed]",
            "text/plain": [
              "<Figure size 800x800 with 1 Axes>"
            ]
          },
          "metadata": {},
          "output_type": "display_data"
        }
      ],
      "source": [
        "fig = plt.figure(figsize=(8,8))\n",
        "_ = plot_tree(tree_classifier, filled=True)"
      ]
    },
    {
      "cell_type": "code",
      "execution_count": null,
      "metadata": {
        "id": "iUOoM8VXzyj2"
      },
      "outputs": [],
      "source": [
        "predictions = tree_classifier.predict(X_test_scaled)"
      ]
    },
    {
      "cell_type": "code",
      "execution_count": null,
      "metadata": {
        "colab": {
          "base_uri": "https://localhost:8080/"
        },
        "id": "VpmvzcFhzyj2",
        "outputId": "aea891ee-7ac2-4178-d06f-f8151bce0cab"
      },
      "outputs": [
        {
          "name": "stdout",
          "output_type": "stream",
          "text": [
            "Puntuación del conjunto de entrenamiento (Precisión) = 0.9845\n",
            "Puntuación del conjunto de prueba (Precisión) = 0.9845\n",
            "╒════════════════╤═════════════════╤══════════════════╕\n",
            "│                │   pred Fraud No │   pred Fraud Yes │\n",
            "╞════════════════╪═════════════════╪══════════════════╡\n",
            "│ real Fraud No  │          153946 │               10 │\n",
            "├────────────────┼─────────────────┼──────────────────┤\n",
            "│ real Fraud Yes │            2420 │                5 │\n",
            "╘════════════════╧═════════════════╧══════════════════╛\n",
            "              precision    recall  f1-score   support\n",
            "\n",
            "           0       0.98      1.00      0.99    153956\n",
            "           1       0.33      0.00      0.00      2425\n",
            "\n",
            "    accuracy                           0.98    156381\n",
            "   macro avg       0.66      0.50      0.50    156381\n",
            "weighted avg       0.97      0.98      0.98    156381\n",
            "\n"
          ]
        }
      ],
      "source": [
        "print(\"Puntuación del conjunto de entrenamiento (Precisión) =\", round(tree_classifier.score(X_train_scaled, y_train), 4))\n",
        "print(\"Puntuación del conjunto de prueba (Precisión) =\", round(tree_classifier.score(X_test_scaled, y_test), 4))\n",
        "\n",
        "conf_mat = confusion_matrix(y_test, tree_classifier.predict(X_test_scaled))\n",
        "print(tabulate(conf_mat,headers = ['pred Fraud No','pred Fraud Yes'], showindex = ['real Fraud No','real Fraud Yes'], tablefmt = 'fancy_grid'))\n",
        "\n",
        "print(classification_report(y_test, tree_classifier.predict(X_test_scaled)))"
      ]
    },
    {
      "cell_type": "code",
      "execution_count": null,
      "metadata": {
        "colab": {
          "base_uri": "https://localhost:8080/",
          "height": 466
        },
        "id": "6S5dyq6VZmUc",
        "outputId": "1b4b755d-e137-4f66-f32c-f79358286fb7"
      },
      "outputs": [
        {
          "data": {
            "image/png": "[encoded data removed]",
            "text/plain": [
              "<Figure size 640x480 with 1 Axes>"
            ]
          },
          "metadata": {},
          "output_type": "display_data"
        },
        {
          "data": {
            "text/plain": [
              "0.7196502120166614"
            ]
          },
          "execution_count": 62,
          "metadata": {},
          "output_type": "execute_result"
        }
      ],
      "source": [
        "plot_roc_curve(tree_classifier, X_test_scaled, y_test)"
      ]
    },
    {
      "cell_type": "markdown",
      "metadata": {
        "id": "RULfjASjmiOe"
      },
      "source": [
        "## Random Forest"
      ]
    },
    {
      "cell_type": "code",
      "execution_count": null,
      "metadata": {
        "id": "kW7NWeI3teUN"
      },
      "outputs": [],
      "source": [
        "model_rf = RandomForestClassifier()\n",
        "\n",
        "# Definir los parámetros sobre los cuales se realizará el Grid Search\n",
        "param_grid = {\n",
        "    'n_estimators': [10, 50, 100],  # Número de árboles en el bosque\n",
        "    'max_depth': [10, 20, 30, None],  # Profundidad máxima de cada árbol\n",
        "}"
      ]
    },
    {
      "cell_type": "code",
      "execution_count": null,
      "metadata": {
        "colab": {
          "base_uri": "https://localhost:8080/",
          "height": 259
        },
        "id": "GB9Sn5Rpt4UY",
        "outputId": "1519742c-b3ea-45c3-8b42-8ce88dbde8ac"
      },
      "outputs": [
        {
          "name": "stderr",
          "output_type": "stream",
          "text": [
            "/usr/local/lib/python3.10/dist-packages/joblib/externals/loky/backend/fork_exec.py:38: RuntimeWarning: os.fork() was called. os.fork() is incompatible with multithreaded code, and JAX is multithreaded, so this will likely lead to a deadlock.\n",
            "  pid = os.fork()\n"
          ]
        },
        {
          "name": "stdout",
          "output_type": "stream",
          "text": [
            "Fitting 5 folds for each of 12 candidates, totalling 60 fits\n"
          ]
        },
        {
          "name": "stderr",
          "output_type": "stream",
          "text": [
            "/usr/local/lib/python3.10/dist-packages/joblib/externals/loky/backend/fork_exec.py:38: RuntimeWarning: os.fork() was called. os.fork() is incompatible with multithreaded code, and JAX is multithreaded, so this will likely lead to a deadlock.\n",
            "  pid = os.fork()\n",
            "/usr/local/lib/python3.10/dist-packages/joblib/externals/loky/process_executor.py:752: UserWarning: A worker stopped while some jobs were given to the executor. This can be caused by a too short worker timeout or by a memory leak.\n",
            "  warnings.warn(\n"
          ]
        },
        {
          "data": {
            "text/html": [
              "<style>#sk-container-id-9 {color: black;background-color: white;}#sk-container-id-9 pre{padding: 0;}#sk-container-id-9 div.sk-toggleable {background-color: white;}#sk-container-id-9 label.sk-toggleable__label {cursor: pointer;display: block;width: 100%;margin-bottom: 0;padding: 0.3em;box-sizing: border-box;text-align: center;}#sk-container-id-9 label.sk-toggleable__label-arrow:before {content: \"▸\";float: left;margin-right: 0.25em;color: #696969;}#sk-container-id-9 label.sk-toggleable__label-arrow:hover:before {color: black;}#sk-container-id-9 div.sk-estimator:hover label.sk-toggleable__label-arrow:before {color: black;}#sk-container-id-9 div.sk-toggleable__content {max-height: 0;max-width: 0;overflow: hidden;text-align: left;background-color: #f0f8ff;}#sk-container-id-9 div.sk-toggleable__content pre {margin: 0.2em;color: black;border-radius: 0.25em;background-color: #f0f8ff;}#sk-container-id-9 input.sk-toggleable__control:checked~div.sk-toggleable__content {max-height: 200px;max-width: 100%;overflow: auto;}#sk-container-id-9 input.sk-toggleable__control:checked~label.sk-toggleable__label-arrow:before {content: \"▾\";}#sk-container-id-9 div.sk-estimator input.sk-toggleable__control:checked~label.sk-toggleable__label {background-color: #d4ebff;}#sk-container-id-9 div.sk-label input.sk-toggleable__control:checked~label.sk-toggleable__label {background-color: #d4ebff;}#sk-container-id-9 input.sk-hidden--visually {border: 0;clip: rect(1px 1px 1px 1px);clip: rect(1px, 1px, 1px, 1px);height: 1px;margin: -1px;overflow: hidden;padding: 0;position: absolute;width: 1px;}#sk-container-id-9 div.sk-estimator {font-family: monospace;background-color: #f0f8ff;border: 1px dotted black;border-radius: 0.25em;box-sizing: border-box;margin-bottom: 0.5em;}#sk-container-id-9 div.sk-estimator:hover {background-color: #d4ebff;}#sk-container-id-9 div.sk-parallel-item::after {content: \"\";width: 100%;border-bottom: 1px solid gray;flex-grow: 1;}#sk-container-id-9 div.sk-label:hover label.sk-toggleable__label {background-color: #d4ebff;}#sk-container-id-9 div.sk-serial::before {content: \"\";position: absolute;border-left: 1px solid gray;box-sizing: border-box;top: 0;bottom: 0;left: 50%;z-index: 0;}#sk-container-id-9 div.sk-serial {display: flex;flex-direction: column;align-items: center;background-color: white;padding-right: 0.2em;padding-left: 0.2em;position: relative;}#sk-container-id-9 div.sk-item {position: relative;z-index: 1;}#sk-container-id-9 div.sk-parallel {display: flex;align-items: stretch;justify-content: center;background-color: white;position: relative;}#sk-container-id-9 div.sk-item::before, #sk-container-id-9 div.sk-parallel-item::before {content: \"\";position: absolute;border-left: 1px solid gray;box-sizing: border-box;top: 0;bottom: 0;left: 50%;z-index: -1;}#sk-container-id-9 div.sk-parallel-item {display: flex;flex-direction: column;z-index: 1;position: relative;background-color: white;}#sk-container-id-9 div.sk-parallel-item:first-child::after {align-self: flex-end;width: 50%;}#sk-container-id-9 div.sk-parallel-item:last-child::after {align-self: flex-start;width: 50%;}#sk-container-id-9 div.sk-parallel-item:only-child::after {width: 0;}#sk-container-id-9 div.sk-dashed-wrapped {border: 1px dashed gray;margin: 0 0.4em 0.5em 0.4em;box-sizing: border-box;padding-bottom: 0.4em;background-color: white;}#sk-container-id-9 div.sk-label label {font-family: monospace;font-weight: bold;display: inline-block;line-height: 1.2em;}#sk-container-id-9 div.sk-label-container {text-align: center;}#sk-container-id-9 div.sk-container {/* jupyter's `normalize.less` sets `[hidden] { display: none; }` but bootstrap.min.css set `[hidden] { display: none !important; }` so we also need the `!important` here to be able to override the default hidden behavior on the sphinx rendered scikit-learn.org. See: https://github.com/scikit-learn/scikit-learn/issues/21755 */display: inline-block !important;position: relative;}#sk-container-id-9 div.sk-text-repr-fallback {display: none;}</style><div id=\"sk-container-id-9\" class=\"sk-top-container\"><div class=\"sk-text-repr-fallback\"><pre>GridSearchCV(cv=5, estimator=RandomForestClassifier(), n_jobs=-1,\n",
              "             param_grid={&#x27;max_depth&#x27;: [10, 20, 30, None],\n",
              "                         &#x27;n_estimators&#x27;: [10, 50, 100]},\n",
              "             scoring=&#x27;accuracy&#x27;, verbose=1)</pre><b>In a Jupyter environment, please rerun this cell to show the HTML representation or trust the notebook. <br />On GitHub, the HTML representation is unable to render, please try loading this page with nbviewer.org.</b></div><div class=\"sk-container\" hidden><div class=\"sk-item sk-dashed-wrapped\"><div class=\"sk-label-container\"><div class=\"sk-label sk-toggleable\"><input class=\"sk-toggleable__control sk-hidden--visually\" id=\"sk-estimator-id-13\" type=\"checkbox\" ><label for=\"sk-estimator-id-13\" class=\"sk-toggleable__label sk-toggleable__label-arrow\">GridSearchCV</label><div class=\"sk-toggleable__content\"><pre>GridSearchCV(cv=5, estimator=RandomForestClassifier(), n_jobs=-1,\n",
              "             param_grid={&#x27;max_depth&#x27;: [10, 20, 30, None],\n",
              "                         &#x27;n_estimators&#x27;: [10, 50, 100]},\n",
              "             scoring=&#x27;accuracy&#x27;, verbose=1)</pre></div></div></div><div class=\"sk-parallel\"><div class=\"sk-parallel-item\"><div class=\"sk-item\"><div class=\"sk-label-container\"><div class=\"sk-label sk-toggleable\"><input class=\"sk-toggleable__control sk-hidden--visually\" id=\"sk-estimator-id-14\" type=\"checkbox\" ><label for=\"sk-estimator-id-14\" class=\"sk-toggleable__label sk-toggleable__label-arrow\">estimator: RandomForestClassifier</label><div class=\"sk-toggleable__content\"><pre>RandomForestClassifier()</pre></div></div></div><div class=\"sk-serial\"><div class=\"sk-item\"><div class=\"sk-estimator sk-toggleable\"><input class=\"sk-toggleable__control sk-hidden--visually\" id=\"sk-estimator-id-15\" type=\"checkbox\" ><label for=\"sk-estimator-id-15\" class=\"sk-toggleable__label sk-toggleable__label-arrow\">RandomForestClassifier</label><div class=\"sk-toggleable__content\"><pre>RandomForestClassifier()</pre></div></div></div></div></div></div></div></div></div></div>"
            ],
            "text/plain": [
              "GridSearchCV(cv=5, estimator=RandomForestClassifier(), n_jobs=-1,\n",
              "             param_grid={'max_depth': [10, 20, 30, None],\n",
              "                         'n_estimators': [10, 50, 100]},\n",
              "             scoring='accuracy', verbose=1)"
            ]
          },
          "execution_count": 49,
          "metadata": {},
          "output_type": "execute_result"
        }
      ],
      "source": [
        "grid_search = GridSearchCV(estimator=model_rf, param_grid=param_grid, cv=5, scoring='accuracy', verbose=1, n_jobs=-1)\n",
        "grid_search.fit(X_train_scaled, y_train)"
      ]
    },
    {
      "cell_type": "code",
      "execution_count": null,
      "metadata": {
        "colab": {
          "base_uri": "https://localhost:8080/"
        },
        "id": "puBKm7ttt8pa",
        "outputId": "63854aa5-258e-4632-d930-429222e33fda"
      },
      "outputs": [
        {
          "name": "stdout",
          "output_type": "stream",
          "text": [
            "Mejores parámetros encontrados:\n",
            "{'max_depth': None, 'n_estimators': 50}\n"
          ]
        }
      ],
      "source": [
        "print(\"Mejores parámetros encontrados:\")\n",
        "print(grid_search.best_params_)"
      ]
    },
    {
      "cell_type": "code",
      "execution_count": null,
      "metadata": {
        "colab": {
          "base_uri": "https://localhost:8080/",
          "height": 75
        },
        "id": "UQSOecE6miOe",
        "outputId": "e35506ff-cdd0-422c-da3d-4bd97ba54f59"
      },
      "outputs": [
        {
          "data": {
            "text/html": [
              "<style>#sk-container-id-12 {color: black;background-color: white;}#sk-container-id-12 pre{padding: 0;}#sk-container-id-12 div.sk-toggleable {background-color: white;}#sk-container-id-12 label.sk-toggleable__label {cursor: pointer;display: block;width: 100%;margin-bottom: 0;padding: 0.3em;box-sizing: border-box;text-align: center;}#sk-container-id-12 label.sk-toggleable__label-arrow:before {content: \"▸\";float: left;margin-right: 0.25em;color: #696969;}#sk-container-id-12 label.sk-toggleable__label-arrow:hover:before {color: black;}#sk-container-id-12 div.sk-estimator:hover label.sk-toggleable__label-arrow:before {color: black;}#sk-container-id-12 div.sk-toggleable__content {max-height: 0;max-width: 0;overflow: hidden;text-align: left;background-color: #f0f8ff;}#sk-container-id-12 div.sk-toggleable__content pre {margin: 0.2em;color: black;border-radius: 0.25em;background-color: #f0f8ff;}#sk-container-id-12 input.sk-toggleable__control:checked~div.sk-toggleable__content {max-height: 200px;max-width: 100%;overflow: auto;}#sk-container-id-12 input.sk-toggleable__control:checked~label.sk-toggleable__label-arrow:before {content: \"▾\";}#sk-container-id-12 div.sk-estimator input.sk-toggleable__control:checked~label.sk-toggleable__label {background-color: #d4ebff;}#sk-container-id-12 div.sk-label input.sk-toggleable__control:checked~label.sk-toggleable__label {background-color: #d4ebff;}#sk-container-id-12 input.sk-hidden--visually {border: 0;clip: rect(1px 1px 1px 1px);clip: rect(1px, 1px, 1px, 1px);height: 1px;margin: -1px;overflow: hidden;padding: 0;position: absolute;width: 1px;}#sk-container-id-12 div.sk-estimator {font-family: monospace;background-color: #f0f8ff;border: 1px dotted black;border-radius: 0.25em;box-sizing: border-box;margin-bottom: 0.5em;}#sk-container-id-12 div.sk-estimator:hover {background-color: #d4ebff;}#sk-container-id-12 div.sk-parallel-item::after {content: \"\";width: 100%;border-bottom: 1px solid gray;flex-grow: 1;}#sk-container-id-12 div.sk-label:hover label.sk-toggleable__label {background-color: #d4ebff;}#sk-container-id-12 div.sk-serial::before {content: \"\";position: absolute;border-left: 1px solid gray;box-sizing: border-box;top: 0;bottom: 0;left: 50%;z-index: 0;}#sk-container-id-12 div.sk-serial {display: flex;flex-direction: column;align-items: center;background-color: white;padding-right: 0.2em;padding-left: 0.2em;position: relative;}#sk-container-id-12 div.sk-item {position: relative;z-index: 1;}#sk-container-id-12 div.sk-parallel {display: flex;align-items: stretch;justify-content: center;background-color: white;position: relative;}#sk-container-id-12 div.sk-item::before, #sk-container-id-12 div.sk-parallel-item::before {content: \"\";position: absolute;border-left: 1px solid gray;box-sizing: border-box;top: 0;bottom: 0;left: 50%;z-index: -1;}#sk-container-id-12 div.sk-parallel-item {display: flex;flex-direction: column;z-index: 1;position: relative;background-color: white;}#sk-container-id-12 div.sk-parallel-item:first-child::after {align-self: flex-end;width: 50%;}#sk-container-id-12 div.sk-parallel-item:last-child::after {align-self: flex-start;width: 50%;}#sk-container-id-12 div.sk-parallel-item:only-child::after {width: 0;}#sk-container-id-12 div.sk-dashed-wrapped {border: 1px dashed gray;margin: 0 0.4em 0.5em 0.4em;box-sizing: border-box;padding-bottom: 0.4em;background-color: white;}#sk-container-id-12 div.sk-label label {font-family: monospace;font-weight: bold;display: inline-block;line-height: 1.2em;}#sk-container-id-12 div.sk-label-container {text-align: center;}#sk-container-id-12 div.sk-container {/* jupyter's `normalize.less` sets `[hidden] { display: none; }` but bootstrap.min.css set `[hidden] { display: none !important; }` so we also need the `!important` here to be able to override the default hidden behavior on the sphinx rendered scikit-learn.org. See: https://github.com/scikit-learn/scikit-learn/issues/21755 */display: inline-block !important;position: relative;}#sk-container-id-12 div.sk-text-repr-fallback {display: none;}</style><div id=\"sk-container-id-12\" class=\"sk-top-container\"><div class=\"sk-text-repr-fallback\"><pre>RandomForestClassifier(n_estimators=50)</pre><b>In a Jupyter environment, please rerun this cell to show the HTML representation or trust the notebook. <br />On GitHub, the HTML representation is unable to render, please try loading this page with nbviewer.org.</b></div><div class=\"sk-container\" hidden><div class=\"sk-item\"><div class=\"sk-estimator sk-toggleable\"><input class=\"sk-toggleable__control sk-hidden--visually\" id=\"sk-estimator-id-18\" type=\"checkbox\" checked><label for=\"sk-estimator-id-18\" class=\"sk-toggleable__label sk-toggleable__label-arrow\">RandomForestClassifier</label><div class=\"sk-toggleable__content\"><pre>RandomForestClassifier(n_estimators=50)</pre></div></div></div></div></div>"
            ],
            "text/plain": [
              "RandomForestClassifier(n_estimators=50)"
            ]
          },
          "execution_count": 63,
          "metadata": {},
          "output_type": "execute_result"
        }
      ],
      "source": [
        "# Entrenar el modelo con los datos\n",
        "model_RF = RandomForestClassifier(max_depth = None, n_estimators = 50 )\n",
        "model_RF.fit(X_train_scaled, y_train)"
      ]
    },
    {
      "cell_type": "code",
      "execution_count": null,
      "metadata": {
        "id": "lCYiG9ABmiOe"
      },
      "outputs": [],
      "source": [
        "# Evaluar el modelo\n",
        "y_pred = model_RF.predict(X_test_scaled)"
      ]
    },
    {
      "cell_type": "code",
      "execution_count": null,
      "metadata": {
        "colab": {
          "base_uri": "https://localhost:8080/"
        },
        "id": "o-7_8zLbmiOf",
        "outputId": "a649c79f-8f92-49d7-9b88-5f92bf6c0dcf"
      },
      "outputs": [
        {
          "name": "stdout",
          "output_type": "stream",
          "text": [
            "Puntuación del conjunto de entrenamiento (Precisión) = 0.9997\n",
            "Puntuación del conjunto de prueba (Precisión) = 0.9847\n",
            "╒════════════════╤═════════════════╤══════════════════╕\n",
            "│                │   pred Fraud No │   pred Fraud Yes │\n",
            "╞════════════════╪═════════════════╪══════════════════╡\n",
            "│ real Fraud No  │          153950 │                6 │\n",
            "├────────────────┼─────────────────┼──────────────────┤\n",
            "│ real Fraud Yes │            2379 │               46 │\n",
            "╘════════════════╧═════════════════╧══════════════════╛\n",
            "              precision    recall  f1-score   support\n",
            "\n",
            "           0       0.98      1.00      0.99    153956\n",
            "           1       0.88      0.02      0.04      2425\n",
            "\n",
            "    accuracy                           0.98    156381\n",
            "   macro avg       0.93      0.51      0.51    156381\n",
            "weighted avg       0.98      0.98      0.98    156381\n",
            "\n"
          ]
        }
      ],
      "source": [
        "print(\"Puntuación del conjunto de entrenamiento (Precisión) =\", round(model_RF.score(X_train_scaled, y_train), 4))\n",
        "print(\"Puntuación del conjunto de prueba (Precisión) =\", round(model_RF.score(X_test_scaled, y_test), 4))\n",
        "\n",
        "conf_mat = confusion_matrix(y_test, model_RF.predict(X_test_scaled))\n",
        "print(tabulate(conf_mat,headers = ['pred Fraud No','pred Fraud Yes'], showindex = ['real Fraud No','real Fraud Yes'], tablefmt = 'fancy_grid'))\n",
        "\n",
        "print(classification_report(y_test, model_RF.predict(X_test_scaled)))"
      ]
    },
    {
      "cell_type": "code",
      "execution_count": null,
      "metadata": {
        "colab": {
          "base_uri": "https://localhost:8080/",
          "height": 466
        },
        "id": "SKmHfTzNZzJe",
        "outputId": "da327f38-6abf-41f5-e1bb-f2bf0ba3bc9d"
      },
      "outputs": [
        {
          "data": {
            "image/png": "[encoded data removed]",
            "text/plain": [
              "<Figure size 640x480 with 1 Axes>"
            ]
          },
          "metadata": {},
          "output_type": "display_data"
        },
        {
          "data": {
            "text/plain": [
              "0.7097752470715291"
            ]
          },
          "execution_count": 66,
          "metadata": {},
          "output_type": "execute_result"
        }
      ],
      "source": [
        "plot_roc_curve(model_RF, X_test_scaled, y_test)"
      ]
    },
    {
      "cell_type": "code",
      "execution_count": null,
      "metadata": {
        "id": "nZsFVxJamDic"
      },
      "outputs": [],
      "source": [
        "TN_rf, FP_rf, FN_rf, TP_rf = conf_mat.ravel()\n",
        "results['Random Forest'] = {\n",
        "    'Training Accuracy': model_RF.score(X_train, y_train),\n",
        "    'Test Accuracy': model_RF.score(X_test, y_test),\n",
        "    'True Positives': TP_rf,\n",
        "    'True Negatives': TN_rf,\n",
        "    'False Positives': FP_rf,\n",
        "    'False Negatives': FN_rf,\n",
        "    'Classification Report': classification_report(y_test, y_pred, output_dict=True)\n",
        "}"
      ]
    },
    {
      "cell_type": "markdown",
      "metadata": {
        "id": "oVwGb5Dyx-Xy"
      },
      "source": [
        "## K-Nearest Neighbors (KNN)"
      ]
    },
    {
      "cell_type": "code",
      "execution_count": null,
      "metadata": {
        "id": "8zVZAgXV8RbH"
      },
      "outputs": [],
      "source": [
        "model_KNN = KNeighborsClassifier()\n",
        "\n",
        "param_grid = {\n",
        "    'n_neighbors': [5, 10, 15],  # Reducir el número de vecinos a evaluar\n",
        "    'weights': ['uniform', 'distance'],  # Mantener ambos tipos de ponderación\n",
        "    'metric': ['euclidean', 'manhattan']  # Reducir las métricas de distancia\n",
        "}"
      ]
    },
    {
      "cell_type": "code",
      "execution_count": null,
      "metadata": {
        "id": "BP1bJ3CR8WFF"
      },
      "outputs": [],
      "source": [
        "grid_search = GridSearchCV(estimator=model_KNN, param_grid=param_grid, cv=3, scoring='accuracy', verbose=1, n_jobs=-1)\n",
        "grid_search.fit(X_train_scaled, y_train)\n"
      ]
    },
    {
      "cell_type": "code",
      "execution_count": null,
      "metadata": {
        "id": "fkmlsLHk8aBn"
      },
      "outputs": [],
      "source": [
        "best_model = grid_search.best_estimator_\n",
        "print(\"Mejores parámetros:\", grid_search.best_params_)"
      ]
    },
    {
      "cell_type": "code",
      "execution_count": null,
      "metadata": {
        "colab": {
          "base_uri": "https://localhost:8080/",
          "height": 74
        },
        "id": "p7IPLDKwyG5J",
        "outputId": "77d58535-6824-4afc-bd69-b8f04e7e782f"
      },
      "outputs": [
        {
          "data": {
            "text/html": [
              "<style>#sk-container-id-6 {color: black;background-color: white;}#sk-container-id-6 pre{padding: 0;}#sk-container-id-6 div.sk-toggleable {background-color: white;}#sk-container-id-6 label.sk-toggleable__label {cursor: pointer;display: block;width: 100%;margin-bottom: 0;padding: 0.3em;box-sizing: border-box;text-align: center;}#sk-container-id-6 label.sk-toggleable__label-arrow:before {content: \"▸\";float: left;margin-right: 0.25em;color: #696969;}#sk-container-id-6 label.sk-toggleable__label-arrow:hover:before {color: black;}#sk-container-id-6 div.sk-estimator:hover label.sk-toggleable__label-arrow:before {color: black;}#sk-container-id-6 div.sk-toggleable__content {max-height: 0;max-width: 0;overflow: hidden;text-align: left;background-color: #f0f8ff;}#sk-container-id-6 div.sk-toggleable__content pre {margin: 0.2em;color: black;border-radius: 0.25em;background-color: #f0f8ff;}#sk-container-id-6 input.sk-toggleable__control:checked~div.sk-toggleable__content {max-height: 200px;max-width: 100%;overflow: auto;}#sk-container-id-6 input.sk-toggleable__control:checked~label.sk-toggleable__label-arrow:before {content: \"▾\";}#sk-container-id-6 div.sk-estimator input.sk-toggleable__control:checked~label.sk-toggleable__label {background-color: #d4ebff;}#sk-container-id-6 div.sk-label input.sk-toggleable__control:checked~label.sk-toggleable__label {background-color: #d4ebff;}#sk-container-id-6 input.sk-hidden--visually {border: 0;clip: rect(1px 1px 1px 1px);clip: rect(1px, 1px, 1px, 1px);height: 1px;margin: -1px;overflow: hidden;padding: 0;position: absolute;width: 1px;}#sk-container-id-6 div.sk-estimator {font-family: monospace;background-color: #f0f8ff;border: 1px dotted black;border-radius: 0.25em;box-sizing: border-box;margin-bottom: 0.5em;}#sk-container-id-6 div.sk-estimator:hover {background-color: #d4ebff;}#sk-container-id-6 div.sk-parallel-item::after {content: \"\";width: 100%;border-bottom: 1px solid gray;flex-grow: 1;}#sk-container-id-6 div.sk-label:hover label.sk-toggleable__label {background-color: #d4ebff;}#sk-container-id-6 div.sk-serial::before {content: \"\";position: absolute;border-left: 1px solid gray;box-sizing: border-box;top: 0;bottom: 0;left: 50%;z-index: 0;}#sk-container-id-6 div.sk-serial {display: flex;flex-direction: column;align-items: center;background-color: white;padding-right: 0.2em;padding-left: 0.2em;position: relative;}#sk-container-id-6 div.sk-item {position: relative;z-index: 1;}#sk-container-id-6 div.sk-parallel {display: flex;align-items: stretch;justify-content: center;background-color: white;position: relative;}#sk-container-id-6 div.sk-item::before, #sk-container-id-6 div.sk-parallel-item::before {content: \"\";position: absolute;border-left: 1px solid gray;box-sizing: border-box;top: 0;bottom: 0;left: 50%;z-index: -1;}#sk-container-id-6 div.sk-parallel-item {display: flex;flex-direction: column;z-index: 1;position: relative;background-color: white;}#sk-container-id-6 div.sk-parallel-item:first-child::after {align-self: flex-end;width: 50%;}#sk-container-id-6 div.sk-parallel-item:last-child::after {align-self: flex-start;width: 50%;}#sk-container-id-6 div.sk-parallel-item:only-child::after {width: 0;}#sk-container-id-6 div.sk-dashed-wrapped {border: 1px dashed gray;margin: 0 0.4em 0.5em 0.4em;box-sizing: border-box;padding-bottom: 0.4em;background-color: white;}#sk-container-id-6 div.sk-label label {font-family: monospace;font-weight: bold;display: inline-block;line-height: 1.2em;}#sk-container-id-6 div.sk-label-container {text-align: center;}#sk-container-id-6 div.sk-container {/* jupyter's `normalize.less` sets `[hidden] { display: none; }` but bootstrap.min.css set `[hidden] { display: none !important; }` so we also need the `!important` here to be able to override the default hidden behavior on the sphinx rendered scikit-learn.org. See: https://github.com/scikit-learn/scikit-learn/issues/21755 */display: inline-block !important;position: relative;}#sk-container-id-6 div.sk-text-repr-fallback {display: none;}</style><div id=\"sk-container-id-6\" class=\"sk-top-container\"><div class=\"sk-text-repr-fallback\"><pre>KNeighborsClassifier(n_neighbors=10)</pre><b>In a Jupyter environment, please rerun this cell to show the HTML representation or trust the notebook. <br />On GitHub, the HTML representation is unable to render, please try loading this page with nbviewer.org.</b></div><div class=\"sk-container\" hidden><div class=\"sk-item\"><div class=\"sk-estimator sk-toggleable\"><input class=\"sk-toggleable__control sk-hidden--visually\" id=\"sk-estimator-id-6\" type=\"checkbox\" checked><label for=\"sk-estimator-id-6\" class=\"sk-toggleable__label sk-toggleable__label-arrow\">KNeighborsClassifier</label><div class=\"sk-toggleable__content\"><pre>KNeighborsClassifier(n_neighbors=10)</pre></div></div></div></div></div>"
            ],
            "text/plain": [
              "KNeighborsClassifier(n_neighbors=10)"
            ]
          },
          "execution_count": 33,
          "metadata": {},
          "output_type": "execute_result"
        }
      ],
      "source": [
        "model_KNN = KNeighborsClassifier(n_neighbors=10)\n",
        "model_KNN.fit(X_train_scaled, y_train)"
      ]
    },
    {
      "cell_type": "code",
      "execution_count": null,
      "metadata": {
        "colab": {
          "base_uri": "https://localhost:8080/"
        },
        "id": "FhXZahptyMa7",
        "outputId": "5e6ed68f-82e4-4858-95a1-8e4759369632"
      },
      "outputs": [
        {
          "name": "stdout",
          "output_type": "stream",
          "text": [
            "Puntuación del conjunto de entrenamiento (Precisión) = 0.9845\n",
            "Puntuación del conjunto de prueba (Precisión) = 0.9847\n",
            "╒════════════════╤═════════════════╤══════════════════╕\n",
            "│                │   pred Fraud No │   pred Fraud Yes │\n",
            "╞════════════════╪═════════════════╪══════════════════╡\n",
            "│ real Fraud No  │          153977 │               12 │\n",
            "├────────────────┼─────────────────┼──────────────────┤\n",
            "│ real Fraud Yes │            2381 │               11 │\n",
            "╘════════════════╧═════════════════╧══════════════════╛\n",
            "              precision    recall  f1-score   support\n",
            "\n",
            "           0       0.98      1.00      0.99    153989\n",
            "           1       0.48      0.00      0.01      2392\n",
            "\n",
            "    accuracy                           0.98    156381\n",
            "   macro avg       0.73      0.50      0.50    156381\n",
            "weighted avg       0.98      0.98      0.98    156381\n",
            "\n"
          ]
        }
      ],
      "source": [
        "print(\"Puntuación del conjunto de entrenamiento (Precisión) =\", round(model_KNN.score(X_train_scaled, y_train), 4))\n",
        "print(\"Puntuación del conjunto de prueba (Precisión) =\", round(model_KNN.score(X_test_scaled, y_test), 4))\n",
        "\n",
        "conf_mat = confusion_matrix(y_test, model_KNN.predict(X_test_scaled))\n",
        "print(tabulate(conf_mat,headers = ['pred Fraud No','pred Fraud Yes'], showindex = ['real Fraud No','real Fraud Yes'], tablefmt = 'fancy_grid'))\n",
        "\n",
        "print(classification_report(y_test, model_KNN.predict(X_test_scaled)))"
      ]
    },
    {
      "cell_type": "code",
      "source": [
        "plot_roc_curve(model_KNN, X_test_scaled, y_test)"
      ],
      "metadata": {
        "id": "340sErn8CdFe"
      },
      "execution_count": null,
      "outputs": []
    },
    {
      "cell_type": "code",
      "execution_count": null,
      "metadata": {
        "colab": {
          "background_save": true
        },
        "id": "08RJCAN6tb1A"
      },
      "outputs": [],
      "source": [
        "TN_rf, FP_rf, FN_rf, TP_rf = conf_mat.ravel()\n",
        "results['K-Nearest Neighbors'] = {\n",
        "    'Training Accuracy': model.score(X_train_scaled, y_train),\n",
        "    'Test Accuracy': model.score(X_test_scaled, y_test),\n",
        "    'True Positives': TP_rf,\n",
        "    'True Negatives': TN_rf,\n",
        "    'False Positives': FP_rf,\n",
        "    'False Negatives': FN_rf,\n",
        "    'Classification Report': classification_report(y_test, model.predict(X_test_scaled), output_dict=True)\n",
        "}"
      ]
    },
    {
      "cell_type": "markdown",
      "source": [
        "## MLP for Classification"
      ],
      "metadata": {
        "id": "8V_E5-p-M2Ec"
      }
    },
    {
      "cell_type": "code",
      "source": [
        "MLP_Clas = Sequential()\n",
        "# Añadimos capas ocultas\n",
        "MLP_Clas.add(Dense(10, input_shape=(103, ), activation='sigmoid'))\n",
        "MLP_Clas.add(BatchNormalization())\n",
        "\n",
        "MLP_Clas.add(Dense(16, activation='sigmoid'))\n",
        "MLP_Clas.add(BatchNormalization())\n",
        "# MLP_Clas.add(Dropout(0.2))\n",
        "\n",
        "MLP_Clas.add(Dense(10, activation='sigmoid'))\n",
        "# Output layer\n",
        "MLP_Clas.add(Dense(1, activation='sigmoid'))\n",
        "\n",
        "# Learning rate and optimizer\n",
        "learning_rate = 0.1\n",
        "optimizer = Adam(learning_rate=learning_rate)\n",
        "\n",
        "# compile the keras model\n",
        "MLP_Clas.compile(loss='binary_crossentropy', optimizer=optimizer, metrics=['accuracy', Recall()]) # metrics=['accuracy']\n",
        "\n",
        "history_clas = MLP_Clas.fit(X_train_scaled, y_train, validation_data=(X_test_scaled, y_test), epochs=90, batch_size=30)\n",
        "# evaluate the keras model\n",
        "_, accuracy_tr, recall_tr = MLP_Clas.evaluate(X_train_scaled, y_train)\n",
        "_, accuracy_ts, recall_ts = MLP_Clas.evaluate(X_test_scaled, y_test)\n",
        "print('Accuracy train: %.2f; Recall train: %.2f' % (accuracy_tr*100, recall_tr*100))\n",
        "print('Accuracy test: %.2f; Recall test: %.2f' % (accuracy_ts*100, recall_ts*100))"
      ],
      "metadata": {
        "colab": {
          "base_uri": "https://localhost:8080/"
        },
        "outputId": "45240896-bbc6-4f4f-d013-21b895269b6b",
        "id": "VoT0VM1tM2Ed"
      },
      "execution_count": null,
      "outputs": [
        {
          "output_type": "stream",
          "name": "stdout",
          "text": [
            "Epoch 1/90\n",
            "20851/20851 [==============================] - 71s 3ms/step - loss: 0.0828 - accuracy: 0.9845 - recall_6: 1.0307e-04 - val_loss: 0.0876 - val_accuracy: 0.9845 - val_recall_6: 0.0000e+00\n",
            "Epoch 2/90\n",
            "20851/20851 [==============================] - 70s 3ms/step - loss: 0.0826 - accuracy: 0.9845 - recall_6: 0.0000e+00 - val_loss: 0.0802 - val_accuracy: 0.9845 - val_recall_6: 0.0000e+00\n",
            "Epoch 3/90\n",
            "20851/20851 [==============================] - 71s 3ms/step - loss: 0.0828 - accuracy: 0.9845 - recall_6: 0.0000e+00 - val_loss: 0.0943 - val_accuracy: 0.9845 - val_recall_6: 0.0000e+00\n",
            "Epoch 4/90\n",
            "20851/20851 [==============================] - 69s 3ms/step - loss: 0.0829 - accuracy: 0.9845 - recall_6: 0.0000e+00 - val_loss: 0.0817 - val_accuracy: 0.9845 - val_recall_6: 0.0000e+00\n",
            "Epoch 5/90\n",
            "20851/20851 [==============================] - 73s 4ms/step - loss: 0.0827 - accuracy: 0.9845 - recall_6: 0.0000e+00 - val_loss: 0.0800 - val_accuracy: 0.9845 - val_recall_6: 0.0000e+00\n",
            "Epoch 6/90\n",
            "20851/20851 [==============================] - 75s 4ms/step - loss: 0.0827 - accuracy: 0.9845 - recall_6: 0.0000e+00 - val_loss: 0.0861 - val_accuracy: 0.9845 - val_recall_6: 0.0000e+00\n",
            "Epoch 7/90\n",
            "20851/20851 [==============================] - 84s 4ms/step - loss: 0.0828 - accuracy: 0.9845 - recall_6: 0.0000e+00 - val_loss: 0.0816 - val_accuracy: 0.9845 - val_recall_6: 0.0000e+00\n",
            "Epoch 8/90\n",
            "20851/20851 [==============================] - 75s 4ms/step - loss: 0.0826 - accuracy: 0.9845 - recall_6: 0.0000e+00 - val_loss: 0.0841 - val_accuracy: 0.9845 - val_recall_6: 0.0000e+00\n",
            "Epoch 9/90\n",
            "20851/20851 [==============================] - 74s 4ms/step - loss: 0.0826 - accuracy: 0.9845 - recall_6: 0.0000e+00 - val_loss: 0.0808 - val_accuracy: 0.9845 - val_recall_6: 0.0000e+00\n",
            "Epoch 10/90\n",
            "20851/20851 [==============================] - 77s 4ms/step - loss: 0.0827 - accuracy: 0.9845 - recall_6: 0.0000e+00 - val_loss: 0.0868 - val_accuracy: 0.9845 - val_recall_6: 0.0000e+00\n",
            "Epoch 11/90\n",
            "20851/20851 [==============================] - 71s 3ms/step - loss: 0.0826 - accuracy: 0.9845 - recall_6: 0.0000e+00 - val_loss: 0.0817 - val_accuracy: 0.9845 - val_recall_6: 0.0000e+00\n",
            "Epoch 12/90\n",
            "20851/20851 [==============================] - 103s 5ms/step - loss: 0.0826 - accuracy: 0.9845 - recall_6: 0.0000e+00 - val_loss: 0.0800 - val_accuracy: 0.9845 - val_recall_6: 0.0000e+00\n",
            "Epoch 13/90\n",
            "20851/20851 [==============================] - 76s 4ms/step - loss: 0.0828 - accuracy: 0.9845 - recall_6: 0.0000e+00 - val_loss: 0.0876 - val_accuracy: 0.9845 - val_recall_6: 0.0000e+00\n",
            "Epoch 14/90\n",
            "20851/20851 [==============================] - 75s 4ms/step - loss: 0.0827 - accuracy: 0.9845 - recall_6: 0.0000e+00 - val_loss: 0.0823 - val_accuracy: 0.9845 - val_recall_6: 0.0000e+00\n",
            "Epoch 15/90\n",
            "20851/20851 [==============================] - 67s 3ms/step - loss: 0.0825 - accuracy: 0.9845 - recall_6: 0.0000e+00 - val_loss: 0.0806 - val_accuracy: 0.9845 - val_recall_6: 0.0000e+00\n",
            "Epoch 16/90\n",
            "20851/20851 [==============================] - 73s 4ms/step - loss: 0.0826 - accuracy: 0.9845 - recall_6: 0.0000e+00 - val_loss: 0.0800 - val_accuracy: 0.9845 - val_recall_6: 0.0000e+00\n",
            "Epoch 17/90\n",
            "20851/20851 [==============================] - 69s 3ms/step - loss: 0.0828 - accuracy: 0.9845 - recall_6: 0.0000e+00 - val_loss: 0.0819 - val_accuracy: 0.9845 - val_recall_6: 0.0000e+00\n",
            "Epoch 18/90\n",
            "20851/20851 [==============================] - 73s 3ms/step - loss: 0.0827 - accuracy: 0.9845 - recall_6: 0.0000e+00 - val_loss: 0.0802 - val_accuracy: 0.9845 - val_recall_6: 0.0000e+00\n",
            "Epoch 19/90\n",
            "20851/20851 [==============================] - 68s 3ms/step - loss: 0.0827 - accuracy: 0.9845 - recall_6: 0.0000e+00 - val_loss: 0.0810 - val_accuracy: 0.9845 - val_recall_6: 0.0000e+00\n",
            "Epoch 20/90\n",
            "20851/20851 [==============================] - 67s 3ms/step - loss: 0.0826 - accuracy: 0.9845 - recall_6: 0.0000e+00 - val_loss: 0.1038 - val_accuracy: 0.9845 - val_recall_6: 0.0000e+00\n",
            "Epoch 21/90\n",
            "20851/20851 [==============================] - 72s 3ms/step - loss: 0.0826 - accuracy: 0.9845 - recall_6: 0.0000e+00 - val_loss: 0.0816 - val_accuracy: 0.9845 - val_recall_6: 0.0000e+00\n",
            "Epoch 22/90\n",
            "20851/20851 [==============================] - 66s 3ms/step - loss: 0.0826 - accuracy: 0.9845 - recall_6: 0.0000e+00 - val_loss: 0.0848 - val_accuracy: 0.9845 - val_recall_6: 0.0000e+00\n",
            "Epoch 23/90\n",
            "20851/20851 [==============================] - 70s 3ms/step - loss: 0.0828 - accuracy: 0.9845 - recall_6: 0.0000e+00 - val_loss: 0.0845 - val_accuracy: 0.9845 - val_recall_6: 0.0000e+00\n",
            "Epoch 24/90\n",
            "20851/20851 [==============================] - 68s 3ms/step - loss: 0.0827 - accuracy: 0.9845 - recall_6: 0.0000e+00 - val_loss: 0.0822 - val_accuracy: 0.9845 - val_recall_6: 0.0000e+00\n",
            "Epoch 25/90\n",
            "20851/20851 [==============================] - 71s 3ms/step - loss: 0.0827 - accuracy: 0.9845 - recall_6: 0.0000e+00 - val_loss: 0.0864 - val_accuracy: 0.9845 - val_recall_6: 0.0000e+00\n",
            "Epoch 26/90\n",
            "20851/20851 [==============================] - 67s 3ms/step - loss: 0.0828 - accuracy: 0.9845 - recall_6: 0.0000e+00 - val_loss: 0.0808 - val_accuracy: 0.9845 - val_recall_6: 0.0000e+00\n",
            "Epoch 27/90\n",
            "20851/20851 [==============================] - 68s 3ms/step - loss: 0.0825 - accuracy: 0.9845 - recall_6: 0.0000e+00 - val_loss: 0.0804 - val_accuracy: 0.9845 - val_recall_6: 0.0000e+00\n",
            "Epoch 28/90\n",
            "20851/20851 [==============================] - 71s 3ms/step - loss: 0.0828 - accuracy: 0.9845 - recall_6: 0.0000e+00 - val_loss: 0.0864 - val_accuracy: 0.9845 - val_recall_6: 0.0000e+00\n",
            "Epoch 29/90\n",
            "20851/20851 [==============================] - 74s 4ms/step - loss: 0.0826 - accuracy: 0.9845 - recall_6: 0.0000e+00 - val_loss: 0.0802 - val_accuracy: 0.9845 - val_recall_6: 0.0000e+00\n",
            "Epoch 30/90\n",
            "20851/20851 [==============================] - 76s 4ms/step - loss: 0.0827 - accuracy: 0.9845 - recall_6: 0.0000e+00 - val_loss: 0.0802 - val_accuracy: 0.9845 - val_recall_6: 0.0000e+00\n",
            "Epoch 31/90\n",
            "20851/20851 [==============================] - 76s 4ms/step - loss: 0.0827 - accuracy: 0.9845 - recall_6: 0.0000e+00 - val_loss: 0.0805 - val_accuracy: 0.9845 - val_recall_6: 0.0000e+00\n",
            "Epoch 32/90\n",
            "20851/20851 [==============================] - 73s 3ms/step - loss: 0.0826 - accuracy: 0.9845 - recall_6: 0.0000e+00 - val_loss: 0.0800 - val_accuracy: 0.9845 - val_recall_6: 0.0000e+00\n",
            "Epoch 33/90\n",
            "20851/20851 [==============================] - 72s 3ms/step - loss: 0.0827 - accuracy: 0.9845 - recall_6: 0.0000e+00 - val_loss: 0.0828 - val_accuracy: 0.9845 - val_recall_6: 0.0000e+00\n",
            "Epoch 34/90\n",
            "20851/20851 [==============================] - 70s 3ms/step - loss: 0.0826 - accuracy: 0.9845 - recall_6: 0.0000e+00 - val_loss: 0.0827 - val_accuracy: 0.9845 - val_recall_6: 0.0000e+00\n",
            "Epoch 35/90\n",
            "20851/20851 [==============================] - 70s 3ms/step - loss: 0.0828 - accuracy: 0.9845 - recall_6: 0.0000e+00 - val_loss: 0.0810 - val_accuracy: 0.9845 - val_recall_6: 0.0000e+00\n",
            "Epoch 36/90\n",
            "20851/20851 [==============================] - 71s 3ms/step - loss: 0.0829 - accuracy: 0.9845 - recall_6: 0.0000e+00 - val_loss: 0.0803 - val_accuracy: 0.9845 - val_recall_6: 0.0000e+00\n",
            "Epoch 37/90\n",
            "20851/20851 [==============================] - 85s 4ms/step - loss: 0.0827 - accuracy: 0.9845 - recall_6: 0.0000e+00 - val_loss: 0.0816 - val_accuracy: 0.9845 - val_recall_6: 0.0000e+00\n",
            "Epoch 38/90\n",
            "20851/20851 [==============================] - 70s 3ms/step - loss: 0.0826 - accuracy: 0.9845 - recall_6: 0.0000e+00 - val_loss: 0.0801 - val_accuracy: 0.9845 - val_recall_6: 0.0000e+00\n",
            "Epoch 39/90\n",
            "20851/20851 [==============================] - 81s 4ms/step - loss: 0.0826 - accuracy: 0.9845 - recall_6: 0.0000e+00 - val_loss: 0.0815 - val_accuracy: 0.9845 - val_recall_6: 0.0000e+00\n",
            "Epoch 40/90\n",
            "20851/20851 [==============================] - 86s 4ms/step - loss: 0.0826 - accuracy: 0.9845 - recall_6: 0.0000e+00 - val_loss: 0.0815 - val_accuracy: 0.9845 - val_recall_6: 0.0000e+00\n",
            "Epoch 41/90\n",
            "20851/20851 [==============================] - 67s 3ms/step - loss: 0.0827 - accuracy: 0.9845 - recall_6: 0.0000e+00 - val_loss: 0.0842 - val_accuracy: 0.9845 - val_recall_6: 0.0000e+00\n",
            "Epoch 42/90\n",
            "20851/20851 [==============================] - 68s 3ms/step - loss: 0.0828 - accuracy: 0.9845 - recall_6: 0.0000e+00 - val_loss: 0.0808 - val_accuracy: 0.9845 - val_recall_6: 0.0000e+00\n",
            "Epoch 43/90\n",
            "20851/20851 [==============================] - 66s 3ms/step - loss: 0.0826 - accuracy: 0.9845 - recall_6: 0.0000e+00 - val_loss: 0.0804 - val_accuracy: 0.9845 - val_recall_6: 0.0000e+00\n",
            "Epoch 44/90\n",
            "20851/20851 [==============================] - 68s 3ms/step - loss: 0.0827 - accuracy: 0.9845 - recall_6: 0.0000e+00 - val_loss: 0.0856 - val_accuracy: 0.9845 - val_recall_6: 0.0000e+00\n",
            "Epoch 45/90\n",
            "20851/20851 [==============================] - 68s 3ms/step - loss: 0.0827 - accuracy: 0.9845 - recall_6: 0.0000e+00 - val_loss: 0.0810 - val_accuracy: 0.9845 - val_recall_6: 0.0000e+00\n",
            "Epoch 46/90\n",
            "20851/20851 [==============================] - 70s 3ms/step - loss: 0.0826 - accuracy: 0.9845 - recall_6: 0.0000e+00 - val_loss: 0.0858 - val_accuracy: 0.9845 - val_recall_6: 0.0000e+00\n",
            "Epoch 47/90\n",
            "20851/20851 [==============================] - 66s 3ms/step - loss: 0.0827 - accuracy: 0.9845 - recall_6: 0.0000e+00 - val_loss: 0.0802 - val_accuracy: 0.9845 - val_recall_6: 0.0000e+00\n",
            "Epoch 48/90\n",
            "20851/20851 [==============================] - 85s 4ms/step - loss: 0.0828 - accuracy: 0.9845 - recall_6: 0.0000e+00 - val_loss: 0.0807 - val_accuracy: 0.9845 - val_recall_6: 0.0000e+00\n",
            "Epoch 49/90\n",
            "20851/20851 [==============================] - 67s 3ms/step - loss: 0.0828 - accuracy: 0.9845 - recall_6: 0.0000e+00 - val_loss: 0.0869 - val_accuracy: 0.9845 - val_recall_6: 0.0000e+00\n",
            "Epoch 50/90\n",
            "20851/20851 [==============================] - 67s 3ms/step - loss: 0.0827 - accuracy: 0.9845 - recall_6: 0.0000e+00 - val_loss: 0.0800 - val_accuracy: 0.9845 - val_recall_6: 0.0000e+00\n",
            "Epoch 51/90\n",
            "20851/20851 [==============================] - 73s 3ms/step - loss: 0.0828 - accuracy: 0.9845 - recall_6: 0.0000e+00 - val_loss: 0.0804 - val_accuracy: 0.9845 - val_recall_6: 0.0000e+00\n",
            "Epoch 52/90\n",
            "20851/20851 [==============================] - 69s 3ms/step - loss: 0.0828 - accuracy: 0.9845 - recall_6: 0.0000e+00 - val_loss: 0.0854 - val_accuracy: 0.9845 - val_recall_6: 0.0000e+00\n",
            "Epoch 53/90\n",
            "20851/20851 [==============================] - 67s 3ms/step - loss: 0.0827 - accuracy: 0.9845 - recall_6: 0.0000e+00 - val_loss: 0.0813 - val_accuracy: 0.9845 - val_recall_6: 0.0000e+00\n",
            "Epoch 54/90\n",
            "20851/20851 [==============================] - 69s 3ms/step - loss: 0.0827 - accuracy: 0.9845 - recall_6: 0.0000e+00 - val_loss: 0.0812 - val_accuracy: 0.9845 - val_recall_6: 0.0000e+00\n",
            "Epoch 55/90\n",
            "20851/20851 [==============================] - 67s 3ms/step - loss: 0.0827 - accuracy: 0.9845 - recall_6: 0.0000e+00 - val_loss: 0.0814 - val_accuracy: 0.9845 - val_recall_6: 0.0000e+00\n",
            "Epoch 56/90\n",
            "20851/20851 [==============================] - 65s 3ms/step - loss: 0.0828 - accuracy: 0.9845 - recall_6: 0.0000e+00 - val_loss: 0.0803 - val_accuracy: 0.9845 - val_recall_6: 0.0000e+00\n",
            "Epoch 57/90\n",
            "20851/20851 [==============================] - 68s 3ms/step - loss: 0.0828 - accuracy: 0.9845 - recall_6: 0.0000e+00 - val_loss: 0.0801 - val_accuracy: 0.9845 - val_recall_6: 0.0000e+00\n",
            "Epoch 58/90\n",
            "20851/20851 [==============================] - 68s 3ms/step - loss: 0.0827 - accuracy: 0.9845 - recall_6: 0.0000e+00 - val_loss: 0.0803 - val_accuracy: 0.9845 - val_recall_6: 0.0000e+00\n",
            "Epoch 59/90\n",
            "20851/20851 [==============================] - 65s 3ms/step - loss: 0.0827 - accuracy: 0.9845 - recall_6: 0.0000e+00 - val_loss: 0.0903 - val_accuracy: 0.9845 - val_recall_6: 0.0000e+00\n",
            "Epoch 60/90\n",
            "20851/20851 [==============================] - 70s 3ms/step - loss: 0.0827 - accuracy: 0.9845 - recall_6: 0.0000e+00 - val_loss: 0.0839 - val_accuracy: 0.9845 - val_recall_6: 0.0000e+00\n",
            "Epoch 61/90\n",
            "20851/20851 [==============================] - 67s 3ms/step - loss: 0.0827 - accuracy: 0.9845 - recall_6: 0.0000e+00 - val_loss: 0.0910 - val_accuracy: 0.9845 - val_recall_6: 0.0000e+00\n",
            "Epoch 62/90\n",
            "20851/20851 [==============================] - 70s 3ms/step - loss: 0.0826 - accuracy: 0.9845 - recall_6: 0.0000e+00 - val_loss: 0.0803 - val_accuracy: 0.9845 - val_recall_6: 0.0000e+00\n",
            "Epoch 63/90\n",
            "20851/20851 [==============================] - 69s 3ms/step - loss: 0.0826 - accuracy: 0.9845 - recall_6: 0.0000e+00 - val_loss: 0.0806 - val_accuracy: 0.9845 - val_recall_6: 0.0000e+00\n",
            "Epoch 64/90\n",
            "20851/20851 [==============================] - 67s 3ms/step - loss: 0.0826 - accuracy: 0.9845 - recall_6: 0.0000e+00 - val_loss: 0.0800 - val_accuracy: 0.9845 - val_recall_6: 0.0000e+00\n",
            "Epoch 65/90\n",
            "20851/20851 [==============================] - 68s 3ms/step - loss: 0.0828 - accuracy: 0.9845 - recall_6: 0.0000e+00 - val_loss: 0.0867 - val_accuracy: 0.9845 - val_recall_6: 0.0000e+00\n",
            "Epoch 66/90\n",
            "20851/20851 [==============================] - 65s 3ms/step - loss: 0.0827 - accuracy: 0.9845 - recall_6: 0.0000e+00 - val_loss: 0.0825 - val_accuracy: 0.9845 - val_recall_6: 0.0000e+00\n",
            "Epoch 67/90\n",
            "20851/20851 [==============================] - 67s 3ms/step - loss: 0.0830 - accuracy: 0.9845 - recall_6: 0.0000e+00 - val_loss: 0.0842 - val_accuracy: 0.9845 - val_recall_6: 0.0000e+00\n",
            "Epoch 68/90\n",
            "20851/20851 [==============================] - 68s 3ms/step - loss: 0.0827 - accuracy: 0.9845 - recall_6: 0.0000e+00 - val_loss: 0.0805 - val_accuracy: 0.9845 - val_recall_6: 0.0000e+00\n",
            "Epoch 69/90\n",
            "20851/20851 [==============================] - 67s 3ms/step - loss: 0.0827 - accuracy: 0.9845 - recall_6: 0.0000e+00 - val_loss: 0.0880 - val_accuracy: 0.9845 - val_recall_6: 0.0000e+00\n",
            "Epoch 70/90\n",
            "20851/20851 [==============================] - 68s 3ms/step - loss: 0.0826 - accuracy: 0.9845 - recall_6: 0.0000e+00 - val_loss: 0.0800 - val_accuracy: 0.9845 - val_recall_6: 0.0000e+00\n",
            "Epoch 71/90\n",
            "20851/20851 [==============================] - 66s 3ms/step - loss: 0.0827 - accuracy: 0.9845 - recall_6: 0.0000e+00 - val_loss: 0.0829 - val_accuracy: 0.9845 - val_recall_6: 0.0000e+00\n",
            "Epoch 72/90\n",
            "20851/20851 [==============================] - 67s 3ms/step - loss: 0.0827 - accuracy: 0.9845 - recall_6: 0.0000e+00 - val_loss: 0.0874 - val_accuracy: 0.9845 - val_recall_6: 0.0000e+00\n",
            "Epoch 73/90\n",
            "20851/20851 [==============================] - 65s 3ms/step - loss: 0.0826 - accuracy: 0.9845 - recall_6: 0.0000e+00 - val_loss: 0.0820 - val_accuracy: 0.9845 - val_recall_6: 0.0000e+00\n",
            "Epoch 74/90\n",
            "20851/20851 [==============================] - 71s 3ms/step - loss: 0.0826 - accuracy: 0.9845 - recall_6: 0.0000e+00 - val_loss: 0.0803 - val_accuracy: 0.9845 - val_recall_6: 0.0000e+00\n",
            "Epoch 75/90\n",
            "20851/20851 [==============================] - 65s 3ms/step - loss: 0.0826 - accuracy: 0.9845 - recall_6: 0.0000e+00 - val_loss: 0.0812 - val_accuracy: 0.9845 - val_recall_6: 0.0000e+00\n",
            "Epoch 76/90\n",
            "20851/20851 [==============================] - 67s 3ms/step - loss: 0.0827 - accuracy: 0.9845 - recall_6: 0.0000e+00 - val_loss: 0.0800 - val_accuracy: 0.9845 - val_recall_6: 0.0000e+00\n",
            "Epoch 77/90\n",
            "20851/20851 [==============================] - 69s 3ms/step - loss: 0.0830 - accuracy: 0.9845 - recall_6: 0.0000e+00 - val_loss: 0.0811 - val_accuracy: 0.9845 - val_recall_6: 0.0000e+00\n",
            "Epoch 78/90\n",
            "20851/20851 [==============================] - 66s 3ms/step - loss: 0.0827 - accuracy: 0.9845 - recall_6: 0.0000e+00 - val_loss: 0.0813 - val_accuracy: 0.9845 - val_recall_6: 0.0000e+00\n",
            "Epoch 79/90\n",
            "20851/20851 [==============================] - 68s 3ms/step - loss: 0.0827 - accuracy: 0.9845 - recall_6: 0.0000e+00 - val_loss: 0.0800 - val_accuracy: 0.9845 - val_recall_6: 0.0000e+00\n",
            "Epoch 80/90\n",
            "20851/20851 [==============================] - 69s 3ms/step - loss: 0.0829 - accuracy: 0.9845 - recall_6: 0.0000e+00 - val_loss: 0.0894 - val_accuracy: 0.9845 - val_recall_6: 0.0000e+00\n",
            "Epoch 81/90\n",
            "20851/20851 [==============================] - 73s 4ms/step - loss: 0.0828 - accuracy: 0.9845 - recall_6: 0.0000e+00 - val_loss: 0.0800 - val_accuracy: 0.9845 - val_recall_6: 0.0000e+00\n",
            "Epoch 82/90\n",
            "20851/20851 [==============================] - 68s 3ms/step - loss: 0.0827 - accuracy: 0.9845 - recall_6: 0.0000e+00 - val_loss: 0.0824 - val_accuracy: 0.9845 - val_recall_6: 0.0000e+00\n",
            "Epoch 83/90\n",
            "20851/20851 [==============================] - 70s 3ms/step - loss: 0.0826 - accuracy: 0.9845 - recall_6: 0.0000e+00 - val_loss: 0.0891 - val_accuracy: 0.9845 - val_recall_6: 0.0000e+00\n",
            "Epoch 84/90\n",
            "20851/20851 [==============================] - 68s 3ms/step - loss: 0.0826 - accuracy: 0.9845 - recall_6: 0.0000e+00 - val_loss: 0.0825 - val_accuracy: 0.9845 - val_recall_6: 0.0000e+00\n",
            "Epoch 85/90\n",
            "20851/20851 [==============================] - 68s 3ms/step - loss: 0.0827 - accuracy: 0.9845 - recall_6: 0.0000e+00 - val_loss: 0.0802 - val_accuracy: 0.9845 - val_recall_6: 0.0000e+00\n",
            "Epoch 86/90\n",
            "20851/20851 [==============================] - 68s 3ms/step - loss: 0.0829 - accuracy: 0.9845 - recall_6: 0.0000e+00 - val_loss: 0.0800 - val_accuracy: 0.9845 - val_recall_6: 0.0000e+00\n",
            "Epoch 87/90\n",
            "20851/20851 [==============================] - 70s 3ms/step - loss: 0.0828 - accuracy: 0.9845 - recall_6: 0.0000e+00 - val_loss: 0.0802 - val_accuracy: 0.9845 - val_recall_6: 0.0000e+00\n",
            "Epoch 88/90\n",
            "20851/20851 [==============================] - 77s 4ms/step - loss: 0.0828 - accuracy: 0.9845 - recall_6: 0.0000e+00 - val_loss: 0.0800 - val_accuracy: 0.9845 - val_recall_6: 0.0000e+00\n",
            "Epoch 89/90\n",
            "20851/20851 [==============================] - 69s 3ms/step - loss: 0.0828 - accuracy: 0.9845 - recall_6: 0.0000e+00 - val_loss: 0.0801 - val_accuracy: 0.9845 - val_recall_6: 0.0000e+00\n",
            "Epoch 90/90\n",
            "20851/20851 [==============================] - 70s 3ms/step - loss: 0.0827 - accuracy: 0.9845 - recall_6: 0.0000e+00 - val_loss: 0.0879 - val_accuracy: 0.9845 - val_recall_6: 0.0000e+00\n",
            "19548/19548 [==============================] - 39s 2ms/step - loss: 0.0879 - accuracy: 0.9845 - recall_6: 0.0000e+00\n",
            "4887/4887 [==============================] - 9s 2ms/step - loss: 0.0879 - accuracy: 0.9845 - recall_6: 0.0000e+00\n",
            "Accuracy train: 98.45; Recall train: 0.00\n",
            "Accuracy test: 98.45; Recall test: 0.00\n"
          ]
        }
      ]
    },
    {
      "cell_type": "code",
      "source": [
        "plt.subplot(211)\n",
        "plt.title('Accuracy')\n",
        "plt.plot(history_clas.history['accuracy'], label='train')\n",
        "plt.plot(history_clas.history['val_accuracy'], label='test')\n",
        "plt.legend()"
      ],
      "metadata": {
        "colab": {
          "base_uri": "https://localhost:8080/",
          "height": 268
        },
        "id": "jpKduyU7M2Ef",
        "outputId": "44e30767-4b3a-459e-c988-b4863793a7a4"
      },
      "execution_count": null,
      "outputs": [
        {
          "output_type": "execute_result",
          "data": {
            "text/plain": [
              "<matplotlib.legend.Legend at 0x79bce5c7dc90>"
            ]
          },
          "metadata": {},
          "execution_count": 47
        },
        {
          "output_type": "display_data",
          "data": {
            "text/plain": [
              "<Figure size 640x480 with 1 Axes>"
            ],
            "image/png": "[encoded data removed]"
          },
          "metadata": {}
        }
      ]
    },
    {
      "cell_type": "code",
      "source": [
        "plt.subplot(211)\n",
        "plt.title('Loss')\n",
        "plt.plot(history_clas.history['loss'], label='train')\n",
        "plt.plot(history_clas.history['val_loss'], label='test')\n",
        "plt.legend()"
      ],
      "metadata": {
        "colab": {
          "base_uri": "https://localhost:8080/",
          "height": 268
        },
        "id": "FqLh3ZJ1M2Eg",
        "outputId": "1ec73d4a-75c8-494c-9fdb-86f57c4c8493"
      },
      "execution_count": null,
      "outputs": [
        {
          "output_type": "execute_result",
          "data": {
            "text/plain": [
              "<matplotlib.legend.Legend at 0x79bce5630a30>"
            ]
          },
          "metadata": {},
          "execution_count": 48
        },
        {
          "output_type": "display_data",
          "data": {
            "text/plain": [
              "<Figure size 640x480 with 1 Axes>"
            ],
            "image/png": "[encoded data removed]"
          },
          "metadata": {}
        }
      ]
    },
    {
      "cell_type": "markdown",
      "source": [],
      "metadata": {
        "id": "mbb3xTbHz9ao"
      }
    },
    {
      "cell_type": "code",
      "source": [
        "predictions = MLP_Clas.predict(X_test_scaled, verbose = 0).round(0)\n",
        "conf_mat = confusion_matrix(y_test, predictions)\n",
        "print(tabulate(conf_mat,headers = ['pred Diabetes No','pred Diabetes Yes'], showindex = ['real Diabetes No','real Diabetes Yes'],\n",
        "               tablefmt = 'fancy_grid'))\n",
        "\n",
        "print(classification_report(y_test, predictions))"
      ],
      "metadata": {
        "colab": {
          "base_uri": "https://localhost:8080/"
        },
        "id": "hmvIPXDOM2Eh",
        "outputId": "8a6db544-3f53-4a23-bee7-9140452af9a0"
      },
      "execution_count": null,
      "outputs": [
        {
          "output_type": "stream",
          "name": "stdout",
          "text": [
            "╒═══════════════════╤════════════════════╤═════════════════════╕\n",
            "│                   │   pred Diabetes No │   pred Diabetes Yes │\n",
            "╞═══════════════════╪════════════════════╪═════════════════════╡\n",
            "│ real Diabetes No  │             153956 │                   0 │\n",
            "├───────────────────┼────────────────────┼─────────────────────┤\n",
            "│ real Diabetes Yes │               2425 │                   0 │\n",
            "╘═══════════════════╧════════════════════╧═════════════════════╛\n"
          ]
        },
        {
          "output_type": "stream",
          "name": "stderr",
          "text": [
            "/usr/local/lib/python3.10/dist-packages/sklearn/metrics/_classification.py:1344: UndefinedMetricWarning: Precision and F-score are ill-defined and being set to 0.0 in labels with no predicted samples. Use `zero_division` parameter to control this behavior.\n",
            "  _warn_prf(average, modifier, msg_start, len(result))\n",
            "/usr/local/lib/python3.10/dist-packages/sklearn/metrics/_classification.py:1344: UndefinedMetricWarning: Precision and F-score are ill-defined and being set to 0.0 in labels with no predicted samples. Use `zero_division` parameter to control this behavior.\n",
            "  _warn_prf(average, modifier, msg_start, len(result))\n"
          ]
        },
        {
          "output_type": "stream",
          "name": "stdout",
          "text": [
            "              precision    recall  f1-score   support\n",
            "\n",
            "           0       0.98      1.00      0.99    153956\n",
            "           1       0.00      0.00      0.00      2425\n",
            "\n",
            "    accuracy                           0.98    156381\n",
            "   macro avg       0.49      0.50      0.50    156381\n",
            "weighted avg       0.97      0.98      0.98    156381\n",
            "\n"
          ]
        },
        {
          "output_type": "stream",
          "name": "stderr",
          "text": [
            "/usr/local/lib/python3.10/dist-packages/sklearn/metrics/_classification.py:1344: UndefinedMetricWarning: Precision and F-score are ill-defined and being set to 0.0 in labels with no predicted samples. Use `zero_division` parameter to control this behavior.\n",
            "  _warn_prf(average, modifier, msg_start, len(result))\n"
          ]
        }
      ]
    },
    {
      "cell_type": "code",
      "execution_count": null,
      "metadata": {
        "id": "pP27nzzOis2K"
      },
      "outputs": [],
      "source": [
        "summary_table = pd.DataFrame({\n",
        "    'Model': [key for key in results.keys()],\n",
        "    'Training Accuracy': [value['Training Accuracy'] for value in results.values()],\n",
        "    'Test Accuracy': [value['Test Accuracy'] for value in results.values()],\n",
        "    'True Positives': [value['True Positives'] for value in results.values()],\n",
        "    'True Negatives': [value['True Negatives'] for value in results.values()],\n",
        "    'False Positives': [value['False Positives'] for value in results.values()],\n",
        "    'False Negatives': [value['False Negatives'] for value in results.values()],\n",
        "})\n"
      ]
    }
  ],
  "metadata": {
    "colab": {
      "provenance": [],
      "toc_visible": true
    },
    "kernelspec": {
      "display_name": "Python 3",
      "name": "python3"
    },
    "language_info": {
      "name": "python"
    }
  },
  "nbformat": 4,
  "nbformat_minor": 0
}
