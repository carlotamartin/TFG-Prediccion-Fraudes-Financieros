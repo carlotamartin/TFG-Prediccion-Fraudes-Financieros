{
  "cells": [
    {
      "cell_type": "markdown",
      "metadata": {
        "id": "u4nDE-G3miNz"
      },
      "source": [
        "# Data Cleaning"
      ]
    },
    {
      "cell_type": "markdown",
      "metadata": {
        "id": "iNcg7mL5miN3"
      },
      "source": [
        "## Importamos librerías"
      ]
    },
    {
      "cell_type": "code",
      "execution_count": null,
      "metadata": {
        "id": "RdM3KqDBmiN4"
      },
      "outputs": [],
      "source": [
        "# Manipulación de datos\n",
        "\n",
        "import numpy as np\n",
        "import pandas as pd\n",
        "from matplotlib import pyplot as plt\n",
        "import matplotlib.pyplot as plt\n",
        "import seaborn as sns\n",
        "\n",
        "# Librerías para clasificadores\n",
        "\n",
        "from sklearn.linear_model import LogisticRegression\n",
        "from sklearn.svm import SVC # Support Vector Classification model\n",
        "from sklearn.neighbors import KNeighborsClassifier\n",
        "from sklearn.tree import DecisionTreeClassifier\n",
        "from sklearn.ensemble import RandomForestClassifier, AdaBoostClassifier, GradientBoostingClassifier, StackingClassifier, RandomForestClassifier\n",
        "from xgboost import XGBClassifier, XGBRegressor\n",
        "from sklearn.naive_bayes import GaussianNB\n",
        "\n",
        "\n",
        "# Otras librerías\n",
        "\n",
        "from sklearn.model_selection import train_test_split, RepeatedKFold, RepeatedStratifiedKFold, GridSearchCV, cross_val_score # for splitting the data into train and test samples\n",
        "from sklearn.metrics import accuracy_score, classification_report, confusion_matrix  # for model evaluation metrics\n",
        "from sklearn import metrics\n",
        "from sklearn.preprocessing import StandardScaler, MinMaxScaler, LabelEncoder\n",
        "from imblearn.over_sampling import SMOTE\n",
        "from imblearn.under_sampling import RandomUnderSampler\n",
        "from imblearn.pipeline import Pipeline\n",
        "from tabulate import tabulate\n",
        "\n",
        "# MLP\n",
        "from tensorflow.keras.models import Sequential, model_from_json\n",
        "from tensorflow.keras.layers import Dense, BatchNormalization, Dropout\n",
        "from keras.optimizers import Adam\n",
        "from tensorflow.keras.metrics import Recall\n",
        "from tensorflow.keras.callbacks import EarlyStopping"
      ]
    },
    {
      "cell_type": "markdown",
      "metadata": {
        "id": "H1MHq9BXl_CW"
      },
      "source": [
        "## Conectar con Drive"
      ]
    },
    {
      "cell_type": "code",
      "execution_count": null,
      "metadata": {
        "colab": {
          "base_uri": "https://localhost:8080/"
        },
        "id": "bQGyTVgEm0Yg",
        "outputId": "728aec48-f752-4c26-d377-59e0145220bb"
      },
      "outputs": [
        {
          "output_type": "stream",
          "name": "stdout",
          "text": [
            "Mounted at /content/drive\n"
          ]
        }
      ],
      "source": [
        "from google.colab import drive\n",
        "drive.mount('/content/drive')"
      ]
    },
    {
      "cell_type": "markdown",
      "metadata": {
        "id": "vqQ9rLXvmiN7"
      },
      "source": [
        "## Cargamos los datos"
      ]
    },
    {
      "cell_type": "code",
      "execution_count": null,
      "metadata": {
        "id": "YQYJ5KH_miN7",
        "colab": {
          "base_uri": "https://localhost:8080/",
          "height": 290
        },
        "outputId": "5f9bcfb4-5e3a-4ade-e079-86ce89c7355e"
      },
      "outputs": [
        {
          "output_type": "execute_result",
          "data": {
            "text/plain": [
              "   Unnamed: 0  accountNumber  customerId  creditLimit  availableMoney  \\\n",
              "0           0      737265056   737265056         5000          5000.0   \n",
              "1           1      737265056   737265056         5000          5000.0   \n",
              "2           2      737265056   737265056         5000          5000.0   \n",
              "3           3      737265056   737265056         5000          5000.0   \n",
              "4           4      830329091   830329091         5000          5000.0   \n",
              "\n",
              "   transactionDateTime  transactionAmount         merchantName acqCountry  \\\n",
              "0  2016-08-13T14:27:32              98.55                 Uber         US   \n",
              "1  2016-10-11T05:05:54              74.51          AMC #191138         US   \n",
              "2  2016-11-08T09:18:39               7.47           Play Store         US   \n",
              "3  2016-12-10T02:14:50               7.47           Play Store         US   \n",
              "4  2016-03-24T21:04:46              71.18  Tim Hortons #947751         US   \n",
              "\n",
              "  merchantCountryCode  ...  echoBuffer  currentBalance merchantCity  \\\n",
              "0                  US  ...         NaN             0.0          NaN   \n",
              "1                  US  ...         NaN             0.0          NaN   \n",
              "2                  US  ...         NaN             0.0          NaN   \n",
              "3                  US  ...         NaN             0.0          NaN   \n",
              "4                  US  ...         NaN             0.0          NaN   \n",
              "\n",
              "  merchantState merchantZip cardPresent  posOnPremises  recurringAuthInd  \\\n",
              "0           NaN         NaN       False            NaN               NaN   \n",
              "1           NaN         NaN        True            NaN               NaN   \n",
              "2           NaN         NaN       False            NaN               NaN   \n",
              "3           NaN         NaN       False            NaN               NaN   \n",
              "4           NaN         NaN        True            NaN               NaN   \n",
              "\n",
              "   expirationDateKeyInMatch isFraud  \n",
              "0                     False   False  \n",
              "1                     False   False  \n",
              "2                     False   False  \n",
              "3                     False   False  \n",
              "4                     False   False  \n",
              "\n",
              "[5 rows x 30 columns]"
            ],
            "text/html": [
              "\n",
              "  <div id=\"df-7c90056b-eb6e-4811-a285-ca881f597987\" class=\"colab-df-container\">\n",
              "    <div>\n",
              "<style scoped>\n",
              "    .dataframe tbody tr th:only-of-type {\n",
              "        vertical-align: middle;\n",
              "    }\n",
              "\n",
              "    .dataframe tbody tr th {\n",
              "        vertical-align: top;\n",
              "    }\n",
              "\n",
              "    .dataframe thead th {\n",
              "        text-align: right;\n",
              "    }\n",
              "</style>\n",
              "<table border=\"1\" class=\"dataframe\">\n",
              "  <thead>\n",
              "    <tr style=\"text-align: right;\">\n",
              "      <th></th>\n",
              "      <th>Unnamed: 0</th>\n",
              "      <th>accountNumber</th>\n",
              "      <th>customerId</th>\n",
              "      <th>creditLimit</th>\n",
              "      <th>availableMoney</th>\n",
              "      <th>transactionDateTime</th>\n",
              "      <th>transactionAmount</th>\n",
              "      <th>merchantName</th>\n",
              "      <th>acqCountry</th>\n",
              "      <th>merchantCountryCode</th>\n",
              "      <th>...</th>\n",
              "      <th>echoBuffer</th>\n",
              "      <th>currentBalance</th>\n",
              "      <th>merchantCity</th>\n",
              "      <th>merchantState</th>\n",
              "      <th>merchantZip</th>\n",
              "      <th>cardPresent</th>\n",
              "      <th>posOnPremises</th>\n",
              "      <th>recurringAuthInd</th>\n",
              "      <th>expirationDateKeyInMatch</th>\n",
              "      <th>isFraud</th>\n",
              "    </tr>\n",
              "  </thead>\n",
              "  <tbody>\n",
              "    <tr>\n",
              "      <th>0</th>\n",
              "      <td>0</td>\n",
              "      <td>737265056</td>\n",
              "      <td>737265056</td>\n",
              "      <td>5000</td>\n",
              "      <td>5000.0</td>\n",
              "      <td>2016-08-13T14:27:32</td>\n",
              "      <td>98.55</td>\n",
              "      <td>Uber</td>\n",
              "      <td>US</td>\n",
              "      <td>US</td>\n",
              "      <td>...</td>\n",
              "      <td>NaN</td>\n",
              "      <td>0.0</td>\n",
              "      <td>NaN</td>\n",
              "      <td>NaN</td>\n",
              "      <td>NaN</td>\n",
              "      <td>False</td>\n",
              "      <td>NaN</td>\n",
              "      <td>NaN</td>\n",
              "      <td>False</td>\n",
              "      <td>False</td>\n",
              "    </tr>\n",
              "    <tr>\n",
              "      <th>1</th>\n",
              "      <td>1</td>\n",
              "      <td>737265056</td>\n",
              "      <td>737265056</td>\n",
              "      <td>5000</td>\n",
              "      <td>5000.0</td>\n",
              "      <td>2016-10-11T05:05:54</td>\n",
              "      <td>74.51</td>\n",
              "      <td>AMC #191138</td>\n",
              "      <td>US</td>\n",
              "      <td>US</td>\n",
              "      <td>...</td>\n",
              "      <td>NaN</td>\n",
              "      <td>0.0</td>\n",
              "      <td>NaN</td>\n",
              "      <td>NaN</td>\n",
              "      <td>NaN</td>\n",
              "      <td>True</td>\n",
              "      <td>NaN</td>\n",
              "      <td>NaN</td>\n",
              "      <td>False</td>\n",
              "      <td>False</td>\n",
              "    </tr>\n",
              "    <tr>\n",
              "      <th>2</th>\n",
              "      <td>2</td>\n",
              "      <td>737265056</td>\n",
              "      <td>737265056</td>\n",
              "      <td>5000</td>\n",
              "      <td>5000.0</td>\n",
              "      <td>2016-11-08T09:18:39</td>\n",
              "      <td>7.47</td>\n",
              "      <td>Play Store</td>\n",
              "      <td>US</td>\n",
              "      <td>US</td>\n",
              "      <td>...</td>\n",
              "      <td>NaN</td>\n",
              "      <td>0.0</td>\n",
              "      <td>NaN</td>\n",
              "      <td>NaN</td>\n",
              "      <td>NaN</td>\n",
              "      <td>False</td>\n",
              "      <td>NaN</td>\n",
              "      <td>NaN</td>\n",
              "      <td>False</td>\n",
              "      <td>False</td>\n",
              "    </tr>\n",
              "    <tr>\n",
              "      <th>3</th>\n",
              "      <td>3</td>\n",
              "      <td>737265056</td>\n",
              "      <td>737265056</td>\n",
              "      <td>5000</td>\n",
              "      <td>5000.0</td>\n",
              "      <td>2016-12-10T02:14:50</td>\n",
              "      <td>7.47</td>\n",
              "      <td>Play Store</td>\n",
              "      <td>US</td>\n",
              "      <td>US</td>\n",
              "      <td>...</td>\n",
              "      <td>NaN</td>\n",
              "      <td>0.0</td>\n",
              "      <td>NaN</td>\n",
              "      <td>NaN</td>\n",
              "      <td>NaN</td>\n",
              "      <td>False</td>\n",
              "      <td>NaN</td>\n",
              "      <td>NaN</td>\n",
              "      <td>False</td>\n",
              "      <td>False</td>\n",
              "    </tr>\n",
              "    <tr>\n",
              "      <th>4</th>\n",
              "      <td>4</td>\n",
              "      <td>830329091</td>\n",
              "      <td>830329091</td>\n",
              "      <td>5000</td>\n",
              "      <td>5000.0</td>\n",
              "      <td>2016-03-24T21:04:46</td>\n",
              "      <td>71.18</td>\n",
              "      <td>Tim Hortons #947751</td>\n",
              "      <td>US</td>\n",
              "      <td>US</td>\n",
              "      <td>...</td>\n",
              "      <td>NaN</td>\n",
              "      <td>0.0</td>\n",
              "      <td>NaN</td>\n",
              "      <td>NaN</td>\n",
              "      <td>NaN</td>\n",
              "      <td>True</td>\n",
              "      <td>NaN</td>\n",
              "      <td>NaN</td>\n",
              "      <td>False</td>\n",
              "      <td>False</td>\n",
              "    </tr>\n",
              "  </tbody>\n",
              "</table>\n",
              "<p>5 rows × 30 columns</p>\n",
              "</div>\n",
              "    <div class=\"colab-df-buttons\">\n",
              "\n",
              "  <div class=\"colab-df-container\">\n",
              "    <button class=\"colab-df-convert\" onclick=\"convertToInteractive('df-7c90056b-eb6e-4811-a285-ca881f597987')\"\n",
              "            title=\"Convert this dataframe to an interactive table.\"\n",
              "            style=\"display:none;\">\n",
              "\n",
              "  <svg xmlns=\"http://www.w3.org/2000/svg\" height=\"24px\" viewBox=\"0 -960 960 960\">\n",
              "    <path d=\"M120-120v-720h720v720H120Zm60-500h600v-160H180v160Zm220 220h160v-160H400v160Zm0 220h160v-160H400v160ZM180-400h160v-160H180v160Zm440 0h160v-160H620v160ZM180-180h160v-160H180v160Zm440 0h160v-160H620v160Z\"/>\n",
              "  </svg>\n",
              "    </button>\n",
              "\n",
              "  <style>\n",
              "    .colab-df-container {\n",
              "      display:flex;\n",
              "      gap: 12px;\n",
              "    }\n",
              "\n",
              "    .colab-df-convert {\n",
              "      background-color: #E8F0FE;\n",
              "      border: none;\n",
              "      border-radius: 50%;\n",
              "      cursor: pointer;\n",
              "      display: none;\n",
              "      fill: #1967D2;\n",
              "      height: 32px;\n",
              "      padding: 0 0 0 0;\n",
              "      width: 32px;\n",
              "    }\n",
              "\n",
              "    .colab-df-convert:hover {\n",
              "      background-color: #E2EBFA;\n",
              "      box-shadow: 0px 1px 2px rgba(60, 64, 67, 0.3), 0px 1px 3px 1px rgba(60, 64, 67, 0.15);\n",
              "      fill: #174EA6;\n",
              "    }\n",
              "\n",
              "    .colab-df-buttons div {\n",
              "      margin-bottom: 4px;\n",
              "    }\n",
              "\n",
              "    [theme=dark] .colab-df-convert {\n",
              "      background-color: #3B4455;\n",
              "      fill: #D2E3FC;\n",
              "    }\n",
              "\n",
              "    [theme=dark] .colab-df-convert:hover {\n",
              "      background-color: #434B5C;\n",
              "      box-shadow: 0px 1px 3px 1px rgba(0, 0, 0, 0.15);\n",
              "      filter: drop-shadow(0px 1px 2px rgba(0, 0, 0, 0.3));\n",
              "      fill: #FFFFFF;\n",
              "    }\n",
              "  </style>\n",
              "\n",
              "    <script>\n",
              "      const buttonEl =\n",
              "        document.querySelector('#df-7c90056b-eb6e-4811-a285-ca881f597987 button.colab-df-convert');\n",
              "      buttonEl.style.display =\n",
              "        google.colab.kernel.accessAllowed ? 'block' : 'none';\n",
              "\n",
              "      async function convertToInteractive(key) {\n",
              "        const element = document.querySelector('#df-7c90056b-eb6e-4811-a285-ca881f597987');\n",
              "        const dataTable =\n",
              "          await google.colab.kernel.invokeFunction('convertToInteractive',\n",
              "                                                    [key], {});\n",
              "        if (!dataTable) return;\n",
              "\n",
              "        const docLinkHtml = 'Like what you see? Visit the ' +\n",
              "          '<a target=\"_blank\" href=https://colab.research.google.com/notebooks/data_table.ipynb>data table notebook</a>'\n",
              "          + ' to learn more about interactive tables.';\n",
              "        element.innerHTML = '';\n",
              "        dataTable['output_type'] = 'display_data';\n",
              "        await google.colab.output.renderOutput(dataTable, element);\n",
              "        const docLink = document.createElement('div');\n",
              "        docLink.innerHTML = docLinkHtml;\n",
              "        element.appendChild(docLink);\n",
              "      }\n",
              "    </script>\n",
              "  </div>\n",
              "\n",
              "\n",
              "<div id=\"df-25a68c73-16bc-42ba-bbe3-ec1d1dbeca66\">\n",
              "  <button class=\"colab-df-quickchart\" onclick=\"quickchart('df-25a68c73-16bc-42ba-bbe3-ec1d1dbeca66')\"\n",
              "            title=\"Suggest charts\"\n",
              "            style=\"display:none;\">\n",
              "\n",
              "<svg xmlns=\"http://www.w3.org/2000/svg\" height=\"24px\"viewBox=\"0 0 24 24\"\n",
              "     width=\"24px\">\n",
              "    <g>\n",
              "        <path d=\"M19 3H5c-1.1 0-2 .9-2 2v14c0 1.1.9 2 2 2h14c1.1 0 2-.9 2-2V5c0-1.1-.9-2-2-2zM9 17H7v-7h2v7zm4 0h-2V7h2v10zm4 0h-2v-4h2v4z\"/>\n",
              "    </g>\n",
              "</svg>\n",
              "  </button>\n",
              "\n",
              "<style>\n",
              "  .colab-df-quickchart {\n",
              "      --bg-color: #E8F0FE;\n",
              "      --fill-color: #1967D2;\n",
              "      --hover-bg-color: #E2EBFA;\n",
              "      --hover-fill-color: #174EA6;\n",
              "      --disabled-fill-color: #AAA;\n",
              "      --disabled-bg-color: #DDD;\n",
              "  }\n",
              "\n",
              "  [theme=dark] .colab-df-quickchart {\n",
              "      --bg-color: #3B4455;\n",
              "      --fill-color: #D2E3FC;\n",
              "      --hover-bg-color: #434B5C;\n",
              "      --hover-fill-color: #FFFFFF;\n",
              "      --disabled-bg-color: #3B4455;\n",
              "      --disabled-fill-color: #666;\n",
              "  }\n",
              "\n",
              "  .colab-df-quickchart {\n",
              "    background-color: var(--bg-color);\n",
              "    border: none;\n",
              "    border-radius: 50%;\n",
              "    cursor: pointer;\n",
              "    display: none;\n",
              "    fill: var(--fill-color);\n",
              "    height: 32px;\n",
              "    padding: 0;\n",
              "    width: 32px;\n",
              "  }\n",
              "\n",
              "  .colab-df-quickchart:hover {\n",
              "    background-color: var(--hover-bg-color);\n",
              "    box-shadow: 0 1px 2px rgba(60, 64, 67, 0.3), 0 1px 3px 1px rgba(60, 64, 67, 0.15);\n",
              "    fill: var(--button-hover-fill-color);\n",
              "  }\n",
              "\n",
              "  .colab-df-quickchart-complete:disabled,\n",
              "  .colab-df-quickchart-complete:disabled:hover {\n",
              "    background-color: var(--disabled-bg-color);\n",
              "    fill: var(--disabled-fill-color);\n",
              "    box-shadow: none;\n",
              "  }\n",
              "\n",
              "  .colab-df-spinner {\n",
              "    border: 2px solid var(--fill-color);\n",
              "    border-color: transparent;\n",
              "    border-bottom-color: var(--fill-color);\n",
              "    animation:\n",
              "      spin 1s steps(1) infinite;\n",
              "  }\n",
              "\n",
              "  @keyframes spin {\n",
              "    0% {\n",
              "      border-color: transparent;\n",
              "      border-bottom-color: var(--fill-color);\n",
              "      border-left-color: var(--fill-color);\n",
              "    }\n",
              "    20% {\n",
              "      border-color: transparent;\n",
              "      border-left-color: var(--fill-color);\n",
              "      border-top-color: var(--fill-color);\n",
              "    }\n",
              "    30% {\n",
              "      border-color: transparent;\n",
              "      border-left-color: var(--fill-color);\n",
              "      border-top-color: var(--fill-color);\n",
              "      border-right-color: var(--fill-color);\n",
              "    }\n",
              "    40% {\n",
              "      border-color: transparent;\n",
              "      border-right-color: var(--fill-color);\n",
              "      border-top-color: var(--fill-color);\n",
              "    }\n",
              "    60% {\n",
              "      border-color: transparent;\n",
              "      border-right-color: var(--fill-color);\n",
              "    }\n",
              "    80% {\n",
              "      border-color: transparent;\n",
              "      border-right-color: var(--fill-color);\n",
              "      border-bottom-color: var(--fill-color);\n",
              "    }\n",
              "    90% {\n",
              "      border-color: transparent;\n",
              "      border-bottom-color: var(--fill-color);\n",
              "    }\n",
              "  }\n",
              "</style>\n",
              "\n",
              "  <script>\n",
              "    async function quickchart(key) {\n",
              "      const quickchartButtonEl =\n",
              "        document.querySelector('#' + key + ' button');\n",
              "      quickchartButtonEl.disabled = true;  // To prevent multiple clicks.\n",
              "      quickchartButtonEl.classList.add('colab-df-spinner');\n",
              "      try {\n",
              "        const charts = await google.colab.kernel.invokeFunction(\n",
              "            'suggestCharts', [key], {});\n",
              "      } catch (error) {\n",
              "        console.error('Error during call to suggestCharts:', error);\n",
              "      }\n",
              "      quickchartButtonEl.classList.remove('colab-df-spinner');\n",
              "      quickchartButtonEl.classList.add('colab-df-quickchart-complete');\n",
              "    }\n",
              "    (() => {\n",
              "      let quickchartButtonEl =\n",
              "        document.querySelector('#df-25a68c73-16bc-42ba-bbe3-ec1d1dbeca66 button');\n",
              "      quickchartButtonEl.style.display =\n",
              "        google.colab.kernel.accessAllowed ? 'block' : 'none';\n",
              "    })();\n",
              "  </script>\n",
              "</div>\n",
              "    </div>\n",
              "  </div>\n"
            ],
            "application/vnd.google.colaboratory.intrinsic+json": {
              "type": "dataframe",
              "variable_name": "df"
            }
          },
          "metadata": {},
          "execution_count": 3
        }
      ],
      "source": [
        "df = pd.read_csv('/content/drive/MyDrive/UAX/4º/TFG/TFG/Código /transactions.txt')\n",
        "df.head()"
      ]
    },
    {
      "cell_type": "markdown",
      "metadata": {
        "id": "lht5NIcRmiN8"
      },
      "source": [
        "# Data exploration"
      ]
    },
    {
      "cell_type": "code",
      "execution_count": null,
      "metadata": {
        "id": "JjcXIei0miN8",
        "colab": {
          "base_uri": "https://localhost:8080/"
        },
        "outputId": "5ff44cc9-1750-45c2-cb30-5d1d84ba66df"
      },
      "outputs": [
        {
          "output_type": "stream",
          "name": "stdout",
          "text": [
            "<class 'pandas.core.frame.DataFrame'>\n",
            "RangeIndex: 786363 entries, 0 to 786362\n",
            "Data columns (total 30 columns):\n",
            " #   Column                    Non-Null Count   Dtype  \n",
            "---  ------                    --------------   -----  \n",
            " 0   Unnamed: 0                786363 non-null  int64  \n",
            " 1   accountNumber             786363 non-null  int64  \n",
            " 2   customerId                786363 non-null  int64  \n",
            " 3   creditLimit               786363 non-null  int64  \n",
            " 4   availableMoney            786363 non-null  float64\n",
            " 5   transactionDateTime       786363 non-null  object \n",
            " 6   transactionAmount         786363 non-null  float64\n",
            " 7   merchantName              786363 non-null  object \n",
            " 8   acqCountry                781801 non-null  object \n",
            " 9   merchantCountryCode       785639 non-null  object \n",
            " 10  posEntryMode              782309 non-null  float64\n",
            " 11  posConditionCode          785954 non-null  float64\n",
            " 12  merchantCategoryCode      786363 non-null  object \n",
            " 13  currentExpDate            786363 non-null  object \n",
            " 14  accountOpenDate           786363 non-null  object \n",
            " 15  dateOfLastAddressChange   786363 non-null  object \n",
            " 16  cardCVV                   786363 non-null  int64  \n",
            " 17  enteredCVV                786363 non-null  int64  \n",
            " 18  cardLast4Digits           786363 non-null  int64  \n",
            " 19  transactionType           785665 non-null  object \n",
            " 20  echoBuffer                0 non-null       float64\n",
            " 21  currentBalance            786363 non-null  float64\n",
            " 22  merchantCity              0 non-null       float64\n",
            " 23  merchantState             0 non-null       float64\n",
            " 24  merchantZip               0 non-null       float64\n",
            " 25  cardPresent               786363 non-null  bool   \n",
            " 26  posOnPremises             0 non-null       float64\n",
            " 27  recurringAuthInd          0 non-null       float64\n",
            " 28  expirationDateKeyInMatch  786363 non-null  bool   \n",
            " 29  isFraud                   786363 non-null  bool   \n",
            "dtypes: bool(3), float64(11), int64(7), object(9)\n",
            "memory usage: 164.2+ MB\n"
          ]
        }
      ],
      "source": [
        "df.info()"
      ]
    },
    {
      "cell_type": "code",
      "execution_count": null,
      "metadata": {
        "id": "n3PuugW7miN9",
        "colab": {
          "base_uri": "https://localhost:8080/"
        },
        "outputId": "475b075d-0546-4031-cfec-ece12f463da1"
      },
      "outputs": [
        {
          "output_type": "execute_result",
          "data": {
            "text/plain": [
              "Index(['Unnamed: 0', 'accountNumber', 'customerId', 'creditLimit',\n",
              "       'availableMoney', 'transactionDateTime', 'transactionAmount',\n",
              "       'merchantName', 'acqCountry', 'merchantCountryCode', 'posEntryMode',\n",
              "       'posConditionCode', 'merchantCategoryCode', 'currentExpDate',\n",
              "       'accountOpenDate', 'dateOfLastAddressChange', 'cardCVV', 'enteredCVV',\n",
              "       'cardLast4Digits', 'transactionType', 'echoBuffer', 'currentBalance',\n",
              "       'merchantCity', 'merchantState', 'merchantZip', 'cardPresent',\n",
              "       'posOnPremises', 'recurringAuthInd', 'expirationDateKeyInMatch',\n",
              "       'isFraud'],\n",
              "      dtype='object')"
            ]
          },
          "metadata": {},
          "execution_count": 5
        }
      ],
      "source": [
        "df.columns"
      ]
    },
    {
      "cell_type": "code",
      "execution_count": null,
      "metadata": {
        "id": "C549APHimiN9",
        "colab": {
          "base_uri": "https://localhost:8080/"
        },
        "outputId": "819daa74-b74f-4bc9-9ecc-ff50517ef2e0"
      },
      "outputs": [
        {
          "output_type": "execute_result",
          "data": {
            "text/plain": [
              "float64    11\n",
              "object      9\n",
              "int64       7\n",
              "bool        3\n",
              "Name: count, dtype: int64"
            ]
          },
          "metadata": {},
          "execution_count": 6
        }
      ],
      "source": [
        "df.dtypes.value_counts()"
      ]
    },
    {
      "cell_type": "markdown",
      "metadata": {
        "id": "ZIjUJM6HmiN-"
      },
      "source": [
        "Podemos ver que tenemos 30 columnas, donde 11 son valores flotantes, 7 son enteros, 9 son objetos y 3 son booleanos."
      ]
    },
    {
      "cell_type": "markdown",
      "metadata": {
        "id": "vpC2_SEBmiN-"
      },
      "source": [
        "Elimamos la primera columna"
      ]
    },
    {
      "cell_type": "code",
      "execution_count": null,
      "metadata": {
        "id": "ydUixup9miN-"
      },
      "outputs": [],
      "source": [
        "df = df.drop('Unnamed: 0', axis = 1)\n"
      ]
    },
    {
      "cell_type": "markdown",
      "metadata": {
        "id": "FQZGtoJYmiN_"
      },
      "source": [
        "## Análisis Descriptivo"
      ]
    },
    {
      "cell_type": "code",
      "execution_count": null,
      "metadata": {
        "id": "J_00BRZ6miN_",
        "colab": {
          "base_uri": "https://localhost:8080/",
          "height": 582
        },
        "outputId": "111e32c2-9c90-4fdb-81fd-291df47e3843"
      },
      "outputs": [
        {
          "output_type": "execute_result",
          "data": {
            "text/plain": [
              "                      count          mean           std           min  \\\n",
              "accountNumber      786363.0  5.372326e+08  2.554211e+08  1.000881e+08   \n",
              "customerId         786363.0  5.372326e+08  2.554211e+08  1.000881e+08   \n",
              "creditLimit        786363.0  1.075946e+04  1.163617e+04  2.500000e+02   \n",
              "availableMoney     786363.0  6.250725e+03  8.880784e+03 -1.005630e+03   \n",
              "transactionAmount  786363.0  1.369858e+02  1.477256e+02  0.000000e+00   \n",
              "posEntryMode       782309.0  9.049943e+00  1.677413e+01  2.000000e+00   \n",
              "posConditionCode   785954.0  3.271980e+00  9.809023e+00  1.000000e+00   \n",
              "cardCVV            786363.0  5.444673e+02  2.615242e+02  1.000000e+02   \n",
              "enteredCVV         786363.0  5.441839e+02  2.615513e+02  0.000000e+00   \n",
              "cardLast4Digits    786363.0  4.757418e+03  2.996584e+03  0.000000e+00   \n",
              "echoBuffer              0.0           NaN           NaN           NaN   \n",
              "currentBalance     786363.0  4.508739e+03  6.457442e+03  0.000000e+00   \n",
              "merchantCity            0.0           NaN           NaN           NaN   \n",
              "merchantState           0.0           NaN           NaN           NaN   \n",
              "merchantZip             0.0           NaN           NaN           NaN   \n",
              "posOnPremises           0.0           NaN           NaN           NaN   \n",
              "recurringAuthInd        0.0           NaN           NaN           NaN   \n",
              "\n",
              "                            25%           50%           75%           max  \n",
              "accountNumber      3.301333e+08  5.074561e+08  7.676200e+08  9.993896e+08  \n",
              "customerId         3.301333e+08  5.074561e+08  7.676200e+08  9.993896e+08  \n",
              "creditLimit        5.000000e+03  7.500000e+03  1.500000e+04  5.000000e+04  \n",
              "availableMoney     1.077420e+03  3.184860e+03  7.500000e+03  5.000000e+04  \n",
              "transactionAmount  3.365000e+01  8.790000e+01  1.914800e+02  2.011540e+03  \n",
              "posEntryMode       2.000000e+00  5.000000e+00  9.000000e+00  9.000000e+01  \n",
              "posConditionCode   1.000000e+00  1.000000e+00  1.000000e+00  9.900000e+01  \n",
              "cardCVV            3.100000e+02  5.350000e+02  7.850000e+02  9.980000e+02  \n",
              "enteredCVV         3.100000e+02  5.350000e+02  7.850000e+02  9.980000e+02  \n",
              "cardLast4Digits    2.178000e+03  4.733000e+03  7.338000e+03  9.998000e+03  \n",
              "echoBuffer                  NaN           NaN           NaN           NaN  \n",
              "currentBalance     6.899100e+02  2.451760e+03  5.291095e+03  4.749881e+04  \n",
              "merchantCity                NaN           NaN           NaN           NaN  \n",
              "merchantState               NaN           NaN           NaN           NaN  \n",
              "merchantZip                 NaN           NaN           NaN           NaN  \n",
              "posOnPremises               NaN           NaN           NaN           NaN  \n",
              "recurringAuthInd            NaN           NaN           NaN           NaN  "
            ],
            "text/html": [
              "\n",
              "  <div id=\"df-b92acce8-eede-44b4-90b9-828c6db8e95c\" class=\"colab-df-container\">\n",
              "    <div>\n",
              "<style scoped>\n",
              "    .dataframe tbody tr th:only-of-type {\n",
              "        vertical-align: middle;\n",
              "    }\n",
              "\n",
              "    .dataframe tbody tr th {\n",
              "        vertical-align: top;\n",
              "    }\n",
              "\n",
              "    .dataframe thead th {\n",
              "        text-align: right;\n",
              "    }\n",
              "</style>\n",
              "<table border=\"1\" class=\"dataframe\">\n",
              "  <thead>\n",
              "    <tr style=\"text-align: right;\">\n",
              "      <th></th>\n",
              "      <th>count</th>\n",
              "      <th>mean</th>\n",
              "      <th>std</th>\n",
              "      <th>min</th>\n",
              "      <th>25%</th>\n",
              "      <th>50%</th>\n",
              "      <th>75%</th>\n",
              "      <th>max</th>\n",
              "    </tr>\n",
              "  </thead>\n",
              "  <tbody>\n",
              "    <tr>\n",
              "      <th>accountNumber</th>\n",
              "      <td>786363.0</td>\n",
              "      <td>5.372326e+08</td>\n",
              "      <td>2.554211e+08</td>\n",
              "      <td>1.000881e+08</td>\n",
              "      <td>3.301333e+08</td>\n",
              "      <td>5.074561e+08</td>\n",
              "      <td>7.676200e+08</td>\n",
              "      <td>9.993896e+08</td>\n",
              "    </tr>\n",
              "    <tr>\n",
              "      <th>customerId</th>\n",
              "      <td>786363.0</td>\n",
              "      <td>5.372326e+08</td>\n",
              "      <td>2.554211e+08</td>\n",
              "      <td>1.000881e+08</td>\n",
              "      <td>3.301333e+08</td>\n",
              "      <td>5.074561e+08</td>\n",
              "      <td>7.676200e+08</td>\n",
              "      <td>9.993896e+08</td>\n",
              "    </tr>\n",
              "    <tr>\n",
              "      <th>creditLimit</th>\n",
              "      <td>786363.0</td>\n",
              "      <td>1.075946e+04</td>\n",
              "      <td>1.163617e+04</td>\n",
              "      <td>2.500000e+02</td>\n",
              "      <td>5.000000e+03</td>\n",
              "      <td>7.500000e+03</td>\n",
              "      <td>1.500000e+04</td>\n",
              "      <td>5.000000e+04</td>\n",
              "    </tr>\n",
              "    <tr>\n",
              "      <th>availableMoney</th>\n",
              "      <td>786363.0</td>\n",
              "      <td>6.250725e+03</td>\n",
              "      <td>8.880784e+03</td>\n",
              "      <td>-1.005630e+03</td>\n",
              "      <td>1.077420e+03</td>\n",
              "      <td>3.184860e+03</td>\n",
              "      <td>7.500000e+03</td>\n",
              "      <td>5.000000e+04</td>\n",
              "    </tr>\n",
              "    <tr>\n",
              "      <th>transactionAmount</th>\n",
              "      <td>786363.0</td>\n",
              "      <td>1.369858e+02</td>\n",
              "      <td>1.477256e+02</td>\n",
              "      <td>0.000000e+00</td>\n",
              "      <td>3.365000e+01</td>\n",
              "      <td>8.790000e+01</td>\n",
              "      <td>1.914800e+02</td>\n",
              "      <td>2.011540e+03</td>\n",
              "    </tr>\n",
              "    <tr>\n",
              "      <th>posEntryMode</th>\n",
              "      <td>782309.0</td>\n",
              "      <td>9.049943e+00</td>\n",
              "      <td>1.677413e+01</td>\n",
              "      <td>2.000000e+00</td>\n",
              "      <td>2.000000e+00</td>\n",
              "      <td>5.000000e+00</td>\n",
              "      <td>9.000000e+00</td>\n",
              "      <td>9.000000e+01</td>\n",
              "    </tr>\n",
              "    <tr>\n",
              "      <th>posConditionCode</th>\n",
              "      <td>785954.0</td>\n",
              "      <td>3.271980e+00</td>\n",
              "      <td>9.809023e+00</td>\n",
              "      <td>1.000000e+00</td>\n",
              "      <td>1.000000e+00</td>\n",
              "      <td>1.000000e+00</td>\n",
              "      <td>1.000000e+00</td>\n",
              "      <td>9.900000e+01</td>\n",
              "    </tr>\n",
              "    <tr>\n",
              "      <th>cardCVV</th>\n",
              "      <td>786363.0</td>\n",
              "      <td>5.444673e+02</td>\n",
              "      <td>2.615242e+02</td>\n",
              "      <td>1.000000e+02</td>\n",
              "      <td>3.100000e+02</td>\n",
              "      <td>5.350000e+02</td>\n",
              "      <td>7.850000e+02</td>\n",
              "      <td>9.980000e+02</td>\n",
              "    </tr>\n",
              "    <tr>\n",
              "      <th>enteredCVV</th>\n",
              "      <td>786363.0</td>\n",
              "      <td>5.441839e+02</td>\n",
              "      <td>2.615513e+02</td>\n",
              "      <td>0.000000e+00</td>\n",
              "      <td>3.100000e+02</td>\n",
              "      <td>5.350000e+02</td>\n",
              "      <td>7.850000e+02</td>\n",
              "      <td>9.980000e+02</td>\n",
              "    </tr>\n",
              "    <tr>\n",
              "      <th>cardLast4Digits</th>\n",
              "      <td>786363.0</td>\n",
              "      <td>4.757418e+03</td>\n",
              "      <td>2.996584e+03</td>\n",
              "      <td>0.000000e+00</td>\n",
              "      <td>2.178000e+03</td>\n",
              "      <td>4.733000e+03</td>\n",
              "      <td>7.338000e+03</td>\n",
              "      <td>9.998000e+03</td>\n",
              "    </tr>\n",
              "    <tr>\n",
              "      <th>echoBuffer</th>\n",
              "      <td>0.0</td>\n",
              "      <td>NaN</td>\n",
              "      <td>NaN</td>\n",
              "      <td>NaN</td>\n",
              "      <td>NaN</td>\n",
              "      <td>NaN</td>\n",
              "      <td>NaN</td>\n",
              "      <td>NaN</td>\n",
              "    </tr>\n",
              "    <tr>\n",
              "      <th>currentBalance</th>\n",
              "      <td>786363.0</td>\n",
              "      <td>4.508739e+03</td>\n",
              "      <td>6.457442e+03</td>\n",
              "      <td>0.000000e+00</td>\n",
              "      <td>6.899100e+02</td>\n",
              "      <td>2.451760e+03</td>\n",
              "      <td>5.291095e+03</td>\n",
              "      <td>4.749881e+04</td>\n",
              "    </tr>\n",
              "    <tr>\n",
              "      <th>merchantCity</th>\n",
              "      <td>0.0</td>\n",
              "      <td>NaN</td>\n",
              "      <td>NaN</td>\n",
              "      <td>NaN</td>\n",
              "      <td>NaN</td>\n",
              "      <td>NaN</td>\n",
              "      <td>NaN</td>\n",
              "      <td>NaN</td>\n",
              "    </tr>\n",
              "    <tr>\n",
              "      <th>merchantState</th>\n",
              "      <td>0.0</td>\n",
              "      <td>NaN</td>\n",
              "      <td>NaN</td>\n",
              "      <td>NaN</td>\n",
              "      <td>NaN</td>\n",
              "      <td>NaN</td>\n",
              "      <td>NaN</td>\n",
              "      <td>NaN</td>\n",
              "    </tr>\n",
              "    <tr>\n",
              "      <th>merchantZip</th>\n",
              "      <td>0.0</td>\n",
              "      <td>NaN</td>\n",
              "      <td>NaN</td>\n",
              "      <td>NaN</td>\n",
              "      <td>NaN</td>\n",
              "      <td>NaN</td>\n",
              "      <td>NaN</td>\n",
              "      <td>NaN</td>\n",
              "    </tr>\n",
              "    <tr>\n",
              "      <th>posOnPremises</th>\n",
              "      <td>0.0</td>\n",
              "      <td>NaN</td>\n",
              "      <td>NaN</td>\n",
              "      <td>NaN</td>\n",
              "      <td>NaN</td>\n",
              "      <td>NaN</td>\n",
              "      <td>NaN</td>\n",
              "      <td>NaN</td>\n",
              "    </tr>\n",
              "    <tr>\n",
              "      <th>recurringAuthInd</th>\n",
              "      <td>0.0</td>\n",
              "      <td>NaN</td>\n",
              "      <td>NaN</td>\n",
              "      <td>NaN</td>\n",
              "      <td>NaN</td>\n",
              "      <td>NaN</td>\n",
              "      <td>NaN</td>\n",
              "      <td>NaN</td>\n",
              "    </tr>\n",
              "  </tbody>\n",
              "</table>\n",
              "</div>\n",
              "    <div class=\"colab-df-buttons\">\n",
              "\n",
              "  <div class=\"colab-df-container\">\n",
              "    <button class=\"colab-df-convert\" onclick=\"convertToInteractive('df-b92acce8-eede-44b4-90b9-828c6db8e95c')\"\n",
              "            title=\"Convert this dataframe to an interactive table.\"\n",
              "            style=\"display:none;\">\n",
              "\n",
              "  <svg xmlns=\"http://www.w3.org/2000/svg\" height=\"24px\" viewBox=\"0 -960 960 960\">\n",
              "    <path d=\"M120-120v-720h720v720H120Zm60-500h600v-160H180v160Zm220 220h160v-160H400v160Zm0 220h160v-160H400v160ZM180-400h160v-160H180v160Zm440 0h160v-160H620v160ZM180-180h160v-160H180v160Zm440 0h160v-160H620v160Z\"/>\n",
              "  </svg>\n",
              "    </button>\n",
              "\n",
              "  <style>\n",
              "    .colab-df-container {\n",
              "      display:flex;\n",
              "      gap: 12px;\n",
              "    }\n",
              "\n",
              "    .colab-df-convert {\n",
              "      background-color: #E8F0FE;\n",
              "      border: none;\n",
              "      border-radius: 50%;\n",
              "      cursor: pointer;\n",
              "      display: none;\n",
              "      fill: #1967D2;\n",
              "      height: 32px;\n",
              "      padding: 0 0 0 0;\n",
              "      width: 32px;\n",
              "    }\n",
              "\n",
              "    .colab-df-convert:hover {\n",
              "      background-color: #E2EBFA;\n",
              "      box-shadow: 0px 1px 2px rgba(60, 64, 67, 0.3), 0px 1px 3px 1px rgba(60, 64, 67, 0.15);\n",
              "      fill: #174EA6;\n",
              "    }\n",
              "\n",
              "    .colab-df-buttons div {\n",
              "      margin-bottom: 4px;\n",
              "    }\n",
              "\n",
              "    [theme=dark] .colab-df-convert {\n",
              "      background-color: #3B4455;\n",
              "      fill: #D2E3FC;\n",
              "    }\n",
              "\n",
              "    [theme=dark] .colab-df-convert:hover {\n",
              "      background-color: #434B5C;\n",
              "      box-shadow: 0px 1px 3px 1px rgba(0, 0, 0, 0.15);\n",
              "      filter: drop-shadow(0px 1px 2px rgba(0, 0, 0, 0.3));\n",
              "      fill: #FFFFFF;\n",
              "    }\n",
              "  </style>\n",
              "\n",
              "    <script>\n",
              "      const buttonEl =\n",
              "        document.querySelector('#df-b92acce8-eede-44b4-90b9-828c6db8e95c button.colab-df-convert');\n",
              "      buttonEl.style.display =\n",
              "        google.colab.kernel.accessAllowed ? 'block' : 'none';\n",
              "\n",
              "      async function convertToInteractive(key) {\n",
              "        const element = document.querySelector('#df-b92acce8-eede-44b4-90b9-828c6db8e95c');\n",
              "        const dataTable =\n",
              "          await google.colab.kernel.invokeFunction('convertToInteractive',\n",
              "                                                    [key], {});\n",
              "        if (!dataTable) return;\n",
              "\n",
              "        const docLinkHtml = 'Like what you see? Visit the ' +\n",
              "          '<a target=\"_blank\" href=https://colab.research.google.com/notebooks/data_table.ipynb>data table notebook</a>'\n",
              "          + ' to learn more about interactive tables.';\n",
              "        element.innerHTML = '';\n",
              "        dataTable['output_type'] = 'display_data';\n",
              "        await google.colab.output.renderOutput(dataTable, element);\n",
              "        const docLink = document.createElement('div');\n",
              "        docLink.innerHTML = docLinkHtml;\n",
              "        element.appendChild(docLink);\n",
              "      }\n",
              "    </script>\n",
              "  </div>\n",
              "\n",
              "\n",
              "<div id=\"df-0451787e-0df0-4cb4-8cec-972aa927ebb1\">\n",
              "  <button class=\"colab-df-quickchart\" onclick=\"quickchart('df-0451787e-0df0-4cb4-8cec-972aa927ebb1')\"\n",
              "            title=\"Suggest charts\"\n",
              "            style=\"display:none;\">\n",
              "\n",
              "<svg xmlns=\"http://www.w3.org/2000/svg\" height=\"24px\"viewBox=\"0 0 24 24\"\n",
              "     width=\"24px\">\n",
              "    <g>\n",
              "        <path d=\"M19 3H5c-1.1 0-2 .9-2 2v14c0 1.1.9 2 2 2h14c1.1 0 2-.9 2-2V5c0-1.1-.9-2-2-2zM9 17H7v-7h2v7zm4 0h-2V7h2v10zm4 0h-2v-4h2v4z\"/>\n",
              "    </g>\n",
              "</svg>\n",
              "  </button>\n",
              "\n",
              "<style>\n",
              "  .colab-df-quickchart {\n",
              "      --bg-color: #E8F0FE;\n",
              "      --fill-color: #1967D2;\n",
              "      --hover-bg-color: #E2EBFA;\n",
              "      --hover-fill-color: #174EA6;\n",
              "      --disabled-fill-color: #AAA;\n",
              "      --disabled-bg-color: #DDD;\n",
              "  }\n",
              "\n",
              "  [theme=dark] .colab-df-quickchart {\n",
              "      --bg-color: #3B4455;\n",
              "      --fill-color: #D2E3FC;\n",
              "      --hover-bg-color: #434B5C;\n",
              "      --hover-fill-color: #FFFFFF;\n",
              "      --disabled-bg-color: #3B4455;\n",
              "      --disabled-fill-color: #666;\n",
              "  }\n",
              "\n",
              "  .colab-df-quickchart {\n",
              "    background-color: var(--bg-color);\n",
              "    border: none;\n",
              "    border-radius: 50%;\n",
              "    cursor: pointer;\n",
              "    display: none;\n",
              "    fill: var(--fill-color);\n",
              "    height: 32px;\n",
              "    padding: 0;\n",
              "    width: 32px;\n",
              "  }\n",
              "\n",
              "  .colab-df-quickchart:hover {\n",
              "    background-color: var(--hover-bg-color);\n",
              "    box-shadow: 0 1px 2px rgba(60, 64, 67, 0.3), 0 1px 3px 1px rgba(60, 64, 67, 0.15);\n",
              "    fill: var(--button-hover-fill-color);\n",
              "  }\n",
              "\n",
              "  .colab-df-quickchart-complete:disabled,\n",
              "  .colab-df-quickchart-complete:disabled:hover {\n",
              "    background-color: var(--disabled-bg-color);\n",
              "    fill: var(--disabled-fill-color);\n",
              "    box-shadow: none;\n",
              "  }\n",
              "\n",
              "  .colab-df-spinner {\n",
              "    border: 2px solid var(--fill-color);\n",
              "    border-color: transparent;\n",
              "    border-bottom-color: var(--fill-color);\n",
              "    animation:\n",
              "      spin 1s steps(1) infinite;\n",
              "  }\n",
              "\n",
              "  @keyframes spin {\n",
              "    0% {\n",
              "      border-color: transparent;\n",
              "      border-bottom-color: var(--fill-color);\n",
              "      border-left-color: var(--fill-color);\n",
              "    }\n",
              "    20% {\n",
              "      border-color: transparent;\n",
              "      border-left-color: var(--fill-color);\n",
              "      border-top-color: var(--fill-color);\n",
              "    }\n",
              "    30% {\n",
              "      border-color: transparent;\n",
              "      border-left-color: var(--fill-color);\n",
              "      border-top-color: var(--fill-color);\n",
              "      border-right-color: var(--fill-color);\n",
              "    }\n",
              "    40% {\n",
              "      border-color: transparent;\n",
              "      border-right-color: var(--fill-color);\n",
              "      border-top-color: var(--fill-color);\n",
              "    }\n",
              "    60% {\n",
              "      border-color: transparent;\n",
              "      border-right-color: var(--fill-color);\n",
              "    }\n",
              "    80% {\n",
              "      border-color: transparent;\n",
              "      border-right-color: var(--fill-color);\n",
              "      border-bottom-color: var(--fill-color);\n",
              "    }\n",
              "    90% {\n",
              "      border-color: transparent;\n",
              "      border-bottom-color: var(--fill-color);\n",
              "    }\n",
              "  }\n",
              "</style>\n",
              "\n",
              "  <script>\n",
              "    async function quickchart(key) {\n",
              "      const quickchartButtonEl =\n",
              "        document.querySelector('#' + key + ' button');\n",
              "      quickchartButtonEl.disabled = true;  // To prevent multiple clicks.\n",
              "      quickchartButtonEl.classList.add('colab-df-spinner');\n",
              "      try {\n",
              "        const charts = await google.colab.kernel.invokeFunction(\n",
              "            'suggestCharts', [key], {});\n",
              "      } catch (error) {\n",
              "        console.error('Error during call to suggestCharts:', error);\n",
              "      }\n",
              "      quickchartButtonEl.classList.remove('colab-df-spinner');\n",
              "      quickchartButtonEl.classList.add('colab-df-quickchart-complete');\n",
              "    }\n",
              "    (() => {\n",
              "      let quickchartButtonEl =\n",
              "        document.querySelector('#df-0451787e-0df0-4cb4-8cec-972aa927ebb1 button');\n",
              "      quickchartButtonEl.style.display =\n",
              "        google.colab.kernel.accessAllowed ? 'block' : 'none';\n",
              "    })();\n",
              "  </script>\n",
              "</div>\n",
              "    </div>\n",
              "  </div>\n"
            ],
            "application/vnd.google.colaboratory.intrinsic+json": {
              "type": "dataframe",
              "summary": "{\n  \"name\": \"df\",\n  \"rows\": 17,\n  \"fields\": [\n    {\n      \"column\": \"count\",\n      \"properties\": {\n        \"dtype\": \"number\",\n        \"std\": 387157.6026885012,\n        \"min\": 0.0,\n        \"max\": 786363.0,\n        \"num_unique_values\": 4,\n        \"samples\": [\n          782309.0,\n          0.0,\n          786363.0\n        ],\n        \"semantic_type\": \"\",\n        \"description\": \"\"\n      }\n    },\n    {\n      \"column\": \"mean\",\n      \"properties\": {\n        \"dtype\": \"number\",\n        \"std\": 217320050.15093544,\n        \"min\": 3.271980294012118,\n        \"max\": 537232599.4617028,\n        \"num_unique_values\": 10,\n        \"samples\": [\n          4757.417799413248,\n          10759.464458526152,\n          3.271980294012118\n        ],\n        \"semantic_type\": \"\",\n        \"description\": \"\"\n      }\n    },\n    {\n      \"column\": \"std\",\n      \"properties\": {\n        \"dtype\": \"number\",\n        \"std\": 103321540.81932266,\n        \"min\": 9.80902299219301,\n        \"max\": 255421092.30730873,\n        \"num_unique_values\": 10,\n        \"samples\": [\n          2996.583809916615,\n          11636.174889962076,\n          9.80902299219301\n        ],\n        \"semantic_type\": \"\",\n        \"description\": \"\"\n      }\n    },\n    {\n      \"column\": \"min\",\n      \"properties\": {\n        \"dtype\": \"number\",\n        \"std\": 40487645.93818413,\n        \"min\": -1005.63,\n        \"max\": 100088067.0,\n        \"num_unique_values\": 7,\n        \"samples\": [\n          100088067.0,\n          250.0,\n          1.0\n        ],\n        \"semantic_type\": \"\",\n        \"description\": \"\"\n      }\n    },\n    {\n      \"column\": \"25%\",\n      \"properties\": {\n        \"dtype\": \"number\",\n        \"std\": 133545054.39984319,\n        \"min\": 1.0,\n        \"max\": 330133277.0,\n        \"num_unique_values\": 9,\n        \"samples\": [\n          2178.0,\n          5000.0,\n          1.0\n        ],\n        \"semantic_type\": \"\",\n        \"description\": \"\"\n      }\n    },\n    {\n      \"column\": \"50%\",\n      \"properties\": {\n        \"dtype\": \"number\",\n        \"std\": 205275233.29396683,\n        \"min\": 1.0,\n        \"max\": 507456073.0,\n        \"num_unique_values\": 9,\n        \"samples\": [\n          4733.0,\n          7500.0,\n          1.0\n        ],\n        \"semantic_type\": \"\",\n        \"description\": \"\"\n      }\n    },\n    {\n      \"column\": \"75%\",\n      \"properties\": {\n        \"dtype\": \"number\",\n        \"std\": 310515922.1493024,\n        \"min\": 1.0,\n        \"max\": 767620004.0,\n        \"num_unique_values\": 9,\n        \"samples\": [\n          7338.0,\n          15000.0,\n          1.0\n        ],\n        \"semantic_type\": \"\",\n        \"description\": \"\"\n      }\n    },\n    {\n      \"column\": \"max\",\n      \"properties\": {\n        \"dtype\": \"number\",\n        \"std\": 404265745.65416056,\n        \"min\": 90.0,\n        \"max\": 999389635.0,\n        \"num_unique_values\": 8,\n        \"samples\": [\n          50000.0,\n          998.0,\n          999389635.0\n        ],\n        \"semantic_type\": \"\",\n        \"description\": \"\"\n      }\n    }\n  ]\n}"
            }
          },
          "metadata": {},
          "execution_count": 8
        }
      ],
      "source": [
        "df.describe().T"
      ]
    },
    {
      "cell_type": "code",
      "source": [
        "latex_code = df.describe().T.to_latex()\n",
        "\n",
        "# Escribir a un archivo de texto\n",
        "with open('data_description.tex', 'w') as f:\n",
        "    f.write(latex_code)"
      ],
      "metadata": {
        "id": "vB2GdsCmsHcX"
      },
      "execution_count": null,
      "outputs": []
    },
    {
      "cell_type": "markdown",
      "metadata": {
        "id": "AuOmQx2GmiN_"
      },
      "source": [
        "### Valores duplicados"
      ]
    },
    {
      "cell_type": "code",
      "execution_count": null,
      "metadata": {
        "colab": {
          "base_uri": "https://localhost:8080/"
        },
        "id": "4IBmY3T6miN_",
        "outputId": "63842ba4-b34c-4214-e6b8-d82dbbc0bb3d"
      },
      "outputs": [
        {
          "output_type": "execute_result",
          "data": {
            "text/plain": [
              "0"
            ]
          },
          "metadata": {},
          "execution_count": 10
        }
      ],
      "source": [
        "df.duplicated().sum()"
      ]
    },
    {
      "cell_type": "markdown",
      "metadata": {
        "id": "im24IUMYmiOA"
      },
      "source": [
        "No hay valores duplicados"
      ]
    },
    {
      "cell_type": "markdown",
      "metadata": {
        "id": "wC2uFfPCmiOA"
      },
      "source": [
        "### Valores nulos"
      ]
    },
    {
      "cell_type": "code",
      "execution_count": null,
      "metadata": {
        "colab": {
          "base_uri": "https://localhost:8080/"
        },
        "id": "Gbs-EJSTmiOA",
        "outputId": "6487715b-7678-4c10-9717-74a8a5f40fea"
      },
      "outputs": [
        {
          "output_type": "execute_result",
          "data": {
            "text/plain": [
              "accountNumber                    0\n",
              "customerId                       0\n",
              "creditLimit                      0\n",
              "availableMoney                   0\n",
              "transactionDateTime              0\n",
              "transactionAmount                0\n",
              "merchantName                     0\n",
              "acqCountry                    4562\n",
              "merchantCountryCode            724\n",
              "posEntryMode                  4054\n",
              "posConditionCode               409\n",
              "merchantCategoryCode             0\n",
              "currentExpDate                   0\n",
              "accountOpenDate                  0\n",
              "dateOfLastAddressChange          0\n",
              "cardCVV                          0\n",
              "enteredCVV                       0\n",
              "cardLast4Digits                  0\n",
              "transactionType                698\n",
              "echoBuffer                  786363\n",
              "currentBalance                   0\n",
              "merchantCity                786363\n",
              "merchantState               786363\n",
              "merchantZip                 786363\n",
              "cardPresent                      0\n",
              "posOnPremises               786363\n",
              "recurringAuthInd            786363\n",
              "expirationDateKeyInMatch         0\n",
              "isFraud                          0\n",
              "dtype: int64"
            ]
          },
          "metadata": {},
          "execution_count": 11
        }
      ],
      "source": [
        "df.isnull().sum()"
      ]
    },
    {
      "cell_type": "markdown",
      "metadata": {
        "id": "Qe2h8sUdmiOA"
      },
      "source": [
        "Observamos que hay columnas con un gran número de valores faltantes, equivalente al tamaño total del conjunto de datos. Por lo tanto, eliminamos esas columnas."
      ]
    },
    {
      "cell_type": "code",
      "execution_count": null,
      "metadata": {
        "id": "f4A3xrbjmiOA"
      },
      "outputs": [],
      "source": [
        "df = df.drop(['echoBuffer', 'merchantCity', 'merchantState', 'merchantZip', 'posOnPremises', 'recurringAuthInd'], axis = 1)"
      ]
    },
    {
      "cell_type": "code",
      "execution_count": null,
      "metadata": {
        "colab": {
          "base_uri": "https://localhost:8080/"
        },
        "id": "CAU_KwOAmiOB",
        "outputId": "89fbc6e5-7a5d-4f7f-8541-d07d10fdf055"
      },
      "outputs": [
        {
          "output_type": "execute_result",
          "data": {
            "text/plain": [
              "accountNumber                  0\n",
              "customerId                     0\n",
              "creditLimit                    0\n",
              "availableMoney                 0\n",
              "transactionDateTime            0\n",
              "transactionAmount              0\n",
              "merchantName                   0\n",
              "acqCountry                  4562\n",
              "merchantCountryCode          724\n",
              "posEntryMode                4054\n",
              "posConditionCode             409\n",
              "merchantCategoryCode           0\n",
              "currentExpDate                 0\n",
              "accountOpenDate                0\n",
              "dateOfLastAddressChange        0\n",
              "cardCVV                        0\n",
              "enteredCVV                     0\n",
              "cardLast4Digits                0\n",
              "transactionType              698\n",
              "currentBalance                 0\n",
              "cardPresent                    0\n",
              "expirationDateKeyInMatch       0\n",
              "isFraud                        0\n",
              "dtype: int64"
            ]
          },
          "metadata": {},
          "execution_count": 13
        }
      ],
      "source": [
        "df.isnull().sum()"
      ]
    },
    {
      "cell_type": "markdown",
      "metadata": {
        "id": "BIkGWRTImiOB"
      },
      "source": [
        "Vamos a explorar los datos faltantes."
      ]
    },
    {
      "cell_type": "code",
      "execution_count": null,
      "metadata": {
        "colab": {
          "base_uri": "https://localhost:8080/"
        },
        "id": "x46CiAavmiOB",
        "outputId": "035d3f40-5a0f-400f-83c6-e7da8174f598"
      },
      "outputs": [
        {
          "output_type": "stream",
          "name": "stdout",
          "text": [
            "acqCountry\n",
            "US     774709\n",
            "MEX      3130\n",
            "CAN      2424\n",
            "PR       1538\n",
            "Name: count, dtype: int64\n",
            "merchantCountryCode\n",
            "US     778511\n",
            "MEX      3143\n",
            "CAN      2426\n",
            "PR       1559\n",
            "Name: count, dtype: int64\n",
            "posEntryMode\n",
            "5.0     315035\n",
            "9.0     236481\n",
            "2.0     195934\n",
            "90.0     19576\n",
            "80.0     15283\n",
            "Name: count, dtype: int64\n",
            "posConditionCode\n",
            "1.0     628787\n",
            "8.0     149634\n",
            "99.0      7533\n",
            "Name: count, dtype: int64\n",
            "transactionType\n",
            "PURCHASE                745193\n",
            "REVERSAL                 20303\n",
            "ADDRESS_VERIFICATION     20169\n",
            "Name: count, dtype: int64\n"
          ]
        }
      ],
      "source": [
        "print(df['acqCountry'].value_counts())\n",
        "print(df['merchantCountryCode'].value_counts())\n",
        "print(df['posEntryMode'].value_counts())\n",
        "print(df['posConditionCode'].value_counts())\n",
        "print(df['transactionType'].value_counts())"
      ]
    },
    {
      "cell_type": "markdown",
      "metadata": {
        "id": "pWM_dJ8NmiOB"
      },
      "source": [
        "Reemplazamos la información que es nula. Para las columnas `acqCountry`, `merchantCountryCode` y `transactionType` reemplazamos los valores nulos con `Información no disponible`.\n",
        "\n",
        "Para las columnas `posEntryMode` y `posConditionCode` elimnamos las filas nulas debido a que no podemos reemplazar los valores con un valor porque no los sabemos"
      ]
    },
    {
      "cell_type": "code",
      "execution_count": null,
      "metadata": {
        "id": "f5T7T0NCmiOC"
      },
      "outputs": [],
      "source": [
        "columns_to_fill = ['acqCountry', 'merchantCountryCode', 'transactionType']\n",
        "df[columns_to_fill] = df[columns_to_fill].fillna('Información no disponible')\n",
        "\n",
        "columns_to_dropna = ['posEntryMode', 'posConditionCode']\n",
        "df.dropna(subset=columns_to_dropna, inplace=True)\n"
      ]
    },
    {
      "cell_type": "code",
      "execution_count": null,
      "metadata": {
        "colab": {
          "base_uri": "https://localhost:8080/"
        },
        "id": "1QjeR22BmiOC",
        "outputId": "d3638de8-21b4-4851-b05b-34b5ca72d3d9"
      },
      "outputs": [
        {
          "output_type": "execute_result",
          "data": {
            "text/plain": [
              "accountNumber               0\n",
              "customerId                  0\n",
              "creditLimit                 0\n",
              "availableMoney              0\n",
              "transactionDateTime         0\n",
              "transactionAmount           0\n",
              "merchantName                0\n",
              "acqCountry                  0\n",
              "merchantCountryCode         0\n",
              "posEntryMode                0\n",
              "posConditionCode            0\n",
              "merchantCategoryCode        0\n",
              "currentExpDate              0\n",
              "accountOpenDate             0\n",
              "dateOfLastAddressChange     0\n",
              "cardCVV                     0\n",
              "enteredCVV                  0\n",
              "cardLast4Digits             0\n",
              "transactionType             0\n",
              "currentBalance              0\n",
              "cardPresent                 0\n",
              "expirationDateKeyInMatch    0\n",
              "isFraud                     0\n",
              "dtype: int64"
            ]
          },
          "metadata": {},
          "execution_count": 16
        }
      ],
      "source": [
        "df.isnull().sum()"
      ]
    },
    {
      "cell_type": "code",
      "execution_count": null,
      "metadata": {
        "colab": {
          "base_uri": "https://localhost:8080/"
        },
        "id": "N8p1TLbomiOC",
        "outputId": "b07b02d7-078c-45b9-daf9-695597be44e2"
      },
      "outputs": [
        {
          "output_type": "execute_result",
          "data": {
            "text/plain": [
              "(781903, 23)"
            ]
          },
          "metadata": {},
          "execution_count": 17
        }
      ],
      "source": [
        "df.shape"
      ]
    },
    {
      "cell_type": "markdown",
      "metadata": {
        "id": "Jx9w4hB8miOD"
      },
      "source": [
        "### Análisis de la Variable Objetivo `isFraud`"
      ]
    },
    {
      "cell_type": "code",
      "execution_count": null,
      "metadata": {
        "colab": {
          "base_uri": "https://localhost:8080/"
        },
        "id": "Ww-EQvN1miOD",
        "outputId": "9b093b08-3c48-4bba-94d5-71a62840e50b"
      },
      "outputs": [
        {
          "output_type": "execute_result",
          "data": {
            "text/plain": [
              "isFraud\n",
              "False    769776\n",
              "True      12127\n",
              "Name: count, dtype: int64"
            ]
          },
          "metadata": {},
          "execution_count": 18
        }
      ],
      "source": [
        "df['isFraud'].value_counts()"
      ]
    },
    {
      "cell_type": "code",
      "execution_count": null,
      "metadata": {
        "colab": {
          "base_uri": "https://localhost:8080/"
        },
        "id": "7LOuUYYZmiOD",
        "outputId": "011e8fdb-0248-46d4-c86a-1471c086b200"
      },
      "outputs": [
        {
          "output_type": "execute_result",
          "data": {
            "text/plain": [
              "isFraud\n",
              "False    98.44904\n",
              "True      1.55096\n",
              "Name: count, dtype: float64"
            ]
          },
          "metadata": {},
          "execution_count": 19
        }
      ],
      "source": [
        "fraud_percentage = (df['isFraud'].value_counts() / len(df)) * 100\n",
        "fraud_percentage"
      ]
    },
    {
      "cell_type": "code",
      "source": [
        "# DIvidimos\n",
        "fraud_counts = df['isFraud'].value_counts()\n",
        "fraud_labels = ['No Fraude', 'Fraude']\n",
        "\n",
        "plt.figure(figsize=(8, 6))\n",
        "plt.pie(fraud_counts, labels=fraud_labels, autopct='%1.1f%%', startangle=90, colors=['#0060ab', 'orange'])\n",
        "plt.title('Distribución de la variable objetivo')\n",
        "plt.legend(title=\"Tipo de Transacción\", labels=['No Fraude', 'Fraude'], loc=\"best\")"
      ],
      "metadata": {
        "colab": {
          "base_uri": "https://localhost:8080/",
          "height": 539
        },
        "id": "PbwWAgp0dAFL",
        "outputId": "3057a77c-4953-4101-b4b4-aff9a6520df5"
      },
      "execution_count": null,
      "outputs": [
        {
          "output_type": "execute_result",
          "data": {
            "text/plain": [
              "<matplotlib.legend.Legend at 0x7bc939545240>"
            ]
          },
          "metadata": {},
          "execution_count": 20
        },
        {
          "output_type": "display_data",
          "data": {
            "text/plain": [
              "<Figure size 800x600 with 1 Axes>"
            ],
            "image/png": "[encoded data removed]"
          },
          "metadata": {}
        }
      ]
    },
    {
      "cell_type": "code",
      "execution_count": null,
      "metadata": {
        "colab": {
          "base_uri": "https://localhost:8080/",
          "height": 429
        },
        "id": "jgnBv-MamiOE",
        "outputId": "0dd5b88f-03e2-4020-cfa5-0dca31efaa5d"
      },
      "outputs": [
        {
          "output_type": "display_data",
          "data": {
            "text/plain": [
              "<Figure size 640x480 with 1 Axes>"
            ],
            "image/png": "[encoded data removed]"
          },
          "metadata": {}
        }
      ],
      "source": [
        "df['isFraud'].value_counts().plot(kind='pie', labels=['No Fraude', 'Fraude'])\n",
        "plt.title('Distribución de la variable objetivo')\n",
        "plt.ylabel('')\n",
        "plt.show()"
      ]
    },
    {
      "cell_type": "markdown",
      "metadata": {
        "id": "J9iD9rjYmiOE"
      },
      "source": [
        "Como podemos observar el conjunto de datos presenta un desequilibrio significativo, con un número mucho mayor de transacciones no fraudulentas (773,946) en comparación con las transacciones fraudulentas (12,417)."
      ]
    },
    {
      "cell_type": "markdown",
      "metadata": {
        "id": "yV0dgVGhmiOE"
      },
      "source": [
        "Una transacción de reversión se refiere a situaciones en las que un cliente ha enviado el dinero pero aún no ha sido recibido por la cuenta del comerciante. Mientras aún está siendo procesada, la transacción puede ser revertida."
      ]
    },
    {
      "cell_type": "code",
      "execution_count": null,
      "metadata": {
        "colab": {
          "base_uri": "https://localhost:8080/"
        },
        "id": "BmOWMehZmiOF",
        "outputId": "6f608f0b-80aa-4aaa-9324-eec34b396908"
      },
      "outputs": [
        {
          "output_type": "execute_result",
          "data": {
            "text/plain": [
              "transactionType\n",
              "PURCHASE                     740944\n",
              "REVERSAL                      20187\n",
              "ADDRESS_VERIFICATION          20076\n",
              "Información no disponible       696\n",
              "Name: count, dtype: int64"
            ]
          },
          "metadata": {},
          "execution_count": 22
        }
      ],
      "source": [
        "df['transactionType'].value_counts()"
      ]
    },
    {
      "cell_type": "code",
      "execution_count": null,
      "metadata": {
        "colab": {
          "base_uri": "https://localhost:8080/",
          "height": 450
        },
        "id": "J70RIivkmiOF",
        "outputId": "989ba088-0f61-487c-8ead-1d0b60bde2be"
      },
      "outputs": [
        {
          "output_type": "display_data",
          "data": {
            "text/plain": [
              "<Figure size 640x480 with 1 Axes>"
            ],
            "image/png": "[encoded data removed]"
          },
          "metadata": {}
        }
      ],
      "source": [
        "# Definir los colores\n",
        "colors = {\n",
        "    'PURCHASE': '#0060AB',  # Azul fuerte\n",
        "    'ADDRESS_VERIFICATION': '#67A7C1',  # Azul claro\n",
        "    'REVERSAL': '#A6CEE3',  # Azul más claro\n",
        "    'Información no disponible': '#B2DF8A'  # Verde suave\n",
        "}\n",
        "\n",
        "sns.countplot(x=\"isFraud\", data=df, hue=\"transactionType\", palette=colors)\n",
        "plt.yscale('log')\n",
        "plt.show()"
      ]
    },
    {
      "cell_type": "markdown",
      "metadata": {
        "id": "ltv2LN2JmiOF"
      },
      "source": [
        "## Estudio por columnas"
      ]
    },
    {
      "cell_type": "markdown",
      "metadata": {
        "id": "HrCUWajgmiOG"
      },
      "source": [
        "### `cardLast4Digits`, `accountNumber` and `customerId`"
      ]
    },
    {
      "cell_type": "markdown",
      "metadata": {
        "id": "LP1YN27lmiOG"
      },
      "source": [
        "Eliminamos estas columnas porque no son relevantes para nuestro análisis. Estas columnas pueden utilizarse para identificar un gasto exacto, por lo que necesitamos eliminarlas."
      ]
    },
    {
      "cell_type": "code",
      "execution_count": null,
      "metadata": {
        "id": "3n73hJ8JmiON"
      },
      "outputs": [],
      "source": [
        "df = df.drop(columns=['accountNumber', 'customerId', 'cardLast4Digits'])"
      ]
    },
    {
      "cell_type": "markdown",
      "metadata": {
        "id": "3wnWfMH4miOO"
      },
      "source": [
        "### `cardCVV` and `enteredCVV`"
      ]
    },
    {
      "cell_type": "markdown",
      "metadata": {
        "id": "EopW897gmiOO"
      },
      "source": [
        "Primero creamos una nueva columna booleana para saber si cardCVV y enteredCVV son iguales."
      ]
    },
    {
      "cell_type": "code",
      "execution_count": null,
      "metadata": {
        "id": "bVRaXtVvmiOO"
      },
      "outputs": [],
      "source": [
        "df['CVV_match'] = df['cardCVV'] == df['enteredCVV']"
      ]
    },
    {
      "cell_type": "markdown",
      "metadata": {
        "id": "gAEBzqPzmiOO"
      },
      "source": [
        "Ahora las eliminamos, ya que no son útiles para nuestro análisis"
      ]
    },
    {
      "cell_type": "code",
      "execution_count": null,
      "metadata": {
        "id": "kQN5uZEcmiOO"
      },
      "outputs": [],
      "source": [
        "df = df.drop(columns=['cardCVV', 'enteredCVV'])"
      ]
    },
    {
      "cell_type": "markdown",
      "metadata": {
        "id": "mX90b3NQmiOP"
      },
      "source": [
        "### `transactionDateTime`"
      ]
    },
    {
      "cell_type": "markdown",
      "metadata": {
        "id": "VujDcHI2miOP"
      },
      "source": [
        "Lo convertimos a datatime"
      ]
    },
    {
      "cell_type": "code",
      "execution_count": null,
      "metadata": {
        "id": "szToZ1bEmiOP"
      },
      "outputs": [],
      "source": [
        "df['transactionDateTime'] = pd.to_datetime(df['transactionDateTime'])"
      ]
    },
    {
      "cell_type": "markdown",
      "metadata": {
        "id": "fFeCr0D-miOP"
      },
      "source": [
        "Extraemos las componentes temporales"
      ]
    },
    {
      "cell_type": "code",
      "execution_count": null,
      "metadata": {
        "id": "an3ckY7zmiOP"
      },
      "outputs": [],
      "source": [
        "df['transactionYear'] = df['transactionDateTime'].dt.year\n",
        "df['transactionMonth'] = df['transactionDateTime'].dt.month\n",
        "df['transactionDay'] = df['transactionDateTime'].dt.day\n",
        "df['transactionHour'] = df['transactionDateTime'].dt.hour"
      ]
    },
    {
      "cell_type": "markdown",
      "metadata": {
        "id": "KMeXyfjWmiOP"
      },
      "source": [
        "Realizamos una función para categorizar las horas del día y así hacer un análisis mas exhaustivo del momento en el que se producen los fraudes"
      ]
    },
    {
      "cell_type": "code",
      "execution_count": null,
      "metadata": {
        "id": "Xdq86BARmiOQ"
      },
      "outputs": [],
      "source": [
        "def categorize_hour(hour):\n",
        "    if 0 <= hour < 7:\n",
        "        return 'Night'\n",
        "    elif 7 <= hour < 12:\n",
        "        return 'Morning'\n",
        "    elif 12 <= hour < 17:\n",
        "        return 'Afternoon'\n",
        "    else:\n",
        "        return 'Evening'\n",
        "\n",
        "# Aplicar la función para crear una nueva columna 'timeOfDay'\n",
        "df['timeOfDay'] = df['transactionHour'].apply(categorize_hour)"
      ]
    },
    {
      "cell_type": "code",
      "execution_count": null,
      "metadata": {
        "colab": {
          "base_uri": "https://localhost:8080/"
        },
        "id": "VUWMEO7TmiOQ",
        "outputId": "97c6852c-78a0-47dd-812f-bc6f8e55c19d"
      },
      "outputs": [
        {
          "output_type": "stream",
          "name": "stdout",
          "text": [
            "isFraud     False  True  fraudRatio\n",
            "timeOfDay                          \n",
            "Afternoon  160435  2644    0.016213\n",
            "Evening    225097  3424    0.014983\n",
            "Morning    160352  2565    0.015744\n",
            "Night      223892  3494    0.015366\n"
          ]
        }
      ],
      "source": [
        "# Calcular la cantidad de transacciones fraudulentas y no fraudulentas para cada franja horaria\n",
        "fraud_by_time = df.groupby(['timeOfDay', 'isFraud']).size().unstack(fill_value=0)\n",
        "\n",
        "# Calcular la proporción de transacciones fraudulentas en cada franja horaria\n",
        "fraud_by_time['fraudRatio'] = fraud_by_time[True] / (fraud_by_time[True] + fraud_by_time[False])\n",
        "\n",
        "# Mostrar el resultado\n",
        "print(fraud_by_time)"
      ]
    },
    {
      "cell_type": "code",
      "execution_count": null,
      "metadata": {
        "colab": {
          "base_uri": "https://localhost:8080/",
          "height": 490
        },
        "id": "BiXZa3t_miOQ",
        "outputId": "37ec8730-c5e2-41f4-c451-94e7b2638573"
      },
      "outputs": [
        {
          "output_type": "execute_result",
          "data": {
            "text/plain": [
              "Text(0, 0.5, 'Número de Transacciones')"
            ]
          },
          "metadata": {},
          "execution_count": 31
        },
        {
          "output_type": "display_data",
          "data": {
            "text/plain": [
              "<Figure size 640x480 with 1 Axes>"
            ],
            "image/png": "[encoded data removed]"
          },
          "metadata": {}
        }
      ],
      "source": [
        "# Define los colores\n",
        "colores = {False: \"green\", True: \"red\"}\n",
        "sns.countplot(x='timeOfDay', hue='isFraud', data=df, palette = colores)\n",
        "plt.title('Comparación de Fraude por Momento del Día')\n",
        "plt.xlabel('Momento del Día')\n",
        "plt.ylabel('Número de Transacciones')"
      ]
    },
    {
      "cell_type": "markdown",
      "metadata": {
        "id": "icy4jeEPmiOQ"
      },
      "source": [
        "Vamos a graficar la proporción de transacciones fraudulentas en cada franja horaria"
      ]
    },
    {
      "cell_type": "code",
      "execution_count": null,
      "metadata": {
        "colab": {
          "base_uri": "https://localhost:8080/",
          "height": 636
        },
        "id": "OcuqnKlzmiOR",
        "outputId": "5823758a-4fde-4d5e-eb90-fcfbe29af46c"
      },
      "outputs": [
        {
          "output_type": "execute_result",
          "data": {
            "text/plain": [
              "Text(0.5, 1.0, 'Proporción de Transacciones Fraudulentas por Franja Horaria')"
            ]
          },
          "metadata": {},
          "execution_count": 32
        },
        {
          "output_type": "display_data",
          "data": {
            "text/plain": [
              "<Figure size 1000x600 with 1 Axes>"
            ],
            "image/png": "[encoded data removed]"
          },
          "metadata": {}
        }
      ],
      "source": [
        "plt.figure(figsize=(10, 6))\n",
        "fraud_by_time['fraudRatio'].plot(kind='bar', color='navy')\n",
        "plt.xlabel('Franja Horaria')\n",
        "plt.ylabel('Proporción de Transacciones Fraudulentas')\n",
        "plt.title('Proporción de Transacciones Fraudulentas por Franja Horaria')"
      ]
    },
    {
      "cell_type": "markdown",
      "metadata": {
        "id": "My_spIqpmiOR"
      },
      "source": [
        "### `dateOfLastAddressChange`"
      ]
    },
    {
      "cell_type": "markdown",
      "metadata": {
        "id": "dSvpzvIKmiOR"
      },
      "source": [
        "Calculamos la cantidad de días desde que cambiaron la dirección."
      ]
    },
    {
      "cell_type": "code",
      "execution_count": null,
      "metadata": {
        "id": "uXpnuvWemiOR"
      },
      "outputs": [],
      "source": [
        "df['dateOfLastAddressChange'] = pd.to_datetime(df['dateOfLastAddressChange'])"
      ]
    },
    {
      "cell_type": "markdown",
      "metadata": {
        "id": "0KcHz6dRmiOS"
      },
      "source": [
        "Calcular el tiempo pasado desde el último cambio de dirección"
      ]
    },
    {
      "cell_type": "code",
      "execution_count": null,
      "metadata": {
        "id": "8CLp1P63miOS"
      },
      "outputs": [],
      "source": [
        "df['days_since_last_address_change'] = (df['transactionDateTime'] - df['dateOfLastAddressChange']).dt.days"
      ]
    },
    {
      "cell_type": "markdown",
      "metadata": {
        "id": "qV1i0GmlmiOS"
      },
      "source": [
        "### `merchantName`"
      ]
    },
    {
      "cell_type": "code",
      "execution_count": null,
      "metadata": {
        "colab": {
          "base_uri": "https://localhost:8080/"
        },
        "id": "odsPsaQ0miOT",
        "outputId": "7b3576de-ca57-4f56-9364-9fdf639f708b"
      },
      "outputs": [
        {
          "output_type": "execute_result",
          "data": {
            "text/plain": [
              "merchantName\n",
              "Uber                             25459\n",
              "Lyft                             25366\n",
              "oldnavy.com                      16903\n",
              "staples.com                      16897\n",
              "alibaba.com                      16861\n",
              "                                 ...  \n",
              "Sprint Communications #561941        2\n",
              "Golds Gym #956354                    2\n",
              "Curves #849125                       1\n",
              "TMobile Wireless #602341             1\n",
              "EZ Wireless #149871                  1\n",
              "Name: count, Length: 2489, dtype: int64"
            ]
          },
          "metadata": {},
          "execution_count": 35
        }
      ],
      "source": [
        "df['merchantName'].value_counts()"
      ]
    },
    {
      "cell_type": "markdown",
      "metadata": {
        "id": "N6UHwknumiOT"
      },
      "source": [
        "Vamos a realizar la práctica de \"Grouping Rare Categories\". Vamos a seleccionar las 50 principales comerciantes donde ocurren más fraudes."
      ]
    },
    {
      "cell_type": "code",
      "execution_count": null,
      "metadata": {
        "colab": {
          "base_uri": "https://localhost:8080/"
        },
        "id": "BsyuJBUamiOT",
        "outputId": "6582e135-d237-4019-a756-0ed58d815db8"
      },
      "outputs": [
        {
          "output_type": "execute_result",
          "data": {
            "text/plain": [
              "['Lyft',\n",
              " 'ebay.com',\n",
              " 'Fresh Flowers',\n",
              " 'Uber',\n",
              " 'cheapfast.com',\n",
              " 'walmart.com',\n",
              " 'sears.com',\n",
              " 'oldnavy.com',\n",
              " 'staples.com',\n",
              " 'alibaba.com',\n",
              " 'gap.com',\n",
              " 'amazon.com',\n",
              " 'target.com',\n",
              " 'apple.com',\n",
              " 'discount.com',\n",
              " 'American Airlines',\n",
              " 'Fresh eCards',\n",
              " 'Blue Mountain Online Services',\n",
              " 'Next Day Online Services',\n",
              " 'Blue Mountain eCards',\n",
              " 'Fresh Online Services',\n",
              " 'Mobile eCards',\n",
              " 'Next Day eCards',\n",
              " 'Delta Airlines',\n",
              " 'Regal Cinemas #05791',\n",
              " 'EZ Putt Putt #551896',\n",
              " 'EZ Putt Putt #69446',\n",
              " 'EZ Putt Putt #40513',\n",
              " 'Regal Cinemas #276341',\n",
              " 'Regal Cinemas #729464',\n",
              " 'EZ Putt Putt #804489',\n",
              " 'EZ Putt Putt #755869',\n",
              " 'United Airlines',\n",
              " 'EZ Putt Putt #240241',\n",
              " 'EZ Putt Putt #503815',\n",
              " 'Convenient Auto Services',\n",
              " 'EZ Putt Putt #982199',\n",
              " 'Virgin Airlines',\n",
              " 'Icelandic Airlines',\n",
              " 'AMC #692956',\n",
              " 'Dinosaur Restaurant',\n",
              " 'AMC #128743',\n",
              " 'Best Pub',\n",
              " 'San Francisco Post',\n",
              " 'AMC #79863',\n",
              " 'NY BBQ',\n",
              " 'AMC #74121',\n",
              " 'Washington Tire',\n",
              " 'AMC #145832',\n",
              " 'ethanallen.com']"
            ]
          },
          "metadata": {},
          "execution_count": 36
        }
      ],
      "source": [
        "top_50_merchants = df[df['isFraud'] == True]['merchantName'].value_counts().head(50).index.tolist()\n",
        "top_50_merchants"
      ]
    },
    {
      "cell_type": "markdown",
      "metadata": {
        "id": "7iyhYyGRmiOU"
      },
      "source": [
        "Ahora vamos a crear una lista de los 50 principales comerciantes más comunes en general"
      ]
    },
    {
      "cell_type": "code",
      "execution_count": null,
      "metadata": {
        "colab": {
          "base_uri": "https://localhost:8080/"
        },
        "id": "CxI8gddnmiOU",
        "outputId": "c6806c2d-9114-4194-cfe3-314f34c49168"
      },
      "outputs": [
        {
          "output_type": "execute_result",
          "data": {
            "text/plain": [
              "['Uber',\n",
              " 'Lyft',\n",
              " 'oldnavy.com',\n",
              " 'staples.com',\n",
              " 'alibaba.com',\n",
              " 'apple.com',\n",
              " 'walmart.com',\n",
              " 'ebay.com',\n",
              " 'cheapfast.com',\n",
              " 'target.com',\n",
              " 'amazon.com',\n",
              " 'sears.com',\n",
              " 'discount.com',\n",
              " 'gap.com',\n",
              " 'Fresh Online Services',\n",
              " 'Blue Mountain eCards',\n",
              " 'Fresh Flowers',\n",
              " 'Next Day eCards',\n",
              " 'Next Day Online Services',\n",
              " 'Fresh eCards',\n",
              " 'Blue Mountain Online Services',\n",
              " 'Mobile eCards',\n",
              " 'Apple iTunes',\n",
              " 'Play Store',\n",
              " 'EZ Putt Putt #40513',\n",
              " 'EZ Putt Putt #982199',\n",
              " 'AMC #145832',\n",
              " 'Regal Cinemas #05791',\n",
              " 'EZ Putt Putt #69446',\n",
              " 'Regal Cinemas #276341',\n",
              " 'AMC #724446',\n",
              " 'AMC #191138',\n",
              " 'AMC #692956',\n",
              " 'AMC #606218',\n",
              " 'EZ Putt Putt #503815',\n",
              " 'EZ Putt Putt #804489',\n",
              " 'EZ Putt Putt #551896',\n",
              " 'EZ Putt Putt #755869',\n",
              " 'AMC #74121',\n",
              " 'AMC #79863',\n",
              " 'EZ Putt Putt #240241',\n",
              " 'AMC #128743',\n",
              " 'Regal Cinemas #729464',\n",
              " 'AMC #706324',\n",
              " 'AMC #552863',\n",
              " 'American Airlines',\n",
              " 'United Airlines',\n",
              " 'Delta Airlines',\n",
              " 'Icelandic Airlines',\n",
              " 'Virgin Airlines']"
            ]
          },
          "metadata": {},
          "execution_count": 37
        }
      ],
      "source": [
        "most_common_merchants = df['merchantName'].value_counts().head(50).index.tolist()\n",
        "most_common_merchants"
      ]
    },
    {
      "cell_type": "markdown",
      "metadata": {
        "id": "H6EJHdgCmiOU"
      },
      "source": [
        "Itera sobre una de las listas (por ejemplo, most_common_merchants) y crea columnas dummy para cada comerciante en esa lista:"
      ]
    },
    {
      "cell_type": "code",
      "execution_count": null,
      "metadata": {
        "id": "cr2GkHHvmiOU"
      },
      "outputs": [],
      "source": [
        "for merchant in most_common_merchants:\n",
        "    df[merchant] = (df['merchantName'] == merchant).astype(int)"
      ]
    },
    {
      "cell_type": "code",
      "execution_count": null,
      "metadata": {
        "colab": {
          "base_uri": "https://localhost:8080/"
        },
        "id": "ZfUXvPVEmiOV",
        "outputId": "be2e9bfa-8daa-4917-d190-920a47ba81ea"
      },
      "outputs": [
        {
          "output_type": "execute_result",
          "data": {
            "text/plain": [
              "(781903, 75)"
            ]
          },
          "metadata": {},
          "execution_count": 39
        }
      ],
      "source": [
        "df.shape"
      ]
    },
    {
      "cell_type": "code",
      "execution_count": null,
      "metadata": {
        "colab": {
          "base_uri": "https://localhost:8080/",
          "height": 718
        },
        "id": "Jbz96a71miOV",
        "outputId": "94f8600f-a0fc-4489-cf84-5f5a71fd8f09"
      },
      "outputs": [
        {
          "output_type": "display_data",
          "data": {
            "text/plain": [
              "<Figure size 1000x800 with 1 Axes>"
            ],
            "image/png": "[encoded data removed]"
          },
          "metadata": {}
        }
      ],
      "source": [
        "# Obtener los 50 principales comerciantes fraudulentos y contar la cantidad de transacciones para cada uno\n",
        "top_50_fraudulent_merchants = df['merchantName'].value_counts().head(50)\n",
        "\n",
        "# Crear el gráfico de barras horizontales\n",
        "plt.figure(figsize=(10, 8))\n",
        "top_50_fraudulent_merchants.plot(kind='barh', color='coral')\n",
        "plt.xlabel('Cantidad de transacciones fraudulentas')\n",
        "plt.ylabel('Comerciantes')\n",
        "plt.title('50 principales comerciantes con transacciones fraudulentas')\n",
        "plt.gca().invert_yaxis()  # Invertir el eje y para que el comerciante con más transacciones fraudulentas aparezca arriba\n",
        "plt.show()\n"
      ]
    },
    {
      "cell_type": "markdown",
      "metadata": {
        "id": "DEIVsHmDmiOV"
      },
      "source": [
        "## Get_dummies"
      ]
    },
    {
      "cell_type": "markdown",
      "metadata": {
        "id": "cgQP4tKJmiOW"
      },
      "source": [
        "### `merchantCategoryCode`"
      ]
    },
    {
      "cell_type": "code",
      "execution_count": null,
      "metadata": {
        "colab": {
          "base_uri": "https://localhost:8080/"
        },
        "id": "C8gA-04EmiOW",
        "outputId": "f2577e81-8480-444f-a035-05fe08d8b6b9"
      },
      "outputs": [
        {
          "output_type": "stream",
          "name": "stdout",
          "text": [
            "merchantCategoryCode\n",
            "online_retail           201036\n",
            "fastfood                111540\n",
            "entertainment            79705\n",
            "food                     75055\n",
            "online_gifts             65883\n",
            "rideshare                50825\n",
            "hotels                   33890\n",
            "fuel                     23713\n",
            "subscriptions            22771\n",
            "auto                     21516\n",
            "health                   19001\n",
            "personal care            18858\n",
            "airline                  15327\n",
            "mobileapps               14851\n",
            "online_subscriptions     11002\n",
            "furniture                 7394\n",
            "food_delivery             6000\n",
            "gym                       2186\n",
            "cable/phone               1350\n",
            "Name: count, dtype: int64\n"
          ]
        }
      ],
      "source": [
        "print(df['merchantCategoryCode'].value_counts())"
      ]
    },
    {
      "cell_type": "code",
      "execution_count": null,
      "metadata": {
        "colab": {
          "base_uri": "https://localhost:8080/"
        },
        "id": "sYtOZVTumiOW",
        "outputId": "db3378bb-3f70-41e8-805e-6e0bbd4aac6c"
      },
      "outputs": [
        {
          "output_type": "stream",
          "name": "stdout",
          "text": [
            "acqCountry\n",
            "US                           770305\n",
            "Información no disponible      4540\n",
            "MEX                            3116\n",
            "CAN                            2409\n",
            "PR                             1533\n",
            "Name: count, dtype: int64\n",
            "merchantCountryCode\n",
            "US                           774090\n",
            "MEX                            3129\n",
            "CAN                            2411\n",
            "PR                             1554\n",
            "Información no disponible       719\n",
            "Name: count, dtype: int64\n"
          ]
        }
      ],
      "source": [
        "print(df['acqCountry'].value_counts())\n",
        "print(df['merchantCountryCode'].value_counts())\n"
      ]
    },
    {
      "cell_type": "code",
      "execution_count": null,
      "metadata": {
        "colab": {
          "base_uri": "https://localhost:8080/"
        },
        "id": "kOptjtvpmiOX",
        "outputId": "05b5db22-67bf-4eef-da9a-bca121b80f75"
      },
      "outputs": [
        {
          "output_type": "stream",
          "name": "stdout",
          "text": [
            "transactionType\n",
            "PURCHASE                     740944\n",
            "REVERSAL                      20187\n",
            "ADDRESS_VERIFICATION          20076\n",
            "Información no disponible       696\n",
            "Name: count, dtype: int64\n",
            "cardPresent\n",
            "False    431014\n",
            "True     350889\n",
            "Name: count, dtype: int64\n",
            "expirationDateKeyInMatch\n",
            "False    780865\n",
            "True       1038\n",
            "Name: count, dtype: int64\n",
            "timeOfDay\n",
            "Evening      228521\n",
            "Night        227386\n",
            "Afternoon    163079\n",
            "Morning      162917\n",
            "Name: count, dtype: int64\n"
          ]
        }
      ],
      "source": [
        "print(df['transactionType'].value_counts())\n",
        "print(df['cardPresent'].value_counts())\n",
        "print(df['expirationDateKeyInMatch'].value_counts())\n",
        "print(df['timeOfDay'].value_counts())"
      ]
    },
    {
      "cell_type": "code",
      "execution_count": null,
      "metadata": {
        "id": "e1lnX-uJmiOX"
      },
      "outputs": [],
      "source": [
        "df = pd.get_dummies(df, columns=['timeOfDay', 'merchantCategoryCode','merchantCountryCode', 'acqCountry', 'expirationDateKeyInMatch', 'cardPresent', 'transactionType'])"
      ]
    },
    {
      "cell_type": "markdown",
      "metadata": {
        "id": "aSdqSB0wmiOX"
      },
      "source": [
        "## Categorical data to numerical data"
      ]
    },
    {
      "cell_type": "code",
      "execution_count": null,
      "metadata": {
        "colab": {
          "base_uri": "https://localhost:8080/"
        },
        "id": "YAmhUyvYmiOX",
        "outputId": "1f80b3ea-9624-4a27-fcb7-ce86b4163e2e"
      },
      "outputs": [
        {
          "output_type": "stream",
          "name": "stdout",
          "text": [
            "<class 'pandas.core.frame.DataFrame'>\n",
            "Index: 781903 entries, 0 to 786362\n",
            "Columns: 109 entries, creditLimit to transactionType_REVERSAL\n",
            "dtypes: bool(43), datetime64[ns](2), float64(5), int32(4), int64(52), object(3)\n",
            "memory usage: 419.8+ MB\n"
          ]
        }
      ],
      "source": [
        "df.info()"
      ]
    },
    {
      "cell_type": "markdown",
      "metadata": {
        "id": "JnAzX-fWmiOY"
      },
      "source": [
        "Eliminamos estas columnas:\n",
        "* `currentExpDate` y `accountOpenDate`: no son relevantes para nuestro análisis\n",
        "* `dateOfLastAddressChange` y `transactionDateTime`: ya las hemos utilizado y analizado\n",
        "* `merchantName`: hemos aplicado dummies para diferenciar las 50 empresas más frecuentes"
      ]
    },
    {
      "cell_type": "code",
      "execution_count": null,
      "metadata": {
        "id": "FZZdWRc-miOY"
      },
      "outputs": [],
      "source": [
        "df = df.drop(['currentExpDate', 'accountOpenDate', 'dateOfLastAddressChange', 'transactionDateTime', 'merchantName'], axis = 1)"
      ]
    },
    {
      "cell_type": "code",
      "execution_count": null,
      "metadata": {
        "colab": {
          "base_uri": "https://localhost:8080/",
          "height": 272
        },
        "id": "xROOPorImiOY",
        "outputId": "7b294904-c379-47c0-8db9-2d5371aec69c"
      },
      "outputs": [
        {
          "output_type": "execute_result",
          "data": {
            "text/plain": [
              "   creditLimit  availableMoney  transactionAmount  posEntryMode  \\\n",
              "0         5000          5000.0              98.55           2.0   \n",
              "1         5000          5000.0              74.51           9.0   \n",
              "2         5000          5000.0               7.47           9.0   \n",
              "3         5000          5000.0               7.47           9.0   \n",
              "4         5000          5000.0              71.18           2.0   \n",
              "\n",
              "   posConditionCode  currentBalance  isFraud  CVV_match  transactionYear  \\\n",
              "0               1.0             0.0    False       True             2016   \n",
              "1               1.0             0.0    False       True             2016   \n",
              "2               1.0             0.0    False       True             2016   \n",
              "3               1.0             0.0    False       True             2016   \n",
              "4               1.0             0.0    False       True             2016   \n",
              "\n",
              "   transactionMonth  ...  acqCountry_PR  acqCountry_US  \\\n",
              "0                 8  ...          False           True   \n",
              "1                10  ...          False           True   \n",
              "2                11  ...          False           True   \n",
              "3                12  ...          False           True   \n",
              "4                 3  ...          False           True   \n",
              "\n",
              "   expirationDateKeyInMatch_False  expirationDateKeyInMatch_True  \\\n",
              "0                            True                          False   \n",
              "1                            True                          False   \n",
              "2                            True                          False   \n",
              "3                            True                          False   \n",
              "4                            True                          False   \n",
              "\n",
              "   cardPresent_False  cardPresent_True  transactionType_ADDRESS_VERIFICATION  \\\n",
              "0               True             False                                 False   \n",
              "1              False              True                                 False   \n",
              "2               True             False                                 False   \n",
              "3               True             False                                 False   \n",
              "4              False              True                                 False   \n",
              "\n",
              "   transactionType_Información no disponible  transactionType_PURCHASE  \\\n",
              "0                                      False                      True   \n",
              "1                                      False                      True   \n",
              "2                                      False                      True   \n",
              "3                                      False                      True   \n",
              "4                                      False                      True   \n",
              "\n",
              "   transactionType_REVERSAL  \n",
              "0                     False  \n",
              "1                     False  \n",
              "2                     False  \n",
              "3                     False  \n",
              "4                     False  \n",
              "\n",
              "[5 rows x 104 columns]"
            ],
            "text/html": [
              "\n",
              "  <div id=\"df-5c8882b5-d676-4e70-b126-f7fc1b8a0def\" class=\"colab-df-container\">\n",
              "    <div>\n",
              "<style scoped>\n",
              "    .dataframe tbody tr th:only-of-type {\n",
              "        vertical-align: middle;\n",
              "    }\n",
              "\n",
              "    .dataframe tbody tr th {\n",
              "        vertical-align: top;\n",
              "    }\n",
              "\n",
              "    .dataframe thead th {\n",
              "        text-align: right;\n",
              "    }\n",
              "</style>\n",
              "<table border=\"1\" class=\"dataframe\">\n",
              "  <thead>\n",
              "    <tr style=\"text-align: right;\">\n",
              "      <th></th>\n",
              "      <th>creditLimit</th>\n",
              "      <th>availableMoney</th>\n",
              "      <th>transactionAmount</th>\n",
              "      <th>posEntryMode</th>\n",
              "      <th>posConditionCode</th>\n",
              "      <th>currentBalance</th>\n",
              "      <th>isFraud</th>\n",
              "      <th>CVV_match</th>\n",
              "      <th>transactionYear</th>\n",
              "      <th>transactionMonth</th>\n",
              "      <th>...</th>\n",
              "      <th>acqCountry_PR</th>\n",
              "      <th>acqCountry_US</th>\n",
              "      <th>expirationDateKeyInMatch_False</th>\n",
              "      <th>expirationDateKeyInMatch_True</th>\n",
              "      <th>cardPresent_False</th>\n",
              "      <th>cardPresent_True</th>\n",
              "      <th>transactionType_ADDRESS_VERIFICATION</th>\n",
              "      <th>transactionType_Información no disponible</th>\n",
              "      <th>transactionType_PURCHASE</th>\n",
              "      <th>transactionType_REVERSAL</th>\n",
              "    </tr>\n",
              "  </thead>\n",
              "  <tbody>\n",
              "    <tr>\n",
              "      <th>0</th>\n",
              "      <td>5000</td>\n",
              "      <td>5000.0</td>\n",
              "      <td>98.55</td>\n",
              "      <td>2.0</td>\n",
              "      <td>1.0</td>\n",
              "      <td>0.0</td>\n",
              "      <td>False</td>\n",
              "      <td>True</td>\n",
              "      <td>2016</td>\n",
              "      <td>8</td>\n",
              "      <td>...</td>\n",
              "      <td>False</td>\n",
              "      <td>True</td>\n",
              "      <td>True</td>\n",
              "      <td>False</td>\n",
              "      <td>True</td>\n",
              "      <td>False</td>\n",
              "      <td>False</td>\n",
              "      <td>False</td>\n",
              "      <td>True</td>\n",
              "      <td>False</td>\n",
              "    </tr>\n",
              "    <tr>\n",
              "      <th>1</th>\n",
              "      <td>5000</td>\n",
              "      <td>5000.0</td>\n",
              "      <td>74.51</td>\n",
              "      <td>9.0</td>\n",
              "      <td>1.0</td>\n",
              "      <td>0.0</td>\n",
              "      <td>False</td>\n",
              "      <td>True</td>\n",
              "      <td>2016</td>\n",
              "      <td>10</td>\n",
              "      <td>...</td>\n",
              "      <td>False</td>\n",
              "      <td>True</td>\n",
              "      <td>True</td>\n",
              "      <td>False</td>\n",
              "      <td>False</td>\n",
              "      <td>True</td>\n",
              "      <td>False</td>\n",
              "      <td>False</td>\n",
              "      <td>True</td>\n",
              "      <td>False</td>\n",
              "    </tr>\n",
              "    <tr>\n",
              "      <th>2</th>\n",
              "      <td>5000</td>\n",
              "      <td>5000.0</td>\n",
              "      <td>7.47</td>\n",
              "      <td>9.0</td>\n",
              "      <td>1.0</td>\n",
              "      <td>0.0</td>\n",
              "      <td>False</td>\n",
              "      <td>True</td>\n",
              "      <td>2016</td>\n",
              "      <td>11</td>\n",
              "      <td>...</td>\n",
              "      <td>False</td>\n",
              "      <td>True</td>\n",
              "      <td>True</td>\n",
              "      <td>False</td>\n",
              "      <td>True</td>\n",
              "      <td>False</td>\n",
              "      <td>False</td>\n",
              "      <td>False</td>\n",
              "      <td>True</td>\n",
              "      <td>False</td>\n",
              "    </tr>\n",
              "    <tr>\n",
              "      <th>3</th>\n",
              "      <td>5000</td>\n",
              "      <td>5000.0</td>\n",
              "      <td>7.47</td>\n",
              "      <td>9.0</td>\n",
              "      <td>1.0</td>\n",
              "      <td>0.0</td>\n",
              "      <td>False</td>\n",
              "      <td>True</td>\n",
              "      <td>2016</td>\n",
              "      <td>12</td>\n",
              "      <td>...</td>\n",
              "      <td>False</td>\n",
              "      <td>True</td>\n",
              "      <td>True</td>\n",
              "      <td>False</td>\n",
              "      <td>True</td>\n",
              "      <td>False</td>\n",
              "      <td>False</td>\n",
              "      <td>False</td>\n",
              "      <td>True</td>\n",
              "      <td>False</td>\n",
              "    </tr>\n",
              "    <tr>\n",
              "      <th>4</th>\n",
              "      <td>5000</td>\n",
              "      <td>5000.0</td>\n",
              "      <td>71.18</td>\n",
              "      <td>2.0</td>\n",
              "      <td>1.0</td>\n",
              "      <td>0.0</td>\n",
              "      <td>False</td>\n",
              "      <td>True</td>\n",
              "      <td>2016</td>\n",
              "      <td>3</td>\n",
              "      <td>...</td>\n",
              "      <td>False</td>\n",
              "      <td>True</td>\n",
              "      <td>True</td>\n",
              "      <td>False</td>\n",
              "      <td>False</td>\n",
              "      <td>True</td>\n",
              "      <td>False</td>\n",
              "      <td>False</td>\n",
              "      <td>True</td>\n",
              "      <td>False</td>\n",
              "    </tr>\n",
              "  </tbody>\n",
              "</table>\n",
              "<p>5 rows × 104 columns</p>\n",
              "</div>\n",
              "    <div class=\"colab-df-buttons\">\n",
              "\n",
              "  <div class=\"colab-df-container\">\n",
              "    <button class=\"colab-df-convert\" onclick=\"convertToInteractive('df-5c8882b5-d676-4e70-b126-f7fc1b8a0def')\"\n",
              "            title=\"Convert this dataframe to an interactive table.\"\n",
              "            style=\"display:none;\">\n",
              "\n",
              "  <svg xmlns=\"http://www.w3.org/2000/svg\" height=\"24px\" viewBox=\"0 -960 960 960\">\n",
              "    <path d=\"M120-120v-720h720v720H120Zm60-500h600v-160H180v160Zm220 220h160v-160H400v160Zm0 220h160v-160H400v160ZM180-400h160v-160H180v160Zm440 0h160v-160H620v160ZM180-180h160v-160H180v160Zm440 0h160v-160H620v160Z\"/>\n",
              "  </svg>\n",
              "    </button>\n",
              "\n",
              "  <style>\n",
              "    .colab-df-container {\n",
              "      display:flex;\n",
              "      gap: 12px;\n",
              "    }\n",
              "\n",
              "    .colab-df-convert {\n",
              "      background-color: #E8F0FE;\n",
              "      border: none;\n",
              "      border-radius: 50%;\n",
              "      cursor: pointer;\n",
              "      display: none;\n",
              "      fill: #1967D2;\n",
              "      height: 32px;\n",
              "      padding: 0 0 0 0;\n",
              "      width: 32px;\n",
              "    }\n",
              "\n",
              "    .colab-df-convert:hover {\n",
              "      background-color: #E2EBFA;\n",
              "      box-shadow: 0px 1px 2px rgba(60, 64, 67, 0.3), 0px 1px 3px 1px rgba(60, 64, 67, 0.15);\n",
              "      fill: #174EA6;\n",
              "    }\n",
              "\n",
              "    .colab-df-buttons div {\n",
              "      margin-bottom: 4px;\n",
              "    }\n",
              "\n",
              "    [theme=dark] .colab-df-convert {\n",
              "      background-color: #3B4455;\n",
              "      fill: #D2E3FC;\n",
              "    }\n",
              "\n",
              "    [theme=dark] .colab-df-convert:hover {\n",
              "      background-color: #434B5C;\n",
              "      box-shadow: 0px 1px 3px 1px rgba(0, 0, 0, 0.15);\n",
              "      filter: drop-shadow(0px 1px 2px rgba(0, 0, 0, 0.3));\n",
              "      fill: #FFFFFF;\n",
              "    }\n",
              "  </style>\n",
              "\n",
              "    <script>\n",
              "      const buttonEl =\n",
              "        document.querySelector('#df-5c8882b5-d676-4e70-b126-f7fc1b8a0def button.colab-df-convert');\n",
              "      buttonEl.style.display =\n",
              "        google.colab.kernel.accessAllowed ? 'block' : 'none';\n",
              "\n",
              "      async function convertToInteractive(key) {\n",
              "        const element = document.querySelector('#df-5c8882b5-d676-4e70-b126-f7fc1b8a0def');\n",
              "        const dataTable =\n",
              "          await google.colab.kernel.invokeFunction('convertToInteractive',\n",
              "                                                    [key], {});\n",
              "        if (!dataTable) return;\n",
              "\n",
              "        const docLinkHtml = 'Like what you see? Visit the ' +\n",
              "          '<a target=\"_blank\" href=https://colab.research.google.com/notebooks/data_table.ipynb>data table notebook</a>'\n",
              "          + ' to learn more about interactive tables.';\n",
              "        element.innerHTML = '';\n",
              "        dataTable['output_type'] = 'display_data';\n",
              "        await google.colab.output.renderOutput(dataTable, element);\n",
              "        const docLink = document.createElement('div');\n",
              "        docLink.innerHTML = docLinkHtml;\n",
              "        element.appendChild(docLink);\n",
              "      }\n",
              "    </script>\n",
              "  </div>\n",
              "\n",
              "\n",
              "<div id=\"df-d22a5ee8-00bb-4c6f-b71b-08519d4f192d\">\n",
              "  <button class=\"colab-df-quickchart\" onclick=\"quickchart('df-d22a5ee8-00bb-4c6f-b71b-08519d4f192d')\"\n",
              "            title=\"Suggest charts\"\n",
              "            style=\"display:none;\">\n",
              "\n",
              "<svg xmlns=\"http://www.w3.org/2000/svg\" height=\"24px\"viewBox=\"0 0 24 24\"\n",
              "     width=\"24px\">\n",
              "    <g>\n",
              "        <path d=\"M19 3H5c-1.1 0-2 .9-2 2v14c0 1.1.9 2 2 2h14c1.1 0 2-.9 2-2V5c0-1.1-.9-2-2-2zM9 17H7v-7h2v7zm4 0h-2V7h2v10zm4 0h-2v-4h2v4z\"/>\n",
              "    </g>\n",
              "</svg>\n",
              "  </button>\n",
              "\n",
              "<style>\n",
              "  .colab-df-quickchart {\n",
              "      --bg-color: #E8F0FE;\n",
              "      --fill-color: #1967D2;\n",
              "      --hover-bg-color: #E2EBFA;\n",
              "      --hover-fill-color: #174EA6;\n",
              "      --disabled-fill-color: #AAA;\n",
              "      --disabled-bg-color: #DDD;\n",
              "  }\n",
              "\n",
              "  [theme=dark] .colab-df-quickchart {\n",
              "      --bg-color: #3B4455;\n",
              "      --fill-color: #D2E3FC;\n",
              "      --hover-bg-color: #434B5C;\n",
              "      --hover-fill-color: #FFFFFF;\n",
              "      --disabled-bg-color: #3B4455;\n",
              "      --disabled-fill-color: #666;\n",
              "  }\n",
              "\n",
              "  .colab-df-quickchart {\n",
              "    background-color: var(--bg-color);\n",
              "    border: none;\n",
              "    border-radius: 50%;\n",
              "    cursor: pointer;\n",
              "    display: none;\n",
              "    fill: var(--fill-color);\n",
              "    height: 32px;\n",
              "    padding: 0;\n",
              "    width: 32px;\n",
              "  }\n",
              "\n",
              "  .colab-df-quickchart:hover {\n",
              "    background-color: var(--hover-bg-color);\n",
              "    box-shadow: 0 1px 2px rgba(60, 64, 67, 0.3), 0 1px 3px 1px rgba(60, 64, 67, 0.15);\n",
              "    fill: var(--button-hover-fill-color);\n",
              "  }\n",
              "\n",
              "  .colab-df-quickchart-complete:disabled,\n",
              "  .colab-df-quickchart-complete:disabled:hover {\n",
              "    background-color: var(--disabled-bg-color);\n",
              "    fill: var(--disabled-fill-color);\n",
              "    box-shadow: none;\n",
              "  }\n",
              "\n",
              "  .colab-df-spinner {\n",
              "    border: 2px solid var(--fill-color);\n",
              "    border-color: transparent;\n",
              "    border-bottom-color: var(--fill-color);\n",
              "    animation:\n",
              "      spin 1s steps(1) infinite;\n",
              "  }\n",
              "\n",
              "  @keyframes spin {\n",
              "    0% {\n",
              "      border-color: transparent;\n",
              "      border-bottom-color: var(--fill-color);\n",
              "      border-left-color: var(--fill-color);\n",
              "    }\n",
              "    20% {\n",
              "      border-color: transparent;\n",
              "      border-left-color: var(--fill-color);\n",
              "      border-top-color: var(--fill-color);\n",
              "    }\n",
              "    30% {\n",
              "      border-color: transparent;\n",
              "      border-left-color: var(--fill-color);\n",
              "      border-top-color: var(--fill-color);\n",
              "      border-right-color: var(--fill-color);\n",
              "    }\n",
              "    40% {\n",
              "      border-color: transparent;\n",
              "      border-right-color: var(--fill-color);\n",
              "      border-top-color: var(--fill-color);\n",
              "    }\n",
              "    60% {\n",
              "      border-color: transparent;\n",
              "      border-right-color: var(--fill-color);\n",
              "    }\n",
              "    80% {\n",
              "      border-color: transparent;\n",
              "      border-right-color: var(--fill-color);\n",
              "      border-bottom-color: var(--fill-color);\n",
              "    }\n",
              "    90% {\n",
              "      border-color: transparent;\n",
              "      border-bottom-color: var(--fill-color);\n",
              "    }\n",
              "  }\n",
              "</style>\n",
              "\n",
              "  <script>\n",
              "    async function quickchart(key) {\n",
              "      const quickchartButtonEl =\n",
              "        document.querySelector('#' + key + ' button');\n",
              "      quickchartButtonEl.disabled = true;  // To prevent multiple clicks.\n",
              "      quickchartButtonEl.classList.add('colab-df-spinner');\n",
              "      try {\n",
              "        const charts = await google.colab.kernel.invokeFunction(\n",
              "            'suggestCharts', [key], {});\n",
              "      } catch (error) {\n",
              "        console.error('Error during call to suggestCharts:', error);\n",
              "      }\n",
              "      quickchartButtonEl.classList.remove('colab-df-spinner');\n",
              "      quickchartButtonEl.classList.add('colab-df-quickchart-complete');\n",
              "    }\n",
              "    (() => {\n",
              "      let quickchartButtonEl =\n",
              "        document.querySelector('#df-d22a5ee8-00bb-4c6f-b71b-08519d4f192d button');\n",
              "      quickchartButtonEl.style.display =\n",
              "        google.colab.kernel.accessAllowed ? 'block' : 'none';\n",
              "    })();\n",
              "  </script>\n",
              "</div>\n",
              "    </div>\n",
              "  </div>\n"
            ],
            "application/vnd.google.colaboratory.intrinsic+json": {
              "type": "dataframe",
              "variable_name": "df"
            }
          },
          "metadata": {},
          "execution_count": 47
        }
      ],
      "source": [
        "df.head()"
      ]
    },
    {
      "cell_type": "markdown",
      "metadata": {
        "id": "KWwX0uK6miOY"
      },
      "source": [
        "Vamos a reemplazar todos los valore booleaos a 1 y 0"
      ]
    },
    {
      "cell_type": "code",
      "execution_count": null,
      "metadata": {
        "id": "o9OhCp-AmiOZ"
      },
      "outputs": [],
      "source": [
        "df.replace({True: 1, False: 0}, inplace=True)"
      ]
    },
    {
      "cell_type": "code",
      "execution_count": null,
      "metadata": {
        "colab": {
          "base_uri": "https://localhost:8080/"
        },
        "id": "fVixcDitmiOZ",
        "outputId": "87aa1c96-d0ac-4789-acc0-e4ecf9af76bb"
      },
      "outputs": [
        {
          "output_type": "execute_result",
          "data": {
            "text/plain": [
              "int64      95\n",
              "float64     5\n",
              "int32       4\n",
              "Name: count, dtype: int64"
            ]
          },
          "metadata": {},
          "execution_count": 49
        }
      ],
      "source": [
        "df.dtypes.value_counts()\n"
      ]
    },
    {
      "cell_type": "markdown",
      "source": [
        "Guardamos datos, para organizar los ficheros"
      ],
      "metadata": {
        "id": "J-r7SUb1WK_1"
      }
    },
    {
      "cell_type": "code",
      "source": [
        "df.to_csv('transactions_cleaned.csv', index=False)"
      ],
      "metadata": {
        "id": "v6JUCdrzWAz9"
      },
      "execution_count": null,
      "outputs": []
    },
    {
      "cell_type": "code",
      "source": [
        "df.info()"
      ],
      "metadata": {
        "id": "2-Y3Np5P-aqL",
        "outputId": "620f0d9a-cfce-4a84-bfe2-c131fa470c82",
        "colab": {
          "base_uri": "https://localhost:8080/"
        }
      },
      "execution_count": null,
      "outputs": [
        {
          "output_type": "stream",
          "name": "stdout",
          "text": [
            "<class 'pandas.core.frame.DataFrame'>\n",
            "Index: 781903 entries, 0 to 786362\n",
            "Columns: 104 entries, creditLimit to transactionType_REVERSAL\n",
            "dtypes: float64(5), int32(4), int64(95)\n",
            "memory usage: 614.4 MB\n"
          ]
        }
      ]
    },
    {
      "cell_type": "code",
      "execution_count": null,
      "metadata": {
        "id": "oziyzGqnmiOZ"
      },
      "outputs": [],
      "source": [
        "# df['posEntryMode'] = df['posEntryMode'].astype(float)\n",
        "# df['posConditionCode'] = df['posConditionCode'].astype(float)"
      ]
    }
  ],
  "metadata": {
    "colab": {
      "provenance": []
    },
    "kernelspec": {
      "display_name": "Python 3",
      "language": "python",
      "name": "python3"
    },
    "language_info": {
      "codemirror_mode": {
        "name": "ipython",
        "version": 3
      },
      "file_extension": ".py",
      "mimetype": "text/x-python",
      "name": "python",
      "nbconvert_exporter": "python",
      "pygments_lexer": "ipython3",
      "version": "3.12.2"
    }
  },
  "nbformat": 4,
  "nbformat_minor": 0
}